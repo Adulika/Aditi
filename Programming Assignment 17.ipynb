{
 "cells": [
  {
   "cell_type": "raw",
   "id": "1117c386",
   "metadata": {},
   "source": [
    "Question1. Create a function that takes three arguments a, b, c and returns the sum of the numbers that are evenly divided by c from the range a, b inclusive.\n",
    "Examples\n",
    "evenly_divisible(1, 10, 20) ➞ 0\n",
    "# No number between 1 and 10 can be evenly divided by 20.\n",
    "\n",
    "evenly_divisible(1, 10, 2) ➞ 30\n",
    "# 2 + 4 + 6 + 8 + 10 = 30\n",
    "\n",
    "evenly_divisible(1, 10, 3) ➞ 18\n",
    "# 3 + 6 + 9 = 18"
   ]
  },
  {
   "cell_type": "code",
   "execution_count": 6,
   "id": "8405c359",
   "metadata": {},
   "outputs": [
    {
     "name": "stdout",
     "output_type": "stream",
     "text": [
      "0\n",
      "12\n",
      "9\n"
     ]
    }
   ],
   "source": [
    "def evenly_divisible(a, b, c):\n",
    "    total = 0\n",
    "    for i in range(a, b+1):\n",
    "        if i % c == 0:\n",
    "            total += i\n",
    "    return total\n",
    "print(evenly_divisible(14, 23, 45))\n",
    "print(evenly_divisible(1, 6, 2))  \n",
    "print(evenly_divisible(2, 8, 3))  "
   ]
  },
  {
   "cell_type": "raw",
   "id": "ab88f183",
   "metadata": {},
   "source": [
    "Question2. Create a function that returns True if a given inequality expression is correct and False otherwise.\n",
    "Examples\n",
    "correct_signs(\"3 < 7 < 11\") ➞ True\n",
    "\n",
    "correct_signs(\"13 > 44 > 33 > 1\") ➞ False\n",
    "\n",
    "correct_signs(\"1 < 2 < 6 < 9 > 3\") ➞ True"
   ]
  },
  {
   "cell_type": "code",
   "execution_count": 8,
   "id": "fd8f3cfa",
   "metadata": {},
   "outputs": [
    {
     "name": "stdout",
     "output_type": "stream",
     "text": [
      "True\n",
      "False\n",
      "False\n"
     ]
    }
   ],
   "source": [
    "def correct_signs(expression):\n",
    "    return eval(expression)\n",
    "print(correct_signs(\"5 < 9 < 17\"))     \n",
    "print(correct_signs(\"23 > 74 > 53 > 3\")) \n",
    "print(correct_signs(\"7 < 2 < 9 < 11 > 21\")) "
   ]
  },
  {
   "cell_type": "raw",
   "id": "f76c0586",
   "metadata": {},
   "source": [
    "Question3. Create a function that replaces all the vowels in a string with a specified character.\n",
    "Examples\n",
    "replace_vowels(\"the aardvark\", \"#\") ➞ \"th# ##rdv#rk\"\n",
    "\n",
    "replace_vowels(\"minnie mouse\", \"?\") ➞ \"m?nn?? m??s?\"\n",
    "\n",
    "replace_vowels(\"shakespeare\", \"*\") ➞ \"sh*k*sp**r*\""
   ]
  },
  {
   "cell_type": "code",
   "execution_count": 15,
   "id": "ce824635",
   "metadata": {},
   "outputs": [
    {
     "name": "stdout",
     "output_type": "stream",
     "text": [
      "th% %ttr%b%t%\n",
      "m@sc@ll@n@@@s\n",
      "$nb$l$$v$bl$\n"
     ]
    }
   ],
   "source": [
    "def replace_vowels(input_str, replace_char):\n",
    "    vowels = \"aeiouAEIOU\"\n",
    "    result_str = ''.join([replace_char if char in vowels else char for char in input_str])\n",
    "    return result_str\n",
    "print(replace_vowels(\"the attribute\", \"%\"))\n",
    "print(replace_vowels(\"miscellaneous\", \"@\"))   \n",
    "print(replace_vowels(\"unbelievable\", \"$\"))   "
   ]
  },
  {
   "cell_type": "raw",
   "id": "2a6efc64",
   "metadata": {},
   "source": [
    "Question4. Write a function that calculates the factorial of a number recursively.\n",
    "Examples\n",
    "factorial(5) ➞ 120\n",
    "\n",
    "factorial(3) ➞ 6\n",
    "\n",
    "factorial(1) ➞ 1\n",
    "\n",
    "factorial(0) ➞ 1"
   ]
  },
  {
   "cell_type": "code",
   "execution_count": 20,
   "id": "87c02e30",
   "metadata": {},
   "outputs": [
    {
     "name": "stdout",
     "output_type": "stream",
     "text": [
      "720\n",
      "6\n",
      "362880\n",
      "479001600\n"
     ]
    }
   ],
   "source": [
    "def factorial(n):\n",
    "    if n == 0 or n == 1:\n",
    "        return 1\n",
    "    else:\n",
    "        return n * factorial(n - 1)\n",
    "print(factorial(6))  \n",
    "print(factorial(3))  \n",
    "print(factorial(9))  \n",
    "print(factorial(12)) "
   ]
  },
  {
   "cell_type": "raw",
   "id": "6f844b55",
   "metadata": {},
   "source": [
    "Question 5\n",
    "Hamming distance is the number of characters that differ between two strings.\n",
    "To illustrate:\n",
    "String1: \"abcbba\"\n",
    "String2: \"abcbda\"\n",
    "\n",
    "Hamming Distance: 1 - \"b\" vs. \"d\" is the only difference.\n",
    "Create a function that computes the hamming distance between two strings.\n",
    "Examples\n",
    "hamming_distance(\"abcde\", \"bcdef\") ➞ 5\n",
    "\n",
    "hamming_distance(\"abcde\", \"abcde\") ➞ 0\n",
    "\n",
    "hamming_distance(\"strong\", \"strung\") ➞ 1"
   ]
  },
  {
   "cell_type": "code",
   "execution_count": 24,
   "id": "b0969a38",
   "metadata": {},
   "outputs": [
    {
     "name": "stdout",
     "output_type": "stream",
     "text": [
      "Hamming Distance between 'abcbba' and 'abcbda': 1\n"
     ]
    }
   ],
   "source": [
    "def hamming_distance(str1, str2):\n",
    "    if len(str1) != len(str2):\n",
    "        raise ValueError(\"Input strings must have the same length\")\n",
    "    return sum(c1 != c2 for c1, c2 in zip(str1, str2))\n",
    "string1 = \"abcbba\"\n",
    "string2 = \"abcbda\"\n",
    "distance = hamming_distance(string1, string2)\n",
    "print(f\"Hamming Distance between '{string1}' and '{string2}': {distance}\")"
   ]
  },
  {
   "cell_type": "code",
   "execution_count": null,
   "id": "5c98c067",
   "metadata": {},
   "outputs": [],
   "source": []
  },
  {
   "cell_type": "code",
   "execution_count": null,
   "id": "98300916",
   "metadata": {},
   "outputs": [],
   "source": []
  }
 ],
 "metadata": {
  "kernelspec": {
   "display_name": "Python 3 (ipykernel)",
   "language": "python",
   "name": "python3"
  },
  "language_info": {
   "codemirror_mode": {
    "name": "ipython",
    "version": 3
   },
   "file_extension": ".py",
   "mimetype": "text/x-python",
   "name": "python",
   "nbconvert_exporter": "python",
   "pygments_lexer": "ipython3",
   "version": "3.9.13"
  }
 },
 "nbformat": 4,
 "nbformat_minor": 5
}
