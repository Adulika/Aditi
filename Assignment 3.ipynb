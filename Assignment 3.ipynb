{
 "cells": [
  {
   "cell_type": "raw",
   "id": "d378f233",
   "metadata": {},
   "source": [
    "# Assignment 3"
   ]
  },
  {
   "cell_type": "raw",
   "id": "d91895c6",
   "metadata": {},
   "source": [
    "Q1. Why are functions advantageous to have in your programs?"
   ]
  },
  {
   "cell_type": "raw",
   "id": "11d3fa96",
   "metadata": {},
   "source": [
    "1. Functions allow you to break down a program into smaller, more manageable parts. By defining functions for specific tasks, you can reuse those functions throughout your program, as well as in other programs.\n",
    "2. Functions also allow you to hide the implementation details of a particular task behind a well-defined interface. This makes it easier to use and understand the code, and reduces the chance of errors.\n",
    "3. By breaking down a program into functions, you can make the code simpler and easier to understand. Functions can be given meaningful names, which makes it easier to understand what the function does just by looking at its name.\n",
    "4. Functions allow you to test and debug a program in smaller and more manageable parts. By testing each function individually, you can ensure that each function works correctly before moving on to the next one.\n",
    "5. Functions make it easier to maintain and update code. If a particular function needs to be modified or updated then you can make the changes to that function without affecting the rest of the code."
   ]
  },
  {
   "cell_type": "raw",
   "id": "1dba59dd",
   "metadata": {},
   "source": [
    "Q2. When does the code in a function run: when it's specified or when it's called?"
   ]
  },
  {
   "cell_type": "raw",
   "id": "4b8fd0ed",
   "metadata": {},
   "source": [
    "The code in a function runs when the function is called, not when it is specified."
   ]
  },
  {
   "cell_type": "code",
   "execution_count": 1,
   "id": "a52b307f",
   "metadata": {},
   "outputs": [
    {
     "name": "stdout",
     "output_type": "stream",
     "text": [
      "Aditi is chilling\n",
      "Hello from Aditi!\n",
      "Aditi is busy\n"
     ]
    }
   ],
   "source": [
    "def my_function():\n",
    "    print(\"Hello from Aditi!\")\n",
    "print(\"Aditi is chilling\")\n",
    "my_function()\n",
    "print(\"Aditi is busy\")"
   ]
  },
  {
   "cell_type": "raw",
   "id": "088fbd66",
   "metadata": {},
   "source": [
    "Q3. What statement creates a function?"
   ]
  },
  {
   "cell_type": "raw",
   "id": "d96a372a",
   "metadata": {},
   "source": [
    "The def keyword tells Python that you are defining a new function and the function name is followed by '()' which may contain any input arguments that the function requires."
   ]
  },
  {
   "cell_type": "code",
   "execution_count": 10,
   "id": "16a39c66",
   "metadata": {},
   "outputs": [],
   "source": [
    "def add_numbers(x, y):\n",
    "    result = x + y\n",
    "    return result"
   ]
  },
  {
   "cell_type": "code",
   "execution_count": 12,
   "id": "b7537d2c",
   "metadata": {},
   "outputs": [
    {
     "name": "stdout",
     "output_type": "stream",
     "text": [
      "10\n"
     ]
    }
   ],
   "source": [
    "sum = add_numbers(6,4)\n",
    "print(sum)"
   ]
  },
  {
   "cell_type": "raw",
   "id": "a3a0f93c",
   "metadata": {},
   "source": [
    "Q4. What is the difference between a function and a function call?"
   ]
  },
  {
   "cell_type": "raw",
   "id": "7ec5f463",
   "metadata": {},
   "source": [
    "A function is a block of code that performs a specific task when it is called. It is defined using the def keyword, followed by the function name and a set of parentheses, and may take zero or more input arguments.\n",
    "\n",
    "On the other hand, function call is the actual execution of the function. When you call a function, you pass any required input arguments into the function, and the function executes the code within its block."
   ]
  },
  {
   "cell_type": "raw",
   "id": "d6549e8b",
   "metadata": {},
   "source": [
    "Q5. How many global scopes are there in a Python program? How many local scopes?"
   ]
  },
  {
   "cell_type": "raw",
   "id": "8240a1b1",
   "metadata": {},
   "source": [
    "There is one global scope per program, which is created when the program starts running. Any variables, functions, or classes defined at the top level of a module file or outside of any functions or classes, are defined in the global scope and can be accessed from anywhere in the program.\n",
    "\n",
    "In addition to the global scope there can be many local scopes in a Python program. Each function call creates a new local scope which is destroyed when the function returns."
   ]
  },
  {
   "cell_type": "code",
   "execution_count": 13,
   "id": "cffe7167",
   "metadata": {},
   "outputs": [
    {
     "name": "stdout",
     "output_type": "stream",
     "text": [
      "10\n"
     ]
    }
   ],
   "source": [
    "#global scope example\n",
    "x = 10\n",
    "def print_x():\n",
    "    print(x)\n",
    "print_x() "
   ]
  },
  {
   "cell_type": "code",
   "execution_count": 14,
   "id": "f2659eac",
   "metadata": {},
   "outputs": [
    {
     "name": "stdout",
     "output_type": "stream",
     "text": [
      "8\n"
     ]
    }
   ],
   "source": [
    "#local scope example\n",
    "def add_numbers(a, b):\n",
    "    result = a + b\n",
    "    return result\n",
    "print(add_numbers(3, 5))"
   ]
  },
  {
   "cell_type": "raw",
   "id": "c8d935de",
   "metadata": {},
   "source": [
    "Q6. What happens to variables in a local scope when the function call returns?"
   ]
  },
  {
   "cell_type": "raw",
   "id": "585552f2",
   "metadata": {},
   "source": [
    "When a function call returns in Python, any variables defined in the local scope of the function are destroyed and their values are lost."
   ]
  },
  {
   "cell_type": "code",
   "execution_count": 15,
   "id": "f478cffe",
   "metadata": {},
   "outputs": [
    {
     "ename": "NameError",
     "evalue": "name 'Aditi' is not defined",
     "output_type": "error",
     "traceback": [
      "\u001b[1;31m---------------------------------------------------------------------------\u001b[0m",
      "\u001b[1;31mNameError\u001b[0m                                 Traceback (most recent call last)",
      "\u001b[1;32m~\\AppData\\Local\\Temp\\ipykernel_15212\\1696323843.py\u001b[0m in \u001b[0;36m<module>\u001b[1;34m\u001b[0m\n\u001b[0;32m      3\u001b[0m     \u001b[0mprint\u001b[0m\u001b[1;33m(\u001b[0m\u001b[0mx\u001b[0m\u001b[1;33m)\u001b[0m\u001b[1;33m\u001b[0m\u001b[1;33m\u001b[0m\u001b[0m\n\u001b[0;32m      4\u001b[0m \u001b[1;33m\u001b[0m\u001b[0m\n\u001b[1;32m----> 5\u001b[1;33m \u001b[0mmy_name\u001b[0m\u001b[1;33m(\u001b[0m\u001b[1;33m)\u001b[0m\u001b[1;33m\u001b[0m\u001b[1;33m\u001b[0m\u001b[0m\n\u001b[0m\u001b[0;32m      6\u001b[0m \u001b[1;33m\u001b[0m\u001b[0m\n\u001b[0;32m      7\u001b[0m \u001b[0mprint\u001b[0m\u001b[1;33m(\u001b[0m\u001b[0mx\u001b[0m\u001b[1;33m)\u001b[0m\u001b[1;33m\u001b[0m\u001b[1;33m\u001b[0m\u001b[0m\n",
      "\u001b[1;32m~\\AppData\\Local\\Temp\\ipykernel_15212\\1696323843.py\u001b[0m in \u001b[0;36mmy_name\u001b[1;34m()\u001b[0m\n\u001b[0;32m      1\u001b[0m \u001b[1;32mdef\u001b[0m \u001b[0mmy_name\u001b[0m\u001b[1;33m(\u001b[0m\u001b[1;33m)\u001b[0m\u001b[1;33m:\u001b[0m\u001b[1;33m\u001b[0m\u001b[1;33m\u001b[0m\u001b[0m\n\u001b[1;32m----> 2\u001b[1;33m     \u001b[0mx\u001b[0m \u001b[1;33m=\u001b[0m \u001b[0mAditi\u001b[0m\u001b[1;33m\u001b[0m\u001b[1;33m\u001b[0m\u001b[0m\n\u001b[0m\u001b[0;32m      3\u001b[0m     \u001b[0mprint\u001b[0m\u001b[1;33m(\u001b[0m\u001b[0mx\u001b[0m\u001b[1;33m)\u001b[0m\u001b[1;33m\u001b[0m\u001b[1;33m\u001b[0m\u001b[0m\n\u001b[0;32m      4\u001b[0m \u001b[1;33m\u001b[0m\u001b[0m\n\u001b[0;32m      5\u001b[0m \u001b[0mmy_name\u001b[0m\u001b[1;33m(\u001b[0m\u001b[1;33m)\u001b[0m\u001b[1;33m\u001b[0m\u001b[1;33m\u001b[0m\u001b[0m\n",
      "\u001b[1;31mNameError\u001b[0m: name 'Aditi' is not defined"
     ]
    }
   ],
   "source": [
    "def my_name():\n",
    "    x = Aditi\n",
    "    print(x)\n",
    "\n",
    "my_name()\n",
    "\n",
    "print(x)"
   ]
  },
  {
   "cell_type": "raw",
   "id": "7be25857",
   "metadata": {},
   "source": [
    "Q7. What is the concept of a return value? Is it possible to have a return value in an expression?"
   ]
  },
  {
   "cell_type": "raw",
   "id": "0d00b7ca",
   "metadata": {},
   "source": [
    "Return value is the value that a function call evaluates to when it completes its execution. When a function call returns a value it can be assigned to a variable, passed as an argument to another function, or can be  used in any other way that a value can be used in Python and yes it is possible to have a return value in an expression. "
   ]
  },
  {
   "cell_type": "code",
   "execution_count": 17,
   "id": "5ebbf883",
   "metadata": {},
   "outputs": [
    {
     "name": "stdout",
     "output_type": "stream",
     "text": [
      "14\n"
     ]
    }
   ],
   "source": [
    "def my_numbers(a, b):\n",
    "    result = a + b\n",
    "    return result\n",
    "\n",
    "c = add_numbers(8, 6)\n",
    "print(c)"
   ]
  },
  {
   "cell_type": "code",
   "execution_count": 19,
   "id": "59cc30a0",
   "metadata": {},
   "outputs": [
    {
     "name": "stdout",
     "output_type": "stream",
     "text": [
      "27\n"
     ]
    }
   ],
   "source": [
    "def aditi_numbers(a, b):\n",
    "    return a * b\n",
    "\n",
    "result = aditi_numbers(6, 4) + 3\n",
    "print(result)"
   ]
  },
  {
   "cell_type": "raw",
   "id": "8ee2a639",
   "metadata": {},
   "source": [
    "Q8. If a function does not have a return statement, what is the return value of a call to that function?"
   ]
  },
  {
   "cell_type": "raw",
   "id": "5eeb6032",
   "metadata": {},
   "source": [
    "If a function does not have a return statement the function call will still return a value, but that value will be None."
   ]
  },
  {
   "cell_type": "code",
   "execution_count": 20,
   "id": "6d912916",
   "metadata": {},
   "outputs": [
    {
     "name": "stdout",
     "output_type": "stream",
     "text": [
      "cheese, Alice!\n",
      "None\n"
     ]
    }
   ],
   "source": [
    "def say_cheese(name):\n",
    "    print(f\"cheese, {name}!\")\n",
    "result = say_cheese(\"Alice\")\n",
    "print(result)"
   ]
  },
  {
   "cell_type": "raw",
   "id": "b7112948",
   "metadata": {},
   "source": [
    "Q9. How do you make a function variable refer to the global variable?"
   ]
  },
  {
   "cell_type": "raw",
   "id": "c144ba59",
   "metadata": {},
   "source": [
    "you can make a function variable refer to a global variable by using the global keyword inside the function to declare the variable as a global variable. This allows you to modify the global variable inside the function."
   ]
  },
  {
   "cell_type": "code",
   "execution_count": 22,
   "id": "ac920139",
   "metadata": {},
   "outputs": [
    {
     "name": "stdout",
     "output_type": "stream",
     "text": [
      "6\n",
      "6\n"
     ]
    }
   ],
   "source": [
    "x = 15\n",
    "\n",
    "def print_x():\n",
    "    global x\n",
    "    x = 6\n",
    "    print(x)\n",
    "\n",
    "print_x()\n",
    "print(x)"
   ]
  },
  {
   "cell_type": "raw",
   "id": "cbe5b7e9",
   "metadata": {},
   "source": [
    "10. What is the data type of None?"
   ]
  },
  {
   "cell_type": "raw",
   "id": "badc1f6b",
   "metadata": {},
   "source": [
    "None is of the type NoneType which is a built-in data type. It is the only value of this type and can be assigned to any variable."
   ]
  },
  {
   "cell_type": "code",
   "execution_count": 26,
   "id": "3cd888bc",
   "metadata": {},
   "outputs": [
    {
     "name": "stdout",
     "output_type": "stream",
     "text": [
      "<class 'NoneType'>\n"
     ]
    }
   ],
   "source": [
    "a = None\n",
    "print(type(a))"
   ]
  },
  {
   "cell_type": "raw",
   "id": "8b263fe6",
   "metadata": {},
   "source": [
    "Q11. What does the sentence import areallyourpetsnamederic do?"
   ]
  },
  {
   "cell_type": "code",
   "execution_count": 27,
   "id": "3ea1fcfa",
   "metadata": {},
   "outputs": [
    {
     "ename": "ModuleNotFoundError",
     "evalue": "No module named 'areallyourpetsnamederic'",
     "output_type": "error",
     "traceback": [
      "\u001b[1;31m---------------------------------------------------------------------------\u001b[0m",
      "\u001b[1;31mModuleNotFoundError\u001b[0m                       Traceback (most recent call last)",
      "\u001b[1;32m~\\AppData\\Local\\Temp\\ipykernel_15212\\51184242.py\u001b[0m in \u001b[0;36m<module>\u001b[1;34m\u001b[0m\n\u001b[1;32m----> 1\u001b[1;33m \u001b[1;32mimport\u001b[0m \u001b[0mareallyourpetsnamederic\u001b[0m\u001b[1;33m\u001b[0m\u001b[1;33m\u001b[0m\u001b[0m\n\u001b[0m",
      "\u001b[1;31mModuleNotFoundError\u001b[0m: No module named 'areallyourpetsnamederic'"
     ]
    }
   ],
   "source": [
    "import areallyourpetsnamederic"
   ]
  },
  {
   "cell_type": "raw",
   "id": "61a4b88d",
   "metadata": {},
   "source": [
    "Q12. If you had a bacon() feature in a spam module, what would you call it after importing spam?"
   ]
  },
  {
   "cell_type": "raw",
   "id": "084099b6",
   "metadata": {},
   "source": [
    "After importing the spam module you can call the bacon() function using the dot notation"
   ]
  },
  {
   "cell_type": "raw",
   "id": "2004bbba",
   "metadata": {},
   "source": [
    "Q13. What can you do to save a programme from crashing if it encounters an error?"
   ]
  },
  {
   "cell_type": "raw",
   "id": "14c0fe25",
   "metadata": {},
   "source": [
    "you can use exception handling to handle errors that may occur during program execution"
   ]
  },
  {
   "cell_type": "code",
   "execution_count": 28,
   "id": "f88b037b",
   "metadata": {},
   "outputs": [
    {
     "name": "stdout",
     "output_type": "stream",
     "text": [
      "Error: division by zero\n"
     ]
    }
   ],
   "source": [
    "try:\n",
    "    x = 10 / 0\n",
    "except ZeroDivisionError:\n",
    "    print(\"Error: division by zero\")"
   ]
  },
  {
   "cell_type": "raw",
   "id": "4ce3800b",
   "metadata": {},
   "source": [
    "Q14. What is the purpose of the try clause? What is the purpose of the except clause?"
   ]
  },
  {
   "cell_type": "raw",
   "id": "03bedf0e",
   "metadata": {},
   "source": [
    "try and except clauses are used together to implement exception handling, which allows you to handle errors that may occur during program execution. Try clause is used to define a block of code that may raise an exception where as except clause is used to define a block of code that handles the exception raised in the try block. \n"
   ]
  },
  {
   "cell_type": "code",
   "execution_count": 29,
   "id": "15617830",
   "metadata": {},
   "outputs": [
    {
     "name": "stdout",
     "output_type": "stream",
     "text": [
      "Enter a number: 2\n",
      "Enter another number: 3\n",
      "The result is: 0.6666666666666666\n"
     ]
    }
   ],
   "source": [
    "try:\n",
    "    x = int(input(\"Enter a number: \"))\n",
    "    y = int(input(\"Enter another number: \"))\n",
    "    result = x / y\n",
    "    print(\"The result is:\", result)\n",
    "except ZeroDivisionError:\n",
    "    print(\"Error: division by zero\")"
   ]
  },
  {
   "cell_type": "raw",
   "id": "1bb19474",
   "metadata": {},
   "source": []
  }
 ],
 "metadata": {
  "kernelspec": {
   "display_name": "Python 3 (ipykernel)",
   "language": "python",
   "name": "python3"
  },
  "language_info": {
   "codemirror_mode": {
    "name": "ipython",
    "version": 3
   },
   "file_extension": ".py",
   "mimetype": "text/x-python",
   "name": "python",
   "nbconvert_exporter": "python",
   "pygments_lexer": "ipython3",
   "version": "3.9.13"
  }
 },
 "nbformat": 4,
 "nbformat_minor": 5
}
