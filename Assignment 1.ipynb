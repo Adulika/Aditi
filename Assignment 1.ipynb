{
 "cells": [
  {
   "cell_type": "raw",
   "id": "1614d652",
   "metadata": {},
   "source": [
    "1. In the below elements which of them are values or an expression? eg:- values can be integer or string and expressions will be mathematical operators.\n",
    "* \n",
    "'hello'\n",
    "-87.8\n",
    "- \n",
    "/ \n",
    "+\t\n",
    "6 "
   ]
  },
  {
   "cell_type": "raw",
   "id": "61347f04",
   "metadata": {},
   "source": [
    "A.  (*) It is a symbol for multiplication (expression)\n",
    "('hello') – It’s a string value\n",
    "(-87.8) – It’s a floating-point value\n",
    "(-) – Symbol for subtraction (expression)\n",
    "(/) – Symbol for division (expression)\n",
    "(+) – Symbol for addition (expression)\n",
    "(6) – Integer value"
   ]
  },
  {
   "cell_type": "code",
   "execution_count": 2,
   "id": "1e989b78",
   "metadata": {},
   "outputs": [
    {
     "name": "stdout",
     "output_type": "stream",
     "text": [
      "-526.8\n",
      "87.8\n",
      "3.0\n",
      "-81.8\n"
     ]
    }
   ],
   "source": [
    "value1 = 'hello'\n",
    "value2 = -87.8\n",
    "value3 = 6\n",
    "\n",
    "\n",
    "result1 = -87.8 * 6  \n",
    "result2 = -(-87.8)  \n",
    "result3 = 6 / 2 \n",
    "result4 = 6 + (-87.8)\n",
    "print(result1)\n",
    "print(result2)\n",
    "print(result3)\n",
    "print(result4)"
   ]
  },
  {
   "cell_type": "raw",
   "id": "9932e3e3",
   "metadata": {},
   "source": [
    "2. What is the difference between string and variable?"
   ]
  },
  {
   "cell_type": "raw",
   "id": "34d66c16",
   "metadata": {},
   "source": [
    "A. String: A String is a data type that represents textual data in computer programs. It is an example of the kind of data you might store in a variable, also which is a place where you might keep information. Usually, a string is only words contained in \" \". \n",
    "\n",
    "Variable: On the other hand, a variable is a specified storage space for values of any data type, including strings. It is a method for giving a name a value so that it can be utilised in a programme at a later time. Information that can be changed or updated while a programme is running is stored in variables."
   ]
  },
  {
   "cell_type": "code",
   "execution_count": 4,
   "id": "ff92b6c3",
   "metadata": {},
   "outputs": [
    {
     "name": "stdout",
     "output_type": "stream",
     "text": [
      "Hello, Dasiy Girl!\n"
     ]
    }
   ],
   "source": [
    "# String example\n",
    "my_string = \"Hello, Dasiy Girl!\"  \n",
    "print(my_string)"
   ]
  },
  {
   "cell_type": "code",
   "execution_count": 2,
   "id": "001a7ee4",
   "metadata": {},
   "outputs": [
    {
     "name": "stdout",
     "output_type": "stream",
     "text": [
      "42\n"
     ]
    }
   ],
   "source": [
    "# Variable example\n",
    "my_variable = 42             \n",
    "print(my_variable)"
   ]
  },
  {
   "cell_type": "code",
   "execution_count": 3,
   "id": "2507062f",
   "metadata": {},
   "outputs": [
    {
     "name": "stdout",
     "output_type": "stream",
     "text": [
      "OpenAI\n"
     ]
    }
   ],
   "source": [
    "my_variable = \"OpenAI\"\n",
    "print(my_variable)"
   ]
  },
  {
   "cell_type": "raw",
   "id": "5101d4af",
   "metadata": {},
   "source": [
    "3. Describe three different data types."
   ]
  },
  {
   "cell_type": "raw",
   "id": "c12c2e91",
   "metadata": {},
   "source": [
    "Boolean: - Boolean data type is a data type that has only two possible values: true and false. These values represent the logical states of \"on\" and \"off\" or \"yes\" and \"no\". Programmers mostly use Booleans to decide what to do and how to proceed based on the outcome of a comparison or logical operation. "
   ]
  },
  {
   "cell_type": "code",
   "execution_count": 5,
   "id": "be7f72ad",
   "metadata": {},
   "outputs": [
    {
     "name": "stdout",
     "output_type": "stream",
     "text": [
      "Aditi is true\n",
      "Teli is not true\n",
      "False\n",
      "True\n"
     ]
    }
   ],
   "source": [
    "Aditi = True\n",
    "Teli = False\n",
    "\n",
    "if Aditi:\n",
    "    print(\"Aditi is true\")\n",
    "if not Teli:\n",
    "    print(\"Teli is not true\")\n",
    "    \n",
    "print(Aditi and Teli)\n",
    "print(Aditi or Teli)"
   ]
  },
  {
   "cell_type": "raw",
   "id": "4593750a",
   "metadata": {},
   "source": [
    "Set: - A set data type is a group of distinct components that are not in any particular sequence. If there are no duplicates and each element is different, a set can be compared to a mathematical set. Sets are represented using curly braces { } with elements separated by commas. Sets are useful in programming because they allow for fast membership testing and efficient operations such as intersection, union, and difference."
   ]
  },
  {
   "cell_type": "code",
   "execution_count": 6,
   "id": "bf9dc795",
   "metadata": {},
   "outputs": [
    {
     "name": "stdout",
     "output_type": "stream",
     "text": [
      "{'Grapes', 'Mango', 'Banana', 'Apple'}\n",
      "{'Mango', 'Banana', 'Apple', 'Grapes', 'Watermelon'}\n",
      "{'Mango', 'Banana', 'Grapes', 'Watermelon'}\n",
      "{'Chikoo', 'Guava', 'Muskmelon'}\n",
      "set()\n"
     ]
    }
   ],
   "source": [
    "fruits = {\"Grapes\", \"Apple\", \"Mango\", \"Banana\"}\n",
    "print(fruits)\n",
    "\n",
    "fruits.add(\"Watermelon\")\n",
    "print(fruits)\n",
    "\n",
    "fruits.remove(\"Apple\")\n",
    "print(fruits)\n",
    "\n",
    "more_fruits = {\"Chikoo\", \"Guava\", \"Muskmelon\"}\n",
    "print(more_fruits)\n",
    "\n",
    "intersection = (fruits.intersection(more_fruits))\n",
    "print(intersection)"
   ]
  },
  {
   "cell_type": "raw",
   "id": "1c02d015",
   "metadata": {},
   "source": [
    "Dictionary: - In Python, a dictionary is an unordered collection of data values that can be used to store data values like a map. In contrast to other data types, which can only carry a single value, dictionaries can also hold a key:value pair. The dictionary includes key-value pairs to help it become more efficient. In a dictionary, each key-value pair is separated by a colon (:), in contrast, each key is separated by a comma. The dictionary is iterated through using a for loop to print all the key-value pairs."
   ]
  },
  {
   "cell_type": "code",
   "execution_count": 7,
   "id": "e8624dd1",
   "metadata": {},
   "outputs": [
    {
     "name": "stdout",
     "output_type": "stream",
     "text": [
      "Aditi\n",
      "Pune\n",
      "Female\n"
     ]
    }
   ],
   "source": [
    "person = {\"Name\":\"Aditi\", \"City\":\"Pune\", \"Gender\":\"Female\"}\n",
    "print(person[\"Name\"])\n",
    "print(person[\"City\"])\n",
    "print(person[\"Gender\"])\n",
    "\n",
    "person[\"Age\"] = \"22\""
   ]
  },
  {
   "cell_type": "raw",
   "id": "4b69a819",
   "metadata": {},
   "source": [
    "4. What is an expression made up of? What do all expressions do?"
   ]
  },
  {
   "cell_type": "raw",
   "id": "707bb7cb",
   "metadata": {},
   "source": [
    "1.\tValues are the basic building blocks of expressions. For examples numbers (6), strings (“Aditi”), and Boolean (True/False) values.\n",
    "2.\tVariables are terms used to identify values. By applying the equal sign (=), a value is given to a variable. For example, x = 5 assigns the value 5 to the variable x.\n",
    "3.\tOperators are symbols that perform operations on values and variables. For example arithmetic operators (+, -, *, /), comparison operators (==, !=, >, <, >=, <=), and logical operators (and, or, not).\n"
   ]
  },
  {
   "cell_type": "code",
   "execution_count": 1,
   "id": "58bed761",
   "metadata": {},
   "outputs": [
    {
     "name": "stdout",
     "output_type": "stream",
     "text": [
      "28\n"
     ]
    }
   ],
   "source": [
    "result = 5 + 3 * 8 - 1\n",
    "print(result)"
   ]
  },
  {
   "cell_type": "code",
   "execution_count": 2,
   "id": "c9371151",
   "metadata": {},
   "outputs": [
    {
     "name": "stdout",
     "output_type": "stream",
     "text": [
      "Hello, Aditi!\n"
     ]
    }
   ],
   "source": [
    "greeting = \"Hello\"\n",
    "name = \"Aditi\"\n",
    "message = greeting + \", \" + name + \"!\"\n",
    "print(message)"
   ]
  },
  {
   "cell_type": "code",
   "execution_count": 3,
   "id": "46e50cb3",
   "metadata": {},
   "outputs": [
    {
     "name": "stdout",
     "output_type": "stream",
     "text": [
      "False\n"
     ]
    }
   ],
   "source": [
    "x = 5\n",
    "y = 10\n",
    "is_greater = x > y\n",
    "print(is_greater)"
   ]
  },
  {
   "cell_type": "raw",
   "id": "be25654f",
   "metadata": {},
   "source": [
    "5. This assignment statements, like spam = 10. What is the difference between an expression and a statement?"
   ]
  },
  {
   "cell_type": "raw",
   "id": "7d9bf8c0",
   "metadata": {},
   "source": [
    "In programming, an expression is a code that evaluates to a value. It is also a combination of values, operators, and function calls that can be used to perform some computation and return a result. For example, the expression \"2 + 3\" evaluates to the value 5. A statement, on the other hand, is which that performs some action. It could be assigning a value to a variable, calling a function, or looping over some code. Unlike an expression, a statement does not necessarily evaluate to a value."
   ]
  },
  {
   "cell_type": "code",
   "execution_count": 4,
   "id": "80a60db6",
   "metadata": {},
   "outputs": [
    {
     "name": "stdout",
     "output_type": "stream",
     "text": [
      "14\n"
     ]
    }
   ],
   "source": [
    "x = 2 + 3 * 4\n",
    "print(x)\n",
    "spam = 10"
   ]
  },
  {
   "cell_type": "raw",
   "id": "503427bc",
   "metadata": {},
   "source": [
    "6. After running the following code, what does the variable bacon contain?\n",
    "bacon = 22\n",
    "bacon + 1"
   ]
  },
  {
   "cell_type": "code",
   "execution_count": 5,
   "id": "a1fd2446",
   "metadata": {},
   "outputs": [
    {
     "name": "stdout",
     "output_type": "stream",
     "text": [
      "23\n"
     ]
    }
   ],
   "source": [
    "bacon = 22\n",
    "bacon = bacon + 1\n",
    "print(bacon)"
   ]
  },
  {
   "cell_type": "raw",
   "id": "1c360d67",
   "metadata": {},
   "source": [
    "7. What should the values of the following two terms be?\n",
    "'spam' + 'spamspam'\n",
    "'spam' * 3\n",
    "The values of the following two terms be ‘spamspamspam’ as shown below in output"
   ]
  },
  {
   "cell_type": "code",
   "execution_count": 6,
   "id": "ea951d20",
   "metadata": {},
   "outputs": [
    {
     "name": "stdout",
     "output_type": "stream",
     "text": [
      "spamspamspam\n",
      "spamspamspam\n"
     ]
    }
   ],
   "source": [
    "x = 'spam' + 'spamspam'\n",
    "print(x)\n",
    "y = 'spam' * 3\n",
    "print(y)"
   ]
  },
  {
   "cell_type": "raw",
   "id": "89d6cb1e",
   "metadata": {},
   "source": [
    "8. Why is eggs a valid variable name while 100 is invalid?"
   ]
  },
  {
   "cell_type": "raw",
   "id": "e747ac0d",
   "metadata": {},
   "source": [
    "A. There are certain rules in python like a valid variable names in Python must start with a letter or underscore, and can contain letters, numbers, or underscores after the first character whereas the invalid variable cannot start directly with numbers. So based on these rules, \"eggs\" is a valid variable name because it begins with a letter and contains only letters. On the other hand, \"100\" is not a valid variable name because it begins with a number instead of a letter or an underscore."
   ]
  },
  {
   "cell_type": "code",
   "execution_count": 3,
   "id": "c4f0961c",
   "metadata": {},
   "outputs": [
    {
     "name": "stdout",
     "output_type": "stream",
     "text": [
      "42\n",
      "42\n"
     ]
    }
   ],
   "source": [
    "eggs = 42\n",
    "print(eggs)\n",
    "\n",
    "number_100 = 42\n",
    "print(number_100)"
   ]
  },
  {
   "cell_type": "raw",
   "id": "fce66ea5",
   "metadata": {},
   "source": [
    "9. What three functions can be used to get the integer, floating-point number, or string version of a value?"
   ]
  },
  {
   "cell_type": "code",
   "execution_count": 12,
   "id": "10dc0b15",
   "metadata": {},
   "outputs": [
    {
     "name": "stdout",
     "output_type": "stream",
     "text": [
      "100\n"
     ]
    }
   ],
   "source": [
    "x = (100)\n",
    "print(str(x))"
   ]
  },
  {
   "cell_type": "code",
   "execution_count": 13,
   "id": "a78b82b8",
   "metadata": {},
   "outputs": [
    {
     "name": "stdout",
     "output_type": "stream",
     "text": [
      "14\n"
     ]
    }
   ],
   "source": [
    "y = (14.5)\n",
    "print(int(y))"
   ]
  },
  {
   "cell_type": "code",
   "execution_count": 15,
   "id": "881454c9",
   "metadata": {},
   "outputs": [
    {
     "name": "stdout",
     "output_type": "stream",
     "text": [
      "60.0\n"
     ]
    }
   ],
   "source": [
    "z = \"60\"\n",
    "print(float(z))"
   ]
  },
  {
   "cell_type": "raw",
   "id": "1922bfec",
   "metadata": {},
   "source": [
    "10. Why does this expression cause an error? How can you fix it?\n",
    "'I have eaten ' + 99 + ' burritos.'"
   ]
  },
  {
   "cell_type": "raw",
   "id": "38434d58",
   "metadata": {},
   "source": [
    "Ans. The error is caused because there is an integer value with string and so we need to first convert the integer value to string and run the code. "
   ]
  },
  {
   "cell_type": "code",
   "execution_count": 16,
   "id": "8241804c",
   "metadata": {},
   "outputs": [
    {
     "ename": "TypeError",
     "evalue": "can only concatenate str (not \"int\") to str",
     "output_type": "error",
     "traceback": [
      "\u001b[1;31m---------------------------------------------------------------------------\u001b[0m",
      "\u001b[1;31mTypeError\u001b[0m                                 Traceback (most recent call last)",
      "\u001b[1;32m~\\AppData\\Local\\Temp\\ipykernel_7736\\3160877760.py\u001b[0m in \u001b[0;36m<module>\u001b[1;34m\u001b[0m\n\u001b[1;32m----> 1\u001b[1;33m \u001b[0mx\u001b[0m \u001b[1;33m=\u001b[0m \u001b[1;33m(\u001b[0m\u001b[1;34m'I have eaten '\u001b[0m \u001b[1;33m+\u001b[0m \u001b[1;36m99\u001b[0m \u001b[1;33m+\u001b[0m \u001b[1;34m' burritos.'\u001b[0m\u001b[1;33m)\u001b[0m\u001b[1;33m\u001b[0m\u001b[1;33m\u001b[0m\u001b[0m\n\u001b[0m\u001b[0;32m      2\u001b[0m \u001b[0mprint\u001b[0m\u001b[1;33m(\u001b[0m\u001b[0mx\u001b[0m\u001b[1;33m)\u001b[0m\u001b[1;33m\u001b[0m\u001b[1;33m\u001b[0m\u001b[0m\n",
      "\u001b[1;31mTypeError\u001b[0m: can only concatenate str (not \"int\") to str"
     ]
    }
   ],
   "source": [
    "x = ('I have eaten ' + 99 + ' burritos.')\n",
    "print(x)"
   ]
  },
  {
   "cell_type": "code",
   "execution_count": null,
   "id": "5b59aa3d",
   "metadata": {},
   "outputs": [],
   "source": [
    "Corrected ans:"
   ]
  },
  {
   "cell_type": "code",
   "execution_count": 18,
   "id": "3e806b4e",
   "metadata": {},
   "outputs": [
    {
     "name": "stdout",
     "output_type": "stream",
     "text": [
      "I have eaten 99 chips.\n"
     ]
    }
   ],
   "source": [
    "x = ('I have eaten ' + str(99) + ' chips.')\n",
    "print(x)"
   ]
  },
  {
   "cell_type": "code",
   "execution_count": null,
   "id": "cb22d652",
   "metadata": {},
   "outputs": [],
   "source": []
  },
  {
   "cell_type": "code",
   "execution_count": null,
   "id": "5e8283ec",
   "metadata": {},
   "outputs": [],
   "source": []
  },
  {
   "cell_type": "code",
   "execution_count": null,
   "id": "6ea68dca",
   "metadata": {},
   "outputs": [],
   "source": []
  },
  {
   "cell_type": "code",
   "execution_count": null,
   "id": "cb5695f0",
   "metadata": {},
   "outputs": [],
   "source": []
  },
  {
   "cell_type": "code",
   "execution_count": null,
   "id": "d6406622",
   "metadata": {},
   "outputs": [],
   "source": []
  },
  {
   "cell_type": "code",
   "execution_count": null,
   "id": "104380ee",
   "metadata": {},
   "outputs": [],
   "source": []
  },
  {
   "cell_type": "code",
   "execution_count": null,
   "id": "d93ca6a0",
   "metadata": {},
   "outputs": [],
   "source": []
  }
 ],
 "metadata": {
  "kernelspec": {
   "display_name": "Python 3 (ipykernel)",
   "language": "python",
   "name": "python3"
  },
  "language_info": {
   "codemirror_mode": {
    "name": "ipython",
    "version": 3
   },
   "file_extension": ".py",
   "mimetype": "text/x-python",
   "name": "python",
   "nbconvert_exporter": "python",
   "pygments_lexer": "ipython3",
   "version": "3.9.13"
  }
 },
 "nbformat": 4,
 "nbformat_minor": 5
}
