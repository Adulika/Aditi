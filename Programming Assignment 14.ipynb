{
 "cells": [
  {
   "cell_type": "raw",
   "id": "6a383d57",
   "metadata": {},
   "source": [
    "Question 1:\n",
    "\n",
    "Define a class with a generator which can iterate the numbers, which are divisible by 7, between a given range 0 and n."
   ]
  },
  {
   "cell_type": "code",
   "execution_count": 1,
   "id": "ef89fab4",
   "metadata": {},
   "outputs": [
    {
     "name": "stdout",
     "output_type": "stream",
     "text": [
      "0\n",
      "7\n",
      "14\n",
      "21\n",
      "28\n",
      "35\n",
      "42\n",
      "49\n"
     ]
    }
   ],
   "source": [
    "class DivisibleBySevenGenerator:\n",
    "    def __init__(self, n):\n",
    "        self.n = n\n",
    "\n",
    "    def generate_divisible_by_seven(self):\n",
    "        for num in range(self.n + 1):\n",
    "            if num % 7 == 0:\n",
    "                yield num\n",
    "\n",
    "n_value = 50\n",
    "divisible_by_seven_generator = DivisibleBySevenGenerator(n_value)\n",
    "\n",
    "for number in divisible_by_seven_generator.generate_divisible_by_seven():\n",
    "    print(number)"
   ]
  },
  {
   "cell_type": "raw",
   "id": "52bad88a",
   "metadata": {},
   "source": [
    "Question 2:\n",
    "    \n",
    "Write a program to compute the frequency of the words from the input. The output should output after sorting the key alphanumerically. \n",
    "\n",
    "Suppose the following input is supplied to the program:\n",
    "\n",
    "New to Python or choosing between Python 2 and Python 3? Read Python 2 or Python 3.\n",
    "\n",
    "Then, the output should be:\n",
    "\n",
    "2:2\n",
    "\n",
    "3.:1\n",
    "\n",
    "3?:1\n",
    "\n",
    "New:1\n",
    "\n",
    "Python:5\n",
    "\n",
    "Read:1\n",
    "\n",
    "and:1\n",
    "\n",
    "between:1\n",
    "\n",
    "choosing:1\n",
    "\n",
    "or:2\n",
    "\n",
    "to:1"
   ]
  },
  {
   "cell_type": "code",
   "execution_count": 2,
   "id": "7dee5dad",
   "metadata": {},
   "outputs": [
    {
     "name": "stdout",
     "output_type": "stream",
     "text": [
      "2:2\n",
      "3:2\n",
      "and:1\n",
      "between:1\n",
      "choosing:1\n",
      "new:1\n",
      "or:2\n",
      "python:5\n",
      "read:1\n",
      "to:1\n"
     ]
    }
   ],
   "source": [
    "def word_frequency(input_text):\n",
    "    words = input_text.split()\n",
    "    word_count = {}\n",
    "    for word in words:\n",
    "        word = word.strip('.,?:;!\"()[]{}')\n",
    "        word = word.lower()\n",
    "        if word:\n",
    "            word_count[word] = word_count.get(word, 0) + 1\n",
    "\n",
    "    sorted_word_count = sorted(word_count.items(), key=lambda x: x[0])\n",
    "    for word, frequency in sorted_word_count:\n",
    "        print(f\"{word}:{frequency}\")\n",
    "input_text = \"New to Python or choosing between Python 2 and Python 3? Read Python 2 or Python 3.\"\n",
    "word_frequency(input_text)"
   ]
  },
  {
   "cell_type": "raw",
   "id": "369b34d9",
   "metadata": {},
   "source": [
    "Question 3:\n",
    "\n",
    "Define a class Person and its two child classes: Male and Female. All classes have a method \"getGender\" which can print \"Male\" for Male class and \"Female\" for Female class."
   ]
  },
  {
   "cell_type": "code",
   "execution_count": 4,
   "id": "e06d39da",
   "metadata": {},
   "outputs": [
    {
     "name": "stdout",
     "output_type": "stream",
     "text": [
      "Girl\n",
      "Boy\n"
     ]
    }
   ],
   "source": [
    "class Person:\n",
    "    def getGender(self):\n",
    "        pass \n",
    "\n",
    "class Girl(Person):\n",
    "    def getGender(self):\n",
    "        print(\"Girl\")\n",
    "\n",
    "class Boy(Person):\n",
    "    def getGender(self):\n",
    "        print(\"Boy\")\n",
    "\n",
    "girl_person = Girl()\n",
    "boy_person = Boy()\n",
    "\n",
    "girl_person.getGender()  \n",
    "boy_person.getGender()"
   ]
  },
  {
   "cell_type": "raw",
   "id": "3bd92695",
   "metadata": {},
   "source": [
    "Question 4:\n",
    "\n",
    "Please write a program to generate all sentences where subject is in [\"I\", \"You\"] and verb is in [\"Play\", \"Love\"] and the object is in [\"Hockey\",\"Football\"]."
   ]
  },
  {
   "cell_type": "code",
   "execution_count": 7,
   "id": "067525dd",
   "metadata": {},
   "outputs": [
    {
     "name": "stdout",
     "output_type": "stream",
     "text": [
      "I Play Badminton\n",
      "I Play Fooseball\n",
      "I Love Badminton\n",
      "I Love Fooseball\n",
      "Aditi Play Badminton\n",
      "Aditi Play Fooseball\n",
      "Aditi Love Badminton\n",
      "Aditi Love Fooseball\n"
     ]
    }
   ],
   "source": [
    "subjects = [\"I\", \"Aditi\"]\n",
    "verbs = [\"Play\", \"Love\"]\n",
    "objects = [\"Badminton\", \"Fooseball\"]\n",
    "\n",
    "sentences = [(subject, verb, obj) for subject in subjects for verb in verbs for obj in objects]\n",
    "\n",
    "for sentence in sentences:\n",
    "    print(\" \".join(sentence))"
   ]
  },
  {
   "cell_type": "raw",
   "id": "532da997",
   "metadata": {},
   "source": [
    "Question 5:\n",
    "\n",
    "Please write a program to compress and decompress the string \"hello world!hello world!hello world!hello world!\"."
   ]
  },
  {
   "cell_type": "code",
   "execution_count": 9,
   "id": "d2787557",
   "metadata": {},
   "outputs": [
    {
     "name": "stdout",
     "output_type": "stream",
     "text": [
      "Compressed String: 789ccb48cdc9c957704cc954ccc0cb02001ca30d8d\n",
      "Decompressed String: hello Adi!hello Adi!hello Adi!hello Adi!\n"
     ]
    }
   ],
   "source": [
    "import zlib\n",
    "original_string = \"hello Adi!hello Adi!hello Adi!hello Adi!\"\n",
    "compressed_data = zlib.compress(original_string.encode('utf-8'))\n",
    "compressed_string = compressed_data.hex()\n",
    "\n",
    "print(\"Compressed String:\", compressed_string)\n",
    "decompressed_data = zlib.decompress(bytes.fromhex(compressed_string))\n",
    "decompressed_string = decompressed_data.decode('utf-8')\n",
    "print(\"Decompressed String:\", decompressed_string)"
   ]
  },
  {
   "cell_type": "raw",
   "id": "028d6617",
   "metadata": {},
   "source": [
    "Question 6:\n",
    "\n",
    "Please write a binary search function which searches an item in a sorted list. The function should return the index of element to be searched in the list."
   ]
  },
  {
   "cell_type": "code",
   "execution_count": 10,
   "id": "cb7b4fa5",
   "metadata": {},
   "outputs": [
    {
     "name": "stdout",
     "output_type": "stream",
     "text": [
      "Element 7 found at index 6.\n"
     ]
    }
   ],
   "source": [
    "def binary_search(sorted_list, target):\n",
    "    low, high = 0, len(sorted_list) - 1\n",
    "\n",
    "    while low <= high:\n",
    "        mid = (low + high) // 2\n",
    "        mid_value = sorted_list[mid]\n",
    "\n",
    "        if mid_value == target:\n",
    "            return mid  # Target found\n",
    "        elif mid_value < target:\n",
    "            low = mid + 1\n",
    "        else:\n",
    "            high = mid - 1\n",
    "\n",
    "    return -1  \n",
    "\n",
    "sorted_list = [1, 2, 3, 4, 5, 6, 7, 8, 9, 10]\n",
    "target_element = 7\n",
    "\n",
    "result = binary_search(sorted_list, target_element)\n",
    "\n",
    "if result != -1:\n",
    "    print(f\"Element {target_element} found at index {result}.\")\n",
    "else:\n",
    "    print(f\"Element {target_element} not found in the list.\")"
   ]
  },
  {
   "cell_type": "code",
   "execution_count": null,
   "id": "631acb92",
   "metadata": {},
   "outputs": [],
   "source": []
  },
  {
   "cell_type": "code",
   "execution_count": null,
   "id": "bb326238",
   "metadata": {},
   "outputs": [],
   "source": []
  }
 ],
 "metadata": {
  "kernelspec": {
   "display_name": "Python 3 (ipykernel)",
   "language": "python",
   "name": "python3"
  },
  "language_info": {
   "codemirror_mode": {
    "name": "ipython",
    "version": 3
   },
   "file_extension": ".py",
   "mimetype": "text/x-python",
   "name": "python",
   "nbconvert_exporter": "python",
   "pygments_lexer": "ipython3",
   "version": "3.9.13"
  }
 },
 "nbformat": 4,
 "nbformat_minor": 5
}
