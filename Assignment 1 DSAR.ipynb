{
 "cells": [
  {
   "cell_type": "raw",
   "id": "cf93232f",
   "metadata": {},
   "source": [
    "What are the applications of AI in Transportation? Briefly explain any of the two? "
   ]
  },
  {
   "cell_type": "raw",
   "id": "6f233aca",
   "metadata": {},
   "source": [
    "AI has various applications in transportation, contributing to improved efficiency, safety, and overall optimization of the transportation system.\n",
    "Traffic Management and Optimization:\n",
    "AI is used to manage and optimize traffic flow in urban areas, reducing congestion and improving overall transportation efficiency.\n"
   ]
  },
  {
   "cell_type": "code",
   "execution_count": 1,
   "id": "2e0b2efb",
   "metadata": {},
   "outputs": [],
   "source": [
    "import numpy as np\n",
    "\n",
    "class TrafficSignalController:\n",
    "    def __init__(self, num_signals):\n",
    "        self.num_signals = num_signals\n",
    "        self.signal_states = np.zeros(num_signals, dtype=int)\n",
    "\n",
    "    def update_signal_states(self, action):\n",
    "        # Update signal states based on the chosen action\n",
    "        self.signal_states = (self.signal_states + action) % 3\n",
    "\n",
    "    def get_reward(self):\n",
    "        # Define a reward function based on traffic flow or congestion metrics\n",
    "        return -np.sum(self.signal_states)\n",
    "\n",
    "num_signals = 4\n",
    "traffic_controller = TrafficSignalController(num_signals)"
   ]
  },
  {
   "cell_type": "raw",
   "id": "76802d06",
   "metadata": {},
   "source": [
    "What is an example of how AI is changing transportation? "
   ]
  },
  {
   "cell_type": "raw",
   "id": "538fa368",
   "metadata": {},
   "source": [
    "One notable example of how AI is changing transportation is the development and integration of autonomous vehicles. Autonomous vehicles, also known as self-driving cars, leverage AI technologies to perceive their environment, make decisions, and navigate without human intervention. "
   ]
  },
  {
   "cell_type": "code",
   "execution_count": 2,
   "id": "ad043394",
   "metadata": {},
   "outputs": [
    {
     "name": "stdout",
     "output_type": "stream",
     "text": [
      "Shortest path from 1 to 5: [1, 2, 3, 4, 5]\n"
     ]
    },
    {
     "data": {
      "image/png": "[encoded data removed]",
      "text/plain": [
       "<Figure size 640x480 with 1 Axes>"
      ]
     },
     "metadata": {},
     "output_type": "display_data"
    }
   ],
   "source": [
    "import networkx as nx\n",
    "import matplotlib.pyplot as plt\n",
    "\n",
    "# Creating a simple road network graph\n",
    "G = nx.Graph()\n",
    "G.add_edges_from([(1, 2), (2, 3), (3, 4), (4, 5)])\n",
    "start_node = 1\n",
    "end_node = 5\n",
    "shortest_path = nx.shortest_path(G, source=start_node, target=end_node)\n",
    "\n",
    "print(f\"Shortest path from {start_node} to {end_node}: {shortest_path}\")\n",
    "pos = nx.spring_layout(G)\n",
    "nx.draw(G, pos, with_labels=True, node_size=700, node_color='skyblue', font_size=10, font_color='black', font_weight='bold')\n",
    "nx.draw_networkx_nodes(G, pos, nodelist=shortest_path, node_color='orange', node_size=700)\n",
    "nx.draw_networkx_edges(G, pos, edgelist=[(shortest_path[i], shortest_path[i + 1]) for i in range(len(shortest_path) - 1)], edge_color='red', width=2)\n",
    "plt.show()"
   ]
  },
  {
   "cell_type": "raw",
   "id": "68bf2587",
   "metadata": {},
   "source": [
    "How is AI helping transportation and logistics corporations?"
   ]
  },
  {
   "cell_type": "raw",
   "id": "62825b77",
   "metadata": {},
   "source": [
    "AI is significantly impacting transportation and logistics corporations by offering solutions that enhance efficiency, safety, and overall operational effectiveness. AI algorithms analyze historical traffic data, weather conditions, and real-time information to optimize delivery routes for efficiency and timely arrivals. Reduced fuel consumption, minimized delivery times, and improved overall fleet efficiency."
   ]
  },
  {
   "cell_type": "code",
   "execution_count": null,
   "id": "d35397b2",
   "metadata": {},
   "outputs": [],
   "source": [
    "import googlemaps\n",
    "import numpy as np\n",
    "import genetic\n",
    "gmaps = googlemaps.Client(key='YOUR_GOOGLE_MAPS_API_KEY')\n",
    "locations = [(37.7749, -122.4194),  \n",
    "             (34.0522, -118.2437),  \n",
    "             (41.8781, -87.6298),   \n",
    "             (40.7128, -74.0060)] \n",
    "def total_distance(route):\n",
    "    total = 0\n",
    "    for i in range(len(route) - 1):\n",
    "        total += gmaps.distance_matrix(locations[route[i]], locations[route[i + 1]], mode=\"driving\")['rows'][0]['elements'][0]['distance']['value']\n",
    "    return total\n",
    "problem = genetic.TSPGenetic(locations, total_distance)\n",
    "solution = genetic.genetic_algorithm(problem, population_size=50, generations=100)\n",
    "print(\"Best Route:\", solution.genes)\n",
    "print(\"Total Distance:\", solution.fitness)"
   ]
  },
  {
   "cell_type": "raw",
   "id": "857a13b8",
   "metadata": {},
   "source": [
    "How AI-Powered robots help in detecting oil spill? "
   ]
  },
  {
   "cell_type": "raw",
   "id": "e4b28725",
   "metadata": {},
   "source": [
    "Detecting oil spills using AI-powered robots involves the use of computer vision and machine learning algorithms to analyze images or sensor data. These algorithms can identify the presence of oil in water, enabling quick response and clean-up efforts. "
   ]
  },
  {
   "cell_type": "code",
   "execution_count": 6,
   "id": "24b8d965",
   "metadata": {},
   "outputs": [
    {
     "name": "stdout",
     "output_type": "stream",
     "text": [
      "Collecting opencv-python\n",
      "  Downloading opencv_python-4.9.0.80-cp37-abi3-win_amd64.whl (38.6 MB)\n",
      "     --------------------------------------- 38.6/38.6 MB 17.2 MB/s eta 0:00:00\n",
      "Requirement already satisfied: numpy>=1.17.3 in c:\\users\\admin\\anaconda3\\lib\\site-packages (from opencv-python) (1.21.5)\n",
      "Installing collected packages: opencv-python\n",
      "Successfully installed opencv-python-4.9.0.80\n"
     ]
    }
   ],
   "source": [
    "!pip install opencv-python"
   ]
  },
  {
   "cell_type": "code",
   "execution_count": 7,
   "id": "826974a2",
   "metadata": {},
   "outputs": [
    {
     "name": "stdout",
     "output_type": "stream",
     "text": [
      "Oil spill detected!\n"
     ]
    }
   ],
   "source": [
    "import cv2\n",
    "import numpy as np\n",
    "def simulate_oil_spill(image_size=(200, 200), spill_location=(100, 100), spill_radius=20):\n",
    "    image = np.zeros((image_size[0], image_size[1], 3), dtype=np.uint8)\n",
    "    cv2.circle(image, spill_location, spill_radius, (0, 0, 255), -1)  # Red circle represents oil spill\n",
    "    return image\n",
    "def detect_oil_spill(image):\n",
    "    gray_image = cv2.cvtColor(image, cv2.COLOR_BGR2GRAY)\n",
    "\n",
    "    _, binary_mask = cv2.threshold(gray_image, 50, 255, cv2.THRESH_BINARY)\n",
    "    contours, _ = cv2.findContours(binary_mask, cv2.RETR_EXTERNAL, cv2.CHAIN_APPROX_SIMPLE)\n",
    "    if contours:\n",
    "        print(\"Oil spill detected!\")\n",
    "    cv2.imshow(\"Original Image\", image)\n",
    "    cv2.imshow(\"Binary Mask\", binary_mask)\n",
    "    cv2.waitKey(0)\n",
    "    cv2.destroyAllWindows()\n",
    "oil_spill_image = simulate_oil_spill()\n",
    "detect_oil_spill(oil_spill_image)"
   ]
  },
  {
   "cell_type": "raw",
   "id": "d73b4f8c",
   "metadata": {},
   "source": [
    "List out the five basic applications of AI in the OIL industry?"
   ]
  },
  {
   "cell_type": "raw",
   "id": "959cbbee",
   "metadata": {},
   "source": [
    "Exploration and Production\n",
    "Drilling Optimization\n",
    "Supply Chain and Logistics\n",
    "Safety and Environmental Monitoring\n",
    "Maintenance and Asset Management"
   ]
  },
  {
   "cell_type": "code",
   "execution_count": 8,
   "id": "ca7e4313",
   "metadata": {},
   "outputs": [
    {
     "name": "stdout",
     "output_type": "stream",
     "text": [
      "Cluster Labels: [1 1 0 1 1 0 1 0 1 1 1 1 0 1 1 0 0 1 0 1 0 0 0 0 0 1 1 0 1 1 0 1 1 0 0 0 1\n",
      " 0 0 1 0 0 1 0 1 0 1 1 1 1 0 0 1 0 1 0 0 0 1 1 1 0 1 1 1 1 1 0 1 0 1 1 1 1\n",
      " 1 0 0 1 1 0 1 0 0 0 0 1 0 0 0 0 1 0 1 0 0 0 0 0 1 1]\n"
     ]
    }
   ],
   "source": [
    "#Exploration and production\n",
    "from sklearn.cluster import KMeans\n",
    "import numpy as np\n",
    "seismic_data = np.random.rand(100, 2)  # Replace with actual seismic data\n",
    "kmeans = KMeans(n_clusters=2)\n",
    "kmeans.fit(seismic_data)\n",
    "labels = kmeans.labels_\n",
    "print(\"Cluster Labels:\", labels)"
   ]
  },
  {
   "cell_type": "code",
   "execution_count": 9,
   "id": "d13cae1c",
   "metadata": {},
   "outputs": [
    {
     "name": "stdout",
     "output_type": "stream",
     "text": [
      "Adjusted RPM: 173\n",
      "Adjusted Pressure: 785.7790633557031\n"
     ]
    }
   ],
   "source": [
    "#drilling optimization\n",
    "import random\n",
    "rpm = random.randint(100, 200)\n",
    "pressure = random.uniform(500, 1000)\n",
    "if rpm > 150:\n",
    "    rpm -= 10\n",
    "else:\n",
    "    rpm += 5\n",
    "if pressure > 800:\n",
    "    pressure -= 50\n",
    "else:\n",
    "    pressure += 20\n",
    "print(\"Adjusted RPM:\", rpm)\n",
    "print(\"Adjusted Pressure:\", pressure)"
   ]
  },
  {
   "cell_type": "code",
   "execution_count": 17,
   "id": "aaec7cff",
   "metadata": {},
   "outputs": [
    {
     "name": "stdout",
     "output_type": "stream",
     "text": [
      "Predicted Demand for 2027: 249.0\n"
     ]
    }
   ],
   "source": [
    "#Supply chain and logistics\n",
    "from sklearn.linear_model import LinearRegression\n",
    "years = [[2022], [2023], [2024], [2025], [2026]]\n",
    "demand = [120, 150, 180, 200, 220]\n",
    "model = LinearRegression()\n",
    "model.fit(years, demand)\n",
    "predicted_demand = model.predict([[2027]])\n",
    "print(\"Predicted Demand for 2027:\", predicted_demand[0])"
   ]
  },
  {
   "cell_type": "code",
   "execution_count": 15,
   "id": "c4064373",
   "metadata": {},
   "outputs": [
    {
     "name": "stdout",
     "output_type": "stream",
     "text": [
      "Aditi takes huge amount of risk\n"
     ]
    }
   ],
   "source": [
    "#safety and environmental monitoring\n",
    "incident_history = [\"Low\", \"Medium\", \"High\", \"Low\", \"Low\"]\n",
    "if \"High\" in incident_history:\n",
    "    print(\"Aditi takes huge amount of risk\")\n",
    "else:\n",
    "    print(\"Aditi B Teli\")"
   ]
  },
  {
   "cell_type": "code",
   "execution_count": 13,
   "id": "f33e1fc9",
   "metadata": {},
   "outputs": [
    {
     "name": "stdout",
     "output_type": "stream",
     "text": [
      "Aditi says Equipment needs maintenance.\n"
     ]
    }
   ],
   "source": [
    "#Maintenance and asset management\n",
    "sensor_data = [85, 90, 88, 92, 87]\n",
    "if max(sensor_data) > 90:\n",
    "    print(\"Aditi says Equipment needs maintenance.\")\n",
    "else:\n",
    "    print(\"Aditi says Equipment is in good condition.\")"
   ]
  },
  {
   "cell_type": "code",
   "execution_count": null,
   "id": "14231b09",
   "metadata": {},
   "outputs": [],
   "source": []
  }
 ],
 "metadata": {
  "kernelspec": {
   "display_name": "Python 3 (ipykernel)",
   "language": "python",
   "name": "python3"
  },
  "language_info": {
   "codemirror_mode": {
    "name": "ipython",
    "version": 3
   },
   "file_extension": ".py",
   "mimetype": "text/x-python",
   "name": "python",
   "nbconvert_exporter": "python",
   "pygments_lexer": "ipython3",
   "version": "3.9.13"
  }
 },
 "nbformat": 4,
 "nbformat_minor": 5
}
