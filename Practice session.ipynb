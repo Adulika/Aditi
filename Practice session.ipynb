{
 "cells": [
  {
   "cell_type": "code",
   "execution_count": 1,
   "id": "9922ee5f",
   "metadata": {},
   "outputs": [],
   "source": [
    "a = 'adititeli'"
   ]
  },
  {
   "cell_type": "code",
   "execution_count": 2,
   "id": "eb042571",
   "metadata": {},
   "outputs": [
    {
     "data": {
      "text/plain": [
       "'adititeli'"
      ]
     },
     "execution_count": 2,
     "metadata": {},
     "output_type": "execute_result"
    }
   ],
   "source": [
    "a"
   ]
  },
  {
   "cell_type": "code",
   "execution_count": 3,
   "id": "3e52679f",
   "metadata": {},
   "outputs": [
    {
     "data": {
      "text/plain": [
       "'iletitida'"
      ]
     },
     "execution_count": 3,
     "metadata": {},
     "output_type": "execute_result"
    }
   ],
   "source": [
    "a[::-1]"
   ]
  },
  {
   "cell_type": "code",
   "execution_count": 4,
   "id": "be8eb696",
   "metadata": {},
   "outputs": [
    {
     "data": {
      "text/plain": [
       "'iletitid'"
      ]
     },
     "execution_count": 4,
     "metadata": {},
     "output_type": "execute_result"
    }
   ],
   "source": [
    "a[8:0:-1]"
   ]
  },
  {
   "cell_type": "code",
   "execution_count": 6,
   "id": "ca2955de",
   "metadata": {},
   "outputs": [],
   "source": [
    "s = 'ineuron'"
   ]
  },
  {
   "cell_type": "code",
   "execution_count": 7,
   "id": "7bc397a8",
   "metadata": {},
   "outputs": [
    {
     "data": {
      "text/plain": [
       "'norueni'"
      ]
     },
     "execution_count": 7,
     "metadata": {},
     "output_type": "execute_result"
    }
   ],
   "source": [
    "s[::-1]"
   ]
  },
  {
   "cell_type": "code",
   "execution_count": 8,
   "id": "9ca6b1d3",
   "metadata": {},
   "outputs": [
    {
     "data": {
      "text/plain": [
       "''"
      ]
     },
     "execution_count": 8,
     "metadata": {},
     "output_type": "execute_result"
    }
   ],
   "source": [
    "s[-2:-7:1]"
   ]
  },
  {
   "cell_type": "code",
   "execution_count": 9,
   "id": "83bb59e4",
   "metadata": {},
   "outputs": [
    {
     "data": {
      "text/plain": [
       "'ineur'"
      ]
     },
     "execution_count": 9,
     "metadata": {},
     "output_type": "execute_result"
    }
   ],
   "source": [
    "s[-7:-2:1]"
   ]
  },
  {
   "cell_type": "code",
   "execution_count": 10,
   "id": "f703387d",
   "metadata": {},
   "outputs": [
    {
     "data": {
      "text/plain": [
       "''"
      ]
     },
     "execution_count": 10,
     "metadata": {},
     "output_type": "execute_result"
    }
   ],
   "source": [
    "s[5:0]"
   ]
  },
  {
   "cell_type": "code",
   "execution_count": 11,
   "id": "5ed45855",
   "metadata": {},
   "outputs": [
    {
     "data": {
      "text/plain": [
       "'adititeli'"
      ]
     },
     "execution_count": 11,
     "metadata": {},
     "output_type": "execute_result"
    }
   ],
   "source": [
    "a"
   ]
  },
  {
   "cell_type": "code",
   "execution_count": 12,
   "id": "ed71975b",
   "metadata": {},
   "outputs": [
    {
     "data": {
      "text/plain": [
       "''"
      ]
     },
     "execution_count": 12,
     "metadata": {},
     "output_type": "execute_result"
    }
   ],
   "source": [
    "a[:-1:-1]"
   ]
  },
  {
   "cell_type": "code",
   "execution_count": 14,
   "id": "e5d15bcf",
   "metadata": {},
   "outputs": [
    {
     "data": {
      "text/plain": [
       "'adititeli112'"
      ]
     },
     "execution_count": 14,
     "metadata": {},
     "output_type": "execute_result"
    }
   ],
   "source": [
    "a + '112'"
   ]
  },
  {
   "cell_type": "code",
   "execution_count": 15,
   "id": "85814ddf",
   "metadata": {},
   "outputs": [
    {
     "data": {
      "text/plain": [
       "'adititeli'"
      ]
     },
     "execution_count": 15,
     "metadata": {},
     "output_type": "execute_result"
    }
   ],
   "source": [
    "a"
   ]
  },
  {
   "cell_type": "code",
   "execution_count": 16,
   "id": "6a85d40c",
   "metadata": {},
   "outputs": [
    {
     "data": {
      "text/plain": [
       "9"
      ]
     },
     "execution_count": 16,
     "metadata": {},
     "output_type": "execute_result"
    }
   ],
   "source": [
    "len(a)"
   ]
  },
  {
   "cell_type": "code",
   "execution_count": 17,
   "id": "13d2e9bd",
   "metadata": {},
   "outputs": [
    {
     "data": {
      "text/plain": [
       "'ineuron'"
      ]
     },
     "execution_count": 17,
     "metadata": {},
     "output_type": "execute_result"
    }
   ],
   "source": [
    "s"
   ]
  },
  {
   "cell_type": "code",
   "execution_count": 18,
   "id": "1bf78cbe",
   "metadata": {},
   "outputs": [
    {
     "data": {
      "text/plain": [
       "7"
      ]
     },
     "execution_count": 18,
     "metadata": {},
     "output_type": "execute_result"
    }
   ],
   "source": [
    "len(s)"
   ]
  },
  {
   "cell_type": "code",
   "execution_count": 19,
   "id": "3de4c48e",
   "metadata": {},
   "outputs": [
    {
     "data": {
      "text/plain": [
       "'adititeli'"
      ]
     },
     "execution_count": 19,
     "metadata": {},
     "output_type": "execute_result"
    }
   ],
   "source": [
    "a"
   ]
  },
  {
   "cell_type": "code",
   "execution_count": 20,
   "id": "d7995ecc",
   "metadata": {},
   "outputs": [
    {
     "data": {
      "text/plain": [
       "'adititeliadititeli'"
      ]
     },
     "execution_count": 20,
     "metadata": {},
     "output_type": "execute_result"
    }
   ],
   "source": [
    "a * 2"
   ]
  },
  {
   "cell_type": "code",
   "execution_count": 21,
   "id": "f979d61f",
   "metadata": {},
   "outputs": [
    {
     "data": {
      "text/plain": [
       "'adititeli'"
      ]
     },
     "execution_count": 21,
     "metadata": {},
     "output_type": "execute_result"
    }
   ],
   "source": [
    "a"
   ]
  },
  {
   "cell_type": "code",
   "execution_count": 22,
   "id": "25f85696",
   "metadata": {},
   "outputs": [
    {
     "data": {
      "text/plain": [
       "3"
      ]
     },
     "execution_count": 22,
     "metadata": {},
     "output_type": "execute_result"
    }
   ],
   "source": [
    "a.count('i')"
   ]
  },
  {
   "cell_type": "code",
   "execution_count": 23,
   "id": "9640b488",
   "metadata": {},
   "outputs": [
    {
     "data": {
      "text/plain": [
       "['a', 'ititeli']"
      ]
     },
     "execution_count": 23,
     "metadata": {},
     "output_type": "execute_result"
    }
   ],
   "source": [
    "a.split('d')"
   ]
  },
  {
   "cell_type": "code",
   "execution_count": 27,
   "id": "6e419aa8",
   "metadata": {},
   "outputs": [],
   "source": [
    "aw = \"\"\"Apple was founded as Apple Computer Company on April 1, 1976, by Steve Jobs, Steve Wozniak and Ronald Wayne to develop and sell Wozniak's Apple I personal computer. It was incorporated by Jobs and Wozniak as Apple Computer, Inc. in 1977 and the company's next computer, the Apple II became a best seller. Apple went public in 1980, to instant financial success. The company developed computers featuring innovative graphical user interfaces, including the original Macintosh, announced in a critically acclaimed advertisement, \"1984\", directed by Ridley Scott. By 1985, the high cost of its products and power struggles between executives caused problems. Wozniak stepped back from Apple amicably and pursued other ventures, while Jobs resigned bitterly and founded NeXT, taking some Apple employees with him.\"\"\""
   ]
  },
  {
   "cell_type": "code",
   "execution_count": 28,
   "id": "d4733c09",
   "metadata": {},
   "outputs": [
    {
     "data": {
      "text/plain": [
       "'Apple was founded as Apple Computer Company on April 1, 1976, by Steve Jobs, Steve Wozniak and Ronald Wayne to develop and sell Wozniak\\'s Apple I personal computer. It was incorporated by Jobs and Wozniak as Apple Computer, Inc. in 1977 and the company\\'s next computer, the Apple II became a best seller. Apple went public in 1980, to instant financial success. The company developed computers featuring innovative graphical user interfaces, including the original Macintosh, announced in a critically acclaimed advertisement, \"1984\", directed by Ridley Scott. By 1985, the high cost of its products and power struggles between executives caused problems. Wozniak stepped back from Apple amicably and pursued other ventures, while Jobs resigned bitterly and founded NeXT, taking some Apple employees with him.'"
      ]
     },
     "execution_count": 28,
     "metadata": {},
     "output_type": "execute_result"
    }
   ],
   "source": [
    "aw"
   ]
  },
  {
   "cell_type": "code",
   "execution_count": 29,
   "id": "3e0dec02",
   "metadata": {},
   "outputs": [
    {
     "data": {
      "text/plain": [
       "['Apple',\n",
       " 'was',\n",
       " 'founded',\n",
       " 'as',\n",
       " 'Apple',\n",
       " 'Computer',\n",
       " 'Company',\n",
       " 'on',\n",
       " 'April',\n",
       " '1,',\n",
       " '1976,',\n",
       " 'by',\n",
       " 'Steve',\n",
       " 'Jobs,',\n",
       " 'Steve',\n",
       " 'Wozniak',\n",
       " 'and',\n",
       " 'Ronald',\n",
       " 'Wayne',\n",
       " 'to',\n",
       " 'develop',\n",
       " 'and',\n",
       " 'sell',\n",
       " \"Wozniak's\",\n",
       " 'Apple',\n",
       " 'I',\n",
       " 'personal',\n",
       " 'computer.',\n",
       " 'It',\n",
       " 'was',\n",
       " 'incorporated',\n",
       " 'by',\n",
       " 'Jobs',\n",
       " 'and',\n",
       " 'Wozniak',\n",
       " 'as',\n",
       " 'Apple',\n",
       " 'Computer,',\n",
       " 'Inc.',\n",
       " 'in',\n",
       " '1977',\n",
       " 'and',\n",
       " 'the',\n",
       " \"company's\",\n",
       " 'next',\n",
       " 'computer,',\n",
       " 'the',\n",
       " 'Apple',\n",
       " 'II',\n",
       " 'became',\n",
       " 'a',\n",
       " 'best',\n",
       " 'seller.',\n",
       " 'Apple',\n",
       " 'went',\n",
       " 'public',\n",
       " 'in',\n",
       " '1980,',\n",
       " 'to',\n",
       " 'instant',\n",
       " 'financial',\n",
       " 'success.',\n",
       " 'The',\n",
       " 'company',\n",
       " 'developed',\n",
       " 'computers',\n",
       " 'featuring',\n",
       " 'innovative',\n",
       " 'graphical',\n",
       " 'user',\n",
       " 'interfaces,',\n",
       " 'including',\n",
       " 'the',\n",
       " 'original',\n",
       " 'Macintosh,',\n",
       " 'announced',\n",
       " 'in',\n",
       " 'a',\n",
       " 'critically',\n",
       " 'acclaimed',\n",
       " 'advertisement,',\n",
       " '\"1984\",',\n",
       " 'directed',\n",
       " 'by',\n",
       " 'Ridley',\n",
       " 'Scott.',\n",
       " 'By',\n",
       " '1985,',\n",
       " 'the',\n",
       " 'high',\n",
       " 'cost',\n",
       " 'of',\n",
       " 'its',\n",
       " 'products',\n",
       " 'and',\n",
       " 'power',\n",
       " 'struggles',\n",
       " 'between',\n",
       " 'executives',\n",
       " 'caused',\n",
       " 'problems.',\n",
       " 'Wozniak',\n",
       " 'stepped',\n",
       " 'back',\n",
       " 'from',\n",
       " 'Apple',\n",
       " 'amicably',\n",
       " 'and',\n",
       " 'pursued',\n",
       " 'other',\n",
       " 'ventures,',\n",
       " 'while',\n",
       " 'Jobs',\n",
       " 'resigned',\n",
       " 'bitterly',\n",
       " 'and',\n",
       " 'founded',\n",
       " 'NeXT,',\n",
       " 'taking',\n",
       " 'some',\n",
       " 'Apple',\n",
       " 'employees',\n",
       " 'with',\n",
       " 'him.']"
      ]
     },
     "execution_count": 29,
     "metadata": {},
     "output_type": "execute_result"
    }
   ],
   "source": [
    "aw.split(' ')"
   ]
  },
  {
   "cell_type": "code",
   "execution_count": 30,
   "id": "e5f1697f",
   "metadata": {},
   "outputs": [
    {
     "data": {
      "text/plain": [
       "'APPLE WAS FOUNDED AS APPLE COMPUTER COMPANY ON APRIL 1, 1976, BY STEVE JOBS, STEVE WOZNIAK AND RONALD WAYNE TO DEVELOP AND SELL WOZNIAK\\'S APPLE I PERSONAL COMPUTER. IT WAS INCORPORATED BY JOBS AND WOZNIAK AS APPLE COMPUTER, INC. IN 1977 AND THE COMPANY\\'S NEXT COMPUTER, THE APPLE II BECAME A BEST SELLER. APPLE WENT PUBLIC IN 1980, TO INSTANT FINANCIAL SUCCESS. THE COMPANY DEVELOPED COMPUTERS FEATURING INNOVATIVE GRAPHICAL USER INTERFACES, INCLUDING THE ORIGINAL MACINTOSH, ANNOUNCED IN A CRITICALLY ACCLAIMED ADVERTISEMENT, \"1984\", DIRECTED BY RIDLEY SCOTT. BY 1985, THE HIGH COST OF ITS PRODUCTS AND POWER STRUGGLES BETWEEN EXECUTIVES CAUSED PROBLEMS. WOZNIAK STEPPED BACK FROM APPLE AMICABLY AND PURSUED OTHER VENTURES, WHILE JOBS RESIGNED BITTERLY AND FOUNDED NEXT, TAKING SOME APPLE EMPLOYEES WITH HIM.'"
      ]
     },
     "execution_count": 30,
     "metadata": {},
     "output_type": "execute_result"
    }
   ],
   "source": [
    "aw.upper()   "
   ]
  },
  {
   "cell_type": "code",
   "execution_count": 31,
   "id": "2f377ff7",
   "metadata": {},
   "outputs": [
    {
     "data": {
      "text/plain": [
       "'apple was founded as apple computer company on april 1, 1976, by steve jobs, steve wozniak and ronald wayne to develop and sell wozniak\\'s apple i personal computer. it was incorporated by jobs and wozniak as apple computer, inc. in 1977 and the company\\'s next computer, the apple ii became a best seller. apple went public in 1980, to instant financial success. the company developed computers featuring innovative graphical user interfaces, including the original macintosh, announced in a critically acclaimed advertisement, \"1984\", directed by ridley scott. by 1985, the high cost of its products and power struggles between executives caused problems. wozniak stepped back from apple amicably and pursued other ventures, while jobs resigned bitterly and founded next, taking some apple employees with him.'"
      ]
     },
     "execution_count": 31,
     "metadata": {},
     "output_type": "execute_result"
    }
   ],
   "source": [
    "aw.lower()"
   ]
  },
  {
   "cell_type": "code",
   "execution_count": 32,
   "id": "df4b1b7e",
   "metadata": {},
   "outputs": [
    {
     "data": {
      "text/plain": [
       "'Apple was founded as Apple Computer Company on April 1, 1976, by Steve Jobs, Steve Wozniak and Ronald Wayne to develop and sell Wozniak\\'s Apple I personal computer. It was incorporated by Jobs and Wozniak as Apple Computer, Inc. in 1977 and the company\\'s next computer, the Apple II became a best seller. Apple went public in 1980, to instant financial success. The company developed computers featuring innovative graphical user interfaces, including the original Macintosh, announced in a critically acclaimed advertisement, \"1984\", directed by Ridley Scott. By 1985, the high cost of its products and power struggles between executives caused problems. Wozniak stepped back from Apple amicably and pursued other ventures, while Jobs resigned bitterly and founded NeXT, taking some Apple employees with him.'"
      ]
     },
     "execution_count": 32,
     "metadata": {},
     "output_type": "execute_result"
    }
   ],
   "source": [
    "aw"
   ]
  },
  {
   "cell_type": "code",
   "execution_count": 33,
   "id": "20434a20",
   "metadata": {},
   "outputs": [],
   "source": [
    "aw = aw.upper()"
   ]
  },
  {
   "cell_type": "code",
   "execution_count": 34,
   "id": "e10ee3ba",
   "metadata": {},
   "outputs": [
    {
     "data": {
      "text/plain": [
       "'APPLE WAS FOUNDED AS APPLE COMPUTER COMPANY ON APRIL 1, 1976, BY STEVE JOBS, STEVE WOZNIAK AND RONALD WAYNE TO DEVELOP AND SELL WOZNIAK\\'S APPLE I PERSONAL COMPUTER. IT WAS INCORPORATED BY JOBS AND WOZNIAK AS APPLE COMPUTER, INC. IN 1977 AND THE COMPANY\\'S NEXT COMPUTER, THE APPLE II BECAME A BEST SELLER. APPLE WENT PUBLIC IN 1980, TO INSTANT FINANCIAL SUCCESS. THE COMPANY DEVELOPED COMPUTERS FEATURING INNOVATIVE GRAPHICAL USER INTERFACES, INCLUDING THE ORIGINAL MACINTOSH, ANNOUNCED IN A CRITICALLY ACCLAIMED ADVERTISEMENT, \"1984\", DIRECTED BY RIDLEY SCOTT. BY 1985, THE HIGH COST OF ITS PRODUCTS AND POWER STRUGGLES BETWEEN EXECUTIVES CAUSED PROBLEMS. WOZNIAK STEPPED BACK FROM APPLE AMICABLY AND PURSUED OTHER VENTURES, WHILE JOBS RESIGNED BITTERLY AND FOUNDED NEXT, TAKING SOME APPLE EMPLOYEES WITH HIM.'"
      ]
     },
     "execution_count": 34,
     "metadata": {},
     "output_type": "execute_result"
    }
   ],
   "source": [
    "aw"
   ]
  },
  {
   "cell_type": "code",
   "execution_count": 40,
   "id": "9cac0137",
   "metadata": {},
   "outputs": [],
   "source": [
    "k = \"aditi teli has completed her graduation\" "
   ]
  },
  {
   "cell_type": "code",
   "execution_count": 41,
   "id": "eacb8943",
   "metadata": {},
   "outputs": [
    {
     "data": {
      "text/plain": [
       "'Aditi Teli Has Completed Her Graduation'"
      ]
     },
     "execution_count": 41,
     "metadata": {},
     "output_type": "execute_result"
    }
   ],
   "source": [
    "k.title()"
   ]
  },
  {
   "cell_type": "code",
   "execution_count": 42,
   "id": "25ceb686",
   "metadata": {},
   "outputs": [
    {
     "data": {
      "text/plain": [
       "'Aditi teli has completed her graduation'"
      ]
     },
     "execution_count": 42,
     "metadata": {},
     "output_type": "execute_result"
    }
   ],
   "source": [
    "k.capitalize()"
   ]
  },
  {
   "cell_type": "code",
   "execution_count": 43,
   "id": "5294e265",
   "metadata": {},
   "outputs": [],
   "source": [
    "s = \"aditi tEli Has cOmPleteD hER GraDuATION\""
   ]
  },
  {
   "cell_type": "code",
   "execution_count": 44,
   "id": "c88c774d",
   "metadata": {},
   "outputs": [
    {
     "data": {
      "text/plain": [
       "'ADITI TeLI hAS CoMpLETEd Her gRAdUation'"
      ]
     },
     "execution_count": 44,
     "metadata": {},
     "output_type": "execute_result"
    }
   ],
   "source": [
    "s.swapcase()"
   ]
  },
  {
   "cell_type": "code",
   "execution_count": 45,
   "id": "60c9e64b",
   "metadata": {},
   "outputs": [
    {
     "data": {
      "text/plain": [
       "'NOITAuDarG REh DetelPmOc saH ilEt itida'"
      ]
     },
     "execution_count": 45,
     "metadata": {},
     "output_type": "execute_result"
    }
   ],
   "source": [
    "''.join(reversed(s))"
   ]
  },
  {
   "cell_type": "code",
   "execution_count": 46,
   "id": "fd277f06",
   "metadata": {},
   "outputs": [],
   "source": [
    "a = \"  adi  \""
   ]
  },
  {
   "cell_type": "code",
   "execution_count": 47,
   "id": "bfe8047a",
   "metadata": {},
   "outputs": [
    {
     "data": {
      "text/plain": [
       "'adi'"
      ]
     },
     "execution_count": 47,
     "metadata": {},
     "output_type": "execute_result"
    }
   ],
   "source": [
    "a.strip()"
   ]
  },
  {
   "cell_type": "code",
   "execution_count": 48,
   "id": "76c9c43f",
   "metadata": {},
   "outputs": [
    {
     "data": {
      "text/plain": [
       "'a  d  i  t  i  t  e  l  i'"
      ]
     },
     "execution_count": 48,
     "metadata": {},
     "output_type": "execute_result"
    }
   ],
   "source": [
    "\"  \" . join(\"adititeli\")"
   ]
  },
  {
   "cell_type": "code",
   "execution_count": 49,
   "id": "2d5604ec",
   "metadata": {},
   "outputs": [
    {
     "data": {
      "text/plain": [
       "'a1d1i1t1i'"
      ]
     },
     "execution_count": 49,
     "metadata": {},
     "output_type": "execute_result"
    }
   ],
   "source": [
    "\"1\" . join(\"aditi\")"
   ]
  },
  {
   "cell_type": "code",
   "execution_count": 50,
   "id": "255901b7",
   "metadata": {},
   "outputs": [],
   "source": [
    "s = \"sudh\""
   ]
  },
  {
   "cell_type": "code",
   "execution_count": 52,
   "id": "3dd42114",
   "metadata": {},
   "outputs": [
    {
     "data": {
      "text/plain": [
       "'aaaaaaaasudhaaaaaaaa'"
      ]
     },
     "execution_count": 52,
     "metadata": {},
     "output_type": "execute_result"
    }
   ],
   "source": [
    "s.center(20,'a')"
   ]
  },
  {
   "cell_type": "code",
   "execution_count": 53,
   "id": "8e9df05d",
   "metadata": {},
   "outputs": [],
   "source": [
    "a1 = \"Aditi\""
   ]
  },
  {
   "cell_type": "code",
   "execution_count": 54,
   "id": "b645603d",
   "metadata": {},
   "outputs": [
    {
     "data": {
      "text/plain": [
       "False"
      ]
     },
     "execution_count": 54,
     "metadata": {},
     "output_type": "execute_result"
    }
   ],
   "source": [
    "a1.isupper()"
   ]
  },
  {
   "cell_type": "code",
   "execution_count": 55,
   "id": "c311c699",
   "metadata": {},
   "outputs": [],
   "source": [
    "a2 = \"ADULI\""
   ]
  },
  {
   "cell_type": "code",
   "execution_count": 56,
   "id": "2701883e",
   "metadata": {},
   "outputs": [
    {
     "data": {
      "text/plain": [
       "True"
      ]
     },
     "execution_count": 56,
     "metadata": {},
     "output_type": "execute_result"
    }
   ],
   "source": [
    "a2.isupper()"
   ]
  },
  {
   "cell_type": "code",
   "execution_count": 58,
   "id": "1aa98a05",
   "metadata": {},
   "outputs": [],
   "source": [
    "g = \"adulika\""
   ]
  },
  {
   "cell_type": "code",
   "execution_count": 59,
   "id": "da227b38",
   "metadata": {},
   "outputs": [
    {
     "data": {
      "text/plain": [
       "'adulika'"
      ]
     },
     "execution_count": 59,
     "metadata": {},
     "output_type": "execute_result"
    }
   ],
   "source": [
    "g"
   ]
  },
  {
   "cell_type": "code",
   "execution_count": 60,
   "id": "42f943e3",
   "metadata": {},
   "outputs": [
    {
     "data": {
      "text/plain": [
       "False"
      ]
     },
     "execution_count": 60,
     "metadata": {},
     "output_type": "execute_result"
    }
   ],
   "source": [
    "g.startswith('i')"
   ]
  },
  {
   "cell_type": "code",
   "execution_count": 61,
   "id": "b36c62b3",
   "metadata": {},
   "outputs": [
    {
     "data": {
      "text/plain": [
       "True"
      ]
     },
     "execution_count": 61,
     "metadata": {},
     "output_type": "execute_result"
    }
   ],
   "source": [
    "g.startswith('a')"
   ]
  },
  {
   "cell_type": "code",
   "execution_count": 62,
   "id": "0740accf",
   "metadata": {},
   "outputs": [
    {
     "data": {
      "text/plain": [
       "True"
      ]
     },
     "execution_count": 62,
     "metadata": {},
     "output_type": "execute_result"
    }
   ],
   "source": [
    "g.isascii()"
   ]
  },
  {
   "cell_type": "code",
   "execution_count": null,
   "id": "fe31cf40",
   "metadata": {},
   "outputs": [],
   "source": []
  }
 ],
 "metadata": {
  "kernelspec": {
   "display_name": "Python 3 (ipykernel)",
   "language": "python",
   "name": "python3"
  },
  "language_info": {
   "codemirror_mode": {
    "name": "ipython",
    "version": 3
   },
   "file_extension": ".py",
   "mimetype": "text/x-python",
   "name": "python",
   "nbconvert_exporter": "python",
   "pygments_lexer": "ipython3",
   "version": "3.9.12"
  }
 },
 "nbformat": 4,
 "nbformat_minor": 5
}
