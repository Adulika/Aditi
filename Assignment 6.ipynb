{
 "cells": [
  {
   "cell_type": "raw",
   "id": "18999a34",
   "metadata": {},
   "source": [
    "1. What are escape characters, and how do you use them?"
   ]
  },
  {
   "cell_type": "code",
   "execution_count": 1,
   "id": "2b0d7966",
   "metadata": {},
   "outputs": [
    {
     "name": "stdout",
     "output_type": "stream",
     "text": [
      "Hello\n",
      "World\n"
     ]
    }
   ],
   "source": [
    "print(\"Hello\\nWorld\")"
   ]
  },
  {
   "cell_type": "code",
   "execution_count": 3,
   "id": "6d049534",
   "metadata": {},
   "outputs": [
    {
     "name": "stdout",
     "output_type": "stream",
     "text": [
      "She said, \"I'm happy!\"\n",
      "C:\\path\to\f",
      "ile\n",
      "This is a multiline string:\n",
      "alpha\n",
      "beta\n",
      "gamma\n",
      "First\tSecond\tThird\n"
     ]
    }
   ],
   "source": [
    "print(\"She said, \\\"I'm happy!\\\"\")\n",
    "print('C:\\path\\to\\file')\n",
    "print(\"This is a multiline string:\\nalpha\\nbeta\\ngamma\")\n",
    "print(\"First\\tSecond\\tThird\")"
   ]
  },
  {
   "cell_type": "raw",
   "id": "427e01f2",
   "metadata": {},
   "source": [
    "2. What do the escape characters n and t stand for?"
   ]
  },
  {
   "cell_type": "raw",
   "id": "e9885b69",
   "metadata": {},
   "source": [
    "n represents a newline character. It is used to insert a line break, causing the text after \\n to start on a new line.\n",
    "t represents a tab character. It is used to insert horizontal spacing, creating a tabular or indented structure."
   ]
  },
  {
   "cell_type": "code",
   "execution_count": 5,
   "id": "25e59772",
   "metadata": {},
   "outputs": [
    {
     "name": "stdout",
     "output_type": "stream",
     "text": [
      "Aditi\n",
      "Teli\n",
      "One\tTwo\tThree\n"
     ]
    }
   ],
   "source": [
    "print(\"Aditi\\nTeli\")\n",
    "print(\"One\\tTwo\\tThree\")"
   ]
  },
  {
   "cell_type": "raw",
   "id": "c19abb07",
   "metadata": {},
   "source": [
    "3. What is the way to include backslash characters in a string?"
   ]
  },
  {
   "cell_type": "code",
   "execution_count": 6,
   "id": "75a437cb",
   "metadata": {},
   "outputs": [
    {
     "name": "stdout",
     "output_type": "stream",
     "text": [
      "C:\\path\\to\\file\n"
     ]
    }
   ],
   "source": [
    "print(\"C:\\\\path\\\\to\\\\file\")"
   ]
  },
  {
   "cell_type": "raw",
   "id": "8c9f5370",
   "metadata": {},
   "source": [
    "4. The string \"Howl's Moving Castle\" is a correct value. Why isn't the single quote character in the word Howl's not escaped a problem?"
   ]
  },
  {
   "cell_type": "code",
   "execution_count": 7,
   "id": "c8cb56b8",
   "metadata": {},
   "outputs": [
    {
     "name": "stdout",
     "output_type": "stream",
     "text": [
      "Hello, Aditi!\n",
      "Hello, Teli!\n"
     ]
    }
   ],
   "source": [
    "print(\"Hello, Aditi!\")\n",
    "print('Hello, Teli!')"
   ]
  },
  {
   "cell_type": "raw",
   "id": "06899248",
   "metadata": {},
   "source": [
    "5. How do you write a string of newlines if you don't want to use the n character?"
   ]
  },
  {
   "cell_type": "code",
   "execution_count": 10,
   "id": "0b922676",
   "metadata": {},
   "outputs": [
    {
     "name": "stdout",
     "output_type": "stream",
     "text": [
      "This is a string spanning multiple lines without using escape characters.\n"
     ]
    }
   ],
   "source": [
    "x = \"\"\"This is a string spanning multiple lines without using escape characters.\"\"\"\n",
    "print(x)"
   ]
  },
  {
   "cell_type": "raw",
   "id": "590bd3a2",
   "metadata": {},
   "source": [
    "6. What are the values of the given expressions?\n",
    "'Hello, world!'[1]\n",
    "'Hello, world!'[0:5]\n",
    "'Hello, world!'[:5]\n",
    "'Hello, world!'[3:]"
   ]
  },
  {
   "cell_type": "code",
   "execution_count": 19,
   "id": "4a2c3f35",
   "metadata": {},
   "outputs": [
    {
     "name": "stdout",
     "output_type": "stream",
     "text": [
      "e\n"
     ]
    }
   ],
   "source": [
    "print('Hello, world!'[1])"
   ]
  },
  {
   "cell_type": "code",
   "execution_count": 20,
   "id": "04475761",
   "metadata": {},
   "outputs": [
    {
     "name": "stdout",
     "output_type": "stream",
     "text": [
      "Hello\n"
     ]
    }
   ],
   "source": [
    "print('Hello, world!'[0:5])"
   ]
  },
  {
   "cell_type": "code",
   "execution_count": 21,
   "id": "898b5bd2",
   "metadata": {},
   "outputs": [
    {
     "name": "stdout",
     "output_type": "stream",
     "text": [
      "Hello\n"
     ]
    }
   ],
   "source": [
    "print('Hello, world!'[:5])"
   ]
  },
  {
   "cell_type": "code",
   "execution_count": 22,
   "id": "fc5868d4",
   "metadata": {},
   "outputs": [
    {
     "name": "stdout",
     "output_type": "stream",
     "text": [
      "lo, world!\n"
     ]
    }
   ],
   "source": [
    "print('Hello, world!'[3:])"
   ]
  },
  {
   "cell_type": "raw",
   "id": "0f978a35",
   "metadata": {},
   "source": [
    "7. What are the values of the following expressions?\n",
    "'Hello'.upper()\n",
    "'Hello'.upper().isupper()\n",
    "'Hello'.upper().lower()"
   ]
  },
  {
   "cell_type": "code",
   "execution_count": 23,
   "id": "cfb540f1",
   "metadata": {},
   "outputs": [
    {
     "name": "stdout",
     "output_type": "stream",
     "text": [
      "HELLO\n"
     ]
    }
   ],
   "source": [
    "print('Hello'.upper())"
   ]
  },
  {
   "cell_type": "code",
   "execution_count": 24,
   "id": "2c294095",
   "metadata": {},
   "outputs": [
    {
     "name": "stdout",
     "output_type": "stream",
     "text": [
      "True\n"
     ]
    }
   ],
   "source": [
    "print('Hello'.upper().isupper())"
   ]
  },
  {
   "cell_type": "code",
   "execution_count": 25,
   "id": "273913d9",
   "metadata": {},
   "outputs": [
    {
     "name": "stdout",
     "output_type": "stream",
     "text": [
      "hello\n"
     ]
    }
   ],
   "source": [
    "print('Hello'.upper().lower())"
   ]
  },
  {
   "cell_type": "raw",
   "id": "dc4ec9eb",
   "metadata": {},
   "source": [
    "8. What are the values of the following expressions?\n",
    "'Remember, remember, the fifth of July.'.split()\n",
    "'-'.join('There can only one.'.split())"
   ]
  },
  {
   "cell_type": "code",
   "execution_count": 26,
   "id": "b0d8f62a",
   "metadata": {},
   "outputs": [
    {
     "name": "stdout",
     "output_type": "stream",
     "text": [
      "['Remember,', 'remember,', 'the', 'fifth', 'of', 'July.']\n"
     ]
    }
   ],
   "source": [
    "print('Remember, remember, the fifth of July.'.split())"
   ]
  },
  {
   "cell_type": "code",
   "execution_count": 27,
   "id": "ef5e4f32",
   "metadata": {},
   "outputs": [
    {
     "name": "stdout",
     "output_type": "stream",
     "text": [
      "There-can-only-be-one.\n"
     ]
    }
   ],
   "source": [
    "print('-'.join('There can only be one.'.split()))"
   ]
  },
  {
   "cell_type": "raw",
   "id": "a05beeab",
   "metadata": {},
   "source": [
    "9. What are the methods for right-justifying, left-justifying, and centering a string?"
   ]
  },
  {
   "cell_type": "code",
   "execution_count": 31,
   "id": "183b10f0",
   "metadata": {},
   "outputs": [
    {
     "name": "stdout",
     "output_type": "stream",
     "text": [
      "     Hello\n"
     ]
    }
   ],
   "source": [
    "text = 'Hello'\n",
    "\n",
    "right_justified = text.rjust(10)\n",
    "print(right_justified)"
   ]
  },
  {
   "cell_type": "code",
   "execution_count": 32,
   "id": "a8d0246c",
   "metadata": {},
   "outputs": [
    {
     "name": "stdout",
     "output_type": "stream",
     "text": [
      "Hello-----\n"
     ]
    }
   ],
   "source": [
    "left_justified = text.ljust(10, '-')\n",
    "print(left_justified)"
   ]
  },
  {
   "cell_type": "code",
   "execution_count": 33,
   "id": "b962536f",
   "metadata": {},
   "outputs": [
    {
     "name": "stdout",
     "output_type": "stream",
     "text": [
      "***Hello***\n"
     ]
    }
   ],
   "source": [
    "centered = text.center(11, '*')\n",
    "print(centered)"
   ]
  },
  {
   "cell_type": "raw",
   "id": "b0076f65",
   "metadata": {},
   "source": [
    "10. What is the best way to remove whitespace characters from the start or end?"
   ]
  },
  {
   "cell_type": "code",
   "execution_count": 37,
   "id": "daea5cc9",
   "metadata": {},
   "outputs": [
    {
     "name": "stdout",
     "output_type": "stream",
     "text": [
      "Aditi, Teli\n"
     ]
    }
   ],
   "source": [
    "text = '   Aditi, Teli   '\n",
    "trimmed_text = text.strip()\n",
    "print(trimmed_text)"
   ]
  },
  {
   "cell_type": "code",
   "execution_count": null,
   "id": "919bf6a4",
   "metadata": {},
   "outputs": [],
   "source": []
  },
  {
   "cell_type": "code",
   "execution_count": null,
   "id": "c831b8f5",
   "metadata": {},
   "outputs": [],
   "source": []
  }
 ],
 "metadata": {
  "kernelspec": {
   "display_name": "Python 3 (ipykernel)",
   "language": "python",
   "name": "python3"
  },
  "language_info": {
   "codemirror_mode": {
    "name": "ipython",
    "version": 3
   },
   "file_extension": ".py",
   "mimetype": "text/x-python",
   "name": "python",
   "nbconvert_exporter": "python",
   "pygments_lexer": "ipython3",
   "version": "3.9.13"
  }
 },
 "nbformat": 4,
 "nbformat_minor": 5
}
