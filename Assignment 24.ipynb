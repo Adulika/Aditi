{
 "cells": [
  {
   "cell_type": "raw",
   "id": "6701fb00",
   "metadata": {},
   "source": [
    "1. What is the relationship between def statements and lambda expressions ?"
   ]
  },
  {
   "cell_type": "code",
   "execution_count": 3,
   "id": "43274e01",
   "metadata": {},
   "outputs": [
    {
     "name": "stdout",
     "output_type": "stream",
     "text": [
      "25\n"
     ]
    }
   ],
   "source": [
    "#Using a def statement:\n",
    "\n",
    "def square(a):\n",
    "    \"\"\"Returns the square of a number.\"\"\"\n",
    "    return a * a\n",
    "\n",
    "result_def = square(5)\n",
    "print(result_def)"
   ]
  },
  {
   "cell_type": "code",
   "execution_count": 5,
   "id": "0a584dcc",
   "metadata": {},
   "outputs": [
    {
     "name": "stdout",
     "output_type": "stream",
     "text": [
      "36\n"
     ]
    }
   ],
   "source": [
    "#Using a lambda expression:\n",
    "\n",
    "square_lambda = lambda x: x * x\n",
    "\n",
    "result_lambda = square_lambda(6)\n",
    "print(result_lambda)"
   ]
  },
  {
   "cell_type": "raw",
   "id": "cae9f1d7",
   "metadata": {},
   "source": [
    "2. What is the benefit of lambda?"
   ]
  },
  {
   "cell_type": "code",
   "execution_count": 1,
   "id": "746a6f83",
   "metadata": {},
   "outputs": [
    {
     "name": "stdout",
     "output_type": "stream",
     "text": [
      "25\n"
     ]
    }
   ],
   "source": [
    "square = lambda x: x ** 2\n",
    "result = square(5)\n",
    "print(result)"
   ]
  },
  {
   "cell_type": "raw",
   "id": "4307aac5",
   "metadata": {},
   "source": [
    "Lambda functions, often referred to as \"anonymous functions\" or \"lambda expressions,\" offer several benefits in programming, particularly in languages that support functional programming paradigms."
   ]
  },
  {
   "cell_type": "raw",
   "id": "ce2ce140",
   "metadata": {},
   "source": [
    "3. Compare and contrast map, filter, and reduce."
   ]
  },
  {
   "cell_type": "code",
   "execution_count": null,
   "id": "7e0315ef",
   "metadata": {},
   "outputs": [],
   "source": [
    "# Using map to square each element in a list"
   ]
  },
  {
   "cell_type": "code",
   "execution_count": 5,
   "id": "af69208b",
   "metadata": {},
   "outputs": [],
   "source": [
    "numbers = [1, 2, 3, 4]\n",
    "squared = map(lambda x: x ** 2, numbers)\n",
    "squared_list = list(squared)"
   ]
  },
  {
   "cell_type": "code",
   "execution_count": null,
   "id": "c7923b6d",
   "metadata": {},
   "outputs": [],
   "source": [
    "# Using filter to select even numbers from a list"
   ]
  },
  {
   "cell_type": "code",
   "execution_count": 6,
   "id": "5f0ad9be",
   "metadata": {},
   "outputs": [],
   "source": [
    "numbers = [1, 2, 3, 4, 5, 6]\n",
    "even_numbers = filter(lambda x: x % 2 == 0, numbers)\n",
    "even_numbers_list = list(even_numbers)"
   ]
  },
  {
   "cell_type": "code",
   "execution_count": null,
   "id": "ceac1711",
   "metadata": {},
   "outputs": [],
   "source": [
    "# Using reduce to calculate the product of elements in a list"
   ]
  },
  {
   "cell_type": "code",
   "execution_count": 4,
   "id": "24f2777b",
   "metadata": {},
   "outputs": [],
   "source": [
    "from functools import reduce\n",
    "numbers = [2, 3, 4]\n",
    "product = reduce(lambda x, y: x * y, numbers)"
   ]
  },
  {
   "cell_type": "raw",
   "id": "5d9daf07",
   "metadata": {},
   "source": [
    "4. What are function annotations, and how are they used?"
   ]
  },
  {
   "cell_type": "raw",
   "id": "b8142e1a",
   "metadata": {},
   "source": [
    "Function annotations, also known as type hints, are a feature in many programming languages that allow you to provide additional information about the types of function parameters, the return type of the function, and sometimes even the types of variables within the function. Function annotations are used to provide clearer documentation about the expected types and behaviors of functions, which can help improve code readability, maintainability, and can also be used by static analysis tools or type checking systems to catch potential type-related errors."
   ]
  },
  {
   "cell_type": "code",
   "execution_count": null,
   "id": "3c9528bf",
   "metadata": {},
   "outputs": [],
   "source": [
    "#Annotating Parameters and Return Type:"
   ]
  },
  {
   "cell_type": "code",
   "execution_count": 7,
   "id": "ef0b7279",
   "metadata": {},
   "outputs": [],
   "source": [
    "def add(a: int, b: int) -> int:\n",
    "    return a + b"
   ]
  },
  {
   "cell_type": "code",
   "execution_count": null,
   "id": "18e5937a",
   "metadata": {},
   "outputs": [],
   "source": [
    "#Optional Parameters and Default Values:"
   ]
  },
  {
   "cell_type": "code",
   "execution_count": 8,
   "id": "63cb342f",
   "metadata": {},
   "outputs": [],
   "source": [
    "def greet(name: str = \"Guest\") -> str:\n",
    "    return \"Hello, \" + name"
   ]
  },
  {
   "cell_type": "code",
   "execution_count": null,
   "id": "53746f7a",
   "metadata": {},
   "outputs": [],
   "source": [
    "#Using Type Aliases:"
   ]
  },
  {
   "cell_type": "code",
   "execution_count": 9,
   "id": "585fcb5c",
   "metadata": {},
   "outputs": [],
   "source": [
    "from typing import List, Tuple\n",
    "\n",
    "def process_data(data: List[Tuple[int, str]]) -> List[str]:\n",
    "    # Process data...\n",
    "    return processed_data"
   ]
  },
  {
   "cell_type": "raw",
   "id": "4a5af9fb",
   "metadata": {},
   "source": [
    "5. What are recursive functions, and how are they used?"
   ]
  },
  {
   "cell_type": "code",
   "execution_count": 1,
   "id": "dddfae99",
   "metadata": {},
   "outputs": [],
   "source": [
    "def factorial(n):\n",
    "    if n == 0:\n",
    "        return 1\n",
    "    else:\n",
    "        return n * factorial(n - 1)"
   ]
  },
  {
   "cell_type": "raw",
   "id": "01b9b8bc",
   "metadata": {},
   "source": [
    "6. What are some general design guidelines for coding functions?"
   ]
  },
  {
   "cell_type": "raw",
   "id": "e2253d40",
   "metadata": {},
   "source": [
    "#Single Responsibility Principle (SRP): A function should have a single, well-defined purpose. This makes the function easier to understand, test, and maintain. If a function is doing too many things, consider breaking it into smaller functions.\n",
    "\n",
    "#Descriptive Naming: Choose clear and meaningful names for functions that accurately reflect their purpose. A good function name should convey what the function does without requiring readers to delve into the implementation.\n",
    "\n",
    "#Modularity: Divide your code into small, reusable functions that can be combined to solve larger problems. This promotes code reusability and makes your codebase more maintainable."
   ]
  },
  {
   "cell_type": "code",
   "execution_count": 3,
   "id": "7dbd888c",
   "metadata": {},
   "outputs": [],
   "source": [
    "def calculate_rectangle_area(length, width):\n",
    "    \"\"\"Calculates the area of a rectangle.\n",
    "    Args:\n",
    "        length (float): The length of the rectangle.\n",
    "        width (float): The width of the rectangle.\n",
    "    Returns:\n",
    "        float: The area of the rectangle.\"\"\"\n",
    "    if length <= 0 or width <= 0:\n",
    "        raise ValueError(\"Both length and width must be positive.\")\n",
    "    \n",
    "    area = length * width\n",
    "    return area"
   ]
  },
  {
   "cell_type": "raw",
   "id": "ddea993e",
   "metadata": {},
   "source": [
    "7. Name three or more ways that functions can communicate results to a caller."
   ]
  },
  {
   "cell_type": "raw",
   "id": "3a4ef20b",
   "metadata": {},
   "source": [
    "1 Return Values: Functions often communicate results by returning a value. The value can be of any data type, including basic types like numbers or strings, as well as more complex types like lists, dictionaries, or custom objects."
   ]
  },
  {
   "cell_type": "code",
   "execution_count": 4,
   "id": "65d3dca4",
   "metadata": {},
   "outputs": [],
   "source": [
    "def add(a, b):\n",
    "    return a + b\n",
    "\n",
    "result = add(5, 3)"
   ]
  },
  {
   "cell_type": "raw",
   "id": "2ae2f0eb",
   "metadata": {},
   "source": [
    "2.Output Parameters: While less common in languages like Python, some programming languages allow you to pass parameters to functions by reference. This means the function can modify the value of the parameter directly, and the modified value is communicated back to the caller."
   ]
  },
  {
   "cell_type": "code",
   "execution_count": 5,
   "id": "3279e722",
   "metadata": {},
   "outputs": [
    {
     "ename": "SyntaxError",
     "evalue": "invalid syntax (733124310.py, line 1)",
     "output_type": "error",
     "traceback": [
      "\u001b[1;36m  File \u001b[1;32m\"C:\\Users\\Admin\\AppData\\Local\\Temp\\ipykernel_14100\\733124310.py\"\u001b[1;36m, line \u001b[1;32m1\u001b[0m\n\u001b[1;33m    void modifyValue(int &x) {x = x * 2;}\u001b[0m\n\u001b[1;37m         ^\u001b[0m\n\u001b[1;31mSyntaxError\u001b[0m\u001b[1;31m:\u001b[0m invalid syntax\n"
     ]
    }
   ],
   "source": [
    "void modifyValue(int &x) {x = x * 2;}\n",
    "int value = 10;\n",
    "modifyValue(value);  // The modified value is communicated back to 'value'"
   ]
  },
  {
   "cell_type": "raw",
   "id": "b59347de",
   "metadata": {},
   "source": [
    "3. Side Effects: Functions can communicate results indirectly by modifying variables outside their own scope. This is often considered less desirable, as it can make code harder to understand and debug. However, some functions are intentionally designed to have side effects."
   ]
  },
  {
   "cell_type": "code",
   "execution_count": 8,
   "id": "b683d1e7",
   "metadata": {},
   "outputs": [],
   "source": [
    "def increment_counter(counter):\n",
    "    counter += 1\n",
    "\n",
    "count = 5\n",
    "increment_counter(count)"
   ]
  },
  {
   "cell_type": "raw",
   "id": "b45061e3",
   "metadata": {},
   "source": [
    "4. Exceptions: In many programming languages, functions can communicate exceptional situations or errors to the caller by throwing exceptions. The caller can then catch and handle these exceptions as needed."
   ]
  },
  {
   "cell_type": "code",
   "execution_count": 9,
   "id": "aeda8f27",
   "metadata": {},
   "outputs": [
    {
     "name": "stdout",
     "output_type": "stream",
     "text": [
      "Cannot divide by zero\n"
     ]
    }
   ],
   "source": [
    "def divide(a, b):\n",
    "    if b == 0:\n",
    "        raise ValueError(\"Cannot divide by zero\")\n",
    "    return a / b\n",
    "\n",
    "try:\n",
    "    result = divide(10, 0)\n",
    "except ValueError as e:\n",
    "    print(e)"
   ]
  },
  {
   "cell_type": "raw",
   "id": "886c4357",
   "metadata": {},
   "source": [
    "5. What are recursive functions, and how are they used?"
   ]
  },
  {
   "cell_type": "code",
   "execution_count": 1,
   "id": "a5383523",
   "metadata": {},
   "outputs": [],
   "source": [
    "def factorial(n):\n",
    "    # Base case\n",
    "    if n == 0:\n",
    "        return 1\n",
    "    # Recursive case\n",
    "    else:\n",
    "        return n * factorial(n - 1)"
   ]
  },
  {
   "cell_type": "raw",
   "id": "1627d45b",
   "metadata": {},
   "source": [
    "6. What are some general design guidelines for coding functions?"
   ]
  },
  {
   "cell_type": "raw",
   "id": "79cb4012",
   "metadata": {},
   "source": [
    "#Single Responsibility Principle (SRP): Each function should have a single, well-defined responsibility. It should do one thing and do it well. This makes your code easier to understand, test, and maintain.\n",
    "\n",
    "#Descriptive Function Names: Choose descriptive and meaningful names for your functions. A good function name should convey its purpose and what it does. Avoid cryptic or overly abbreviated names.\n",
    "\n",
    "#Function Length: Keep functions reasonably short and focused. A common guideline is the \"20-line rule,\" where a function should ideally fit within 20 lines of code. However, this can vary depending on the programming language and context.\n",
    "\n",
    "#Function Parameters: Limit the number of parameters a function accepts. If a function has too many parameters, it can become difficult to use and understand. Consider using objects or data structures to group related parameters."
   ]
  },
  {
   "cell_type": "code",
   "execution_count": 2,
   "id": "e3bebddc",
   "metadata": {},
   "outputs": [],
   "source": [
    "# Good: Descriptive function name\n",
    "def calculate_area_of_circle(radius):\n",
    "    return 3.14 * radius * radius"
   ]
  },
  {
   "cell_type": "code",
   "execution_count": 3,
   "id": "33d9f44c",
   "metadata": {},
   "outputs": [],
   "source": [
    "# Bad: Non-descriptive name\n",
    "def calc(x):\n",
    "    return 3.14 * x * x"
   ]
  },
  {
   "cell_type": "code",
   "execution_count": 5,
   "id": "a01af97a",
   "metadata": {},
   "outputs": [
    {
     "name": "stdout",
     "output_type": "stream",
     "text": [
      "Hello, Aditi!\n",
      "Hi, Vandu!\n"
     ]
    }
   ],
   "source": [
    "# Using default arguments for flexibility\n",
    "def greet(name, greeting=\"Hello\"):\n",
    "    return f\"{greeting}, {name}!\"\n",
    "\n",
    "# Calling with and without a custom greeting\n",
    "print(greet(\"Aditi\"))   \n",
    "print(greet(\"Vandu\", \"Hi\"))     "
   ]
  },
  {
   "cell_type": "code",
   "execution_count": null,
   "id": "02b0163a",
   "metadata": {},
   "outputs": [],
   "source": [
    "7. Name three or more ways that functions can communicate results to a caller."
   ]
  },
  {
   "cell_type": "raw",
   "id": "0b4ae58e",
   "metadata": {},
   "source": [
    "#Return Values: Functions often return values to the caller. These values can be of any data type, including integers, strings, objects, or even other functions. The caller can use the returned value directly or assign it to a variable for further processing.\n",
    "\n",
    "#Output Parameters: Instead of returning values, functions can modify variables that are passed to them as parameters. These modified variables can hold the results of the function's computation. This is common in languages like C++ and C# where you can pass variables by reference.\n",
    "\n",
    "#Exceptions: Functions can throw exceptions or errors to communicate when something goes wrong or when a specific condition is met. The caller can then catch and handle these exceptions to respond appropriately.\n",
    "\n",
    "#Callback Functions: In languages that support higher-order functions or callbacks, you can pass a function as an argument to another function. The called function can then execute the callback function and pass results to it. This is often used in asynchronous programming and event handling."
   ]
  },
  {
   "cell_type": "code",
   "execution_count": 2,
   "id": "2f38df24",
   "metadata": {},
   "outputs": [
    {
     "name": "stdout",
     "output_type": "stream",
     "text": [
      "14\n"
     ]
    }
   ],
   "source": [
    "Return Values:-\n",
    "def add(a, b):\n",
    "    return a + b\n",
    "\n",
    "result = add(9, 5)\n",
    "print(result)"
   ]
  },
  {
   "cell_type": "code",
   "execution_count": 5,
   "id": "5ab64d4b",
   "metadata": {},
   "outputs": [
    {
     "name": "stdout",
     "output_type": "stream",
     "text": [
      "40\n",
      "2.5\n"
     ]
    }
   ],
   "source": [
    "Output Parameters\n",
    "def multiply_and_divide(x, y):\n",
    "    return x * y, x / y\n",
    "\n",
    "product, quotient = multiply_and_divide(10, 4)\n",
    "print(product)\n",
    "print(quotient)"
   ]
  },
  {
   "cell_type": "code",
   "execution_count": 6,
   "id": "d203c966",
   "metadata": {},
   "outputs": [
    {
     "name": "stdout",
     "output_type": "stream",
     "text": [
      "Error: Division by zero\n"
     ]
    }
   ],
   "source": [
    "Exceptions\n",
    "def safe_divide(a, b):\n",
    "    try:\n",
    "        result = a / b\n",
    "    except ZeroDivisionError:\n",
    "        result = \"Error: Division by zero\"\n",
    "    return result\n",
    "\n",
    "result = safe_divide(10, 0)\n",
    "print(result)"
   ]
  },
  {
   "cell_type": "code",
   "execution_count": 8,
   "id": "7d9c44c3",
   "metadata": {},
   "outputs": [
    {
     "name": "stdout",
     "output_type": "stream",
     "text": [
      "12\n"
     ]
    }
   ],
   "source": [
    "Callback Functions\n",
    "def apply_operation(x, y, operation):\n",
    "    return operation(x, y)\n",
    "\n",
    "def add(x, y):\n",
    "    return x + y\n",
    "\n",
    "result = apply_operation(3, 9, add)\n",
    "print(result)"
   ]
  },
  {
   "cell_type": "code",
   "execution_count": null,
   "id": "e7f41172",
   "metadata": {},
   "outputs": [],
   "source": []
  },
  {
   "cell_type": "code",
   "execution_count": null,
   "id": "78c338e8",
   "metadata": {},
   "outputs": [],
   "source": []
  },
  {
   "cell_type": "code",
   "execution_count": null,
   "id": "afc7ed39",
   "metadata": {},
   "outputs": [],
   "source": []
  },
  {
   "cell_type": "code",
   "execution_count": null,
   "id": "328065e5",
   "metadata": {},
   "outputs": [],
   "source": []
  },
  {
   "cell_type": "code",
   "execution_count": null,
   "id": "017e2d62",
   "metadata": {},
   "outputs": [],
   "source": []
  },
  {
   "cell_type": "code",
   "execution_count": null,
   "id": "3fe91422",
   "metadata": {},
   "outputs": [],
   "source": []
  }
 ],
 "metadata": {
  "kernelspec": {
   "display_name": "Python 3 (ipykernel)",
   "language": "python",
   "name": "python3"
  },
  "language_info": {
   "codemirror_mode": {
    "name": "ipython",
    "version": 3
   },
   "file_extension": ".py",
   "mimetype": "text/x-python",
   "name": "python",
   "nbconvert_exporter": "python",
   "pygments_lexer": "ipython3",
   "version": "3.9.13"
  }
 },
 "nbformat": 4,
 "nbformat_minor": 5
}
