{
 "cells": [
  {
   "cell_type": "raw",
   "id": "89aadb92",
   "metadata": {},
   "source": [
    "1.\tWrite a Python program for removing i-th character from a string?"
   ]
  },
  {
   "cell_type": "code",
   "execution_count": 2,
   "id": "cc381dc3",
   "metadata": {},
   "outputs": [
    {
     "name": "stdout",
     "output_type": "stream",
     "text": [
      "String after removing the 3-th character: Adii\n"
     ]
    }
   ],
   "source": [
    "def remove_ith_character(input_string, i):\n",
    "    if i < 0 or i >= len(input_string):\n",
    "        return \"Invalid index\"\n",
    "\n",
    "    return input_string[:i] + input_string[i+1:]\n",
    "\n",
    "my_string = \"Aditi\"\n",
    "index_to_remove = 3\n",
    "result = remove_ith_character(my_string, index_to_remove)\n",
    "print(f\"String after removing the {index_to_remove}-th character: {result}\")"
   ]
  },
  {
   "cell_type": "raw",
   "id": "4f67eda0",
   "metadata": {},
   "source": [
    "2.\tWrite a Python program to split and join a string?"
   ]
  },
  {
   "cell_type": "code",
   "execution_count": 4,
   "id": "f72fc93e",
   "metadata": {},
   "outputs": [
    {
     "name": "stdout",
     "output_type": "stream",
     "text": [
      "Split string: ['Hello', 'chef', 'this', 'is', 'a', 'banana', 'puree']\n"
     ]
    }
   ],
   "source": [
    "#Splitting a string:\n",
    "def split_string(input_string, delimiter):\n",
    "    return input_string.split(delimiter)\n",
    "\n",
    "my_string = \"Hello,chef,this,is,a,banana,puree\"\n",
    "separator = ','\n",
    "result = split_string(my_string, separator)\n",
    "print(\"Split string:\", result)"
   ]
  },
  {
   "cell_type": "raw",
   "id": "9a5be743",
   "metadata": {},
   "source": [
    "3.\tWrite a Python to check if a given string is binary string or not?"
   ]
  },
  {
   "cell_type": "code",
   "execution_count": 8,
   "id": "b8cbb5c3",
   "metadata": {},
   "outputs": [
    {
     "name": "stdout",
     "output_type": "stream",
     "text": [
      "The string '101010101' is a binary string\n"
     ]
    }
   ],
   "source": [
    "def is_binary_string(input_string):\n",
    "    for char in input_string:\n",
    "        if char != '0' and char != '1':\n",
    "            return False\n",
    "    return True\n",
    "\n",
    "binary_string = \"101010101\"\n",
    "result = is_binary_string(binary_string)\n",
    "if result:\n",
    "    print(f\"The string '{binary_string}' is a binary string\")\n",
    "else:\n",
    "    print(f\"The string '{binary_string}' is not a binary string\")"
   ]
  },
  {
   "cell_type": "raw",
   "id": "62dfd015",
   "metadata": {},
   "source": [
    "4.\tWrite a Python program to find uncommon words from two Strings?"
   ]
  },
  {
   "cell_type": "code",
   "execution_count": 10,
   "id": "1aa0ceb2",
   "metadata": {},
   "outputs": [
    {
     "name": "stdout",
     "output_type": "stream",
     "text": [
      "Uncommon words: {'Aditi', 'Prathamesh'}\n"
     ]
    }
   ],
   "source": [
    "def find_uncommon_words(string1, string2):\n",
    "    words1 = set(string1.split())\n",
    "    words2 = set(string2.split())\n",
    "    \n",
    "    uncommon_words = words1.symmetric_difference(words2)\n",
    "    return uncommon_words\n",
    "\n",
    "string1 = \"This is the Aditi Teli\"\n",
    "string2 = \"This is the Prathamesh Teli\"\n",
    "uncommon = find_uncommon_words(string1, string2)\n",
    "print(\"Uncommon words:\", uncommon)"
   ]
  },
  {
   "cell_type": "raw",
   "id": "7091d05f",
   "metadata": {},
   "source": [
    "5.\tWrite a Python to find all duplicate characters in string?"
   ]
  },
  {
   "cell_type": "code",
   "execution_count": 13,
   "id": "dd2f4588",
   "metadata": {},
   "outputs": [
    {
     "name": "stdout",
     "output_type": "stream",
     "text": [
      "Duplicate characters: ['u', 'z', 'i']\n"
     ]
    }
   ],
   "source": [
    "def find_duplicate_characters(input_string):\n",
    "    duplicates = []\n",
    "    char_count = {}\n",
    "\n",
    "    for char in input_string:\n",
    "        if char in char_count:\n",
    "            char_count[char] += 1\n",
    "        else:\n",
    "            char_count[char] = 1\n",
    "\n",
    "    for char, count in char_count.items():\n",
    "        if count > 1:\n",
    "            duplicates.append(char)\n",
    "\n",
    "    return duplicates\n",
    "\n",
    "my_string = \"suzimuzi\"\n",
    "\n",
    "result = find_duplicate_characters(my_string)\n",
    "print(\"Duplicate characters:\", result)"
   ]
  },
  {
   "cell_type": "raw",
   "id": "1ff6b4eb",
   "metadata": {},
   "source": [
    "6.\tWrite a Python Program to check if a string contains any special character?"
   ]
  },
  {
   "cell_type": "code",
   "execution_count": 17,
   "id": "9f6dff54",
   "metadata": {},
   "outputs": [
    {
     "name": "stdout",
     "output_type": "stream",
     "text": [
      "The string contains special character(e.)\n"
     ]
    }
   ],
   "source": [
    "import string\n",
    "\n",
    "def contains_special_character(input_string):\n",
    "    special_characters = set(string.punctuation)\n",
    "    \n",
    "    for char in input_string:\n",
    "        if char in special_characters:\n",
    "            return True\n",
    "    \n",
    "    return False\n",
    "\n",
    "my_string = \"Bbye. See you soon.\"\n",
    "result = contains_special_character(my_string)\n",
    "if result:\n",
    "    print(\"The string contains special character(e.)\")\n",
    "else:\n",
    "    print(\"The string does not contain any special characters\")"
   ]
  },
  {
   "cell_type": "raw",
   "id": "9565074f",
   "metadata": {},
   "source": [
    "7.\tWrite a Python Program to check if a string contains any special character?"
   ]
  },
  {
   "cell_type": "code",
   "execution_count": 1,
   "id": "d1088303",
   "metadata": {},
   "outputs": [
    {
     "name": "stdout",
     "output_type": "stream",
     "text": [
      "Enter a string: i love_you very much! r u sure?\n",
      "String contains special characters.\n"
     ]
    }
   ],
   "source": [
    "import re\n",
    "\n",
    "def has_special_character(input_string):\n",
    "    special_char_pattern = re.compile(r'[@_!#$%^&*()<>?/\\|}{~:]')\n",
    "\n",
    "    if special_char_pattern.search(input_string) is not None:\n",
    "        return True\n",
    "    else:\n",
    "        return False\n",
    "user_input = input(\"Enter a string: \")\n",
    "if has_special_character(user_input):\n",
    "    print(\"String contains special characters.\")\n",
    "else:\n",
    "    print(\"String does not contain special characters.\")\n"
   ]
  },
  {
   "cell_type": "code",
   "execution_count": null,
   "id": "fef01ed9",
   "metadata": {},
   "outputs": [],
   "source": []
  },
  {
   "cell_type": "code",
   "execution_count": null,
   "id": "8db9fe4f",
   "metadata": {},
   "outputs": [],
   "source": []
  }
 ],
 "metadata": {
  "kernelspec": {
   "display_name": "Python 3 (ipykernel)",
   "language": "python",
   "name": "python3"
  },
  "language_info": {
   "codemirror_mode": {
    "name": "ipython",
    "version": 3
   },
   "file_extension": ".py",
   "mimetype": "text/x-python",
   "name": "python",
   "nbconvert_exporter": "python",
   "pygments_lexer": "ipython3",
   "version": "3.9.13"
  }
 },
 "nbformat": 4,
 "nbformat_minor": 5
}
