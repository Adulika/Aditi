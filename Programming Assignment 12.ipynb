{
 "cells": [
  {
   "cell_type": "raw",
   "id": "e7204f68",
   "metadata": {},
   "source": [
    "1.\tWrite a Python program to Extract Unique values dictionary values?"
   ]
  },
  {
   "cell_type": "code",
   "execution_count": 2,
   "id": "f0d00cb4",
   "metadata": {},
   "outputs": [
    {
     "name": "stdout",
     "output_type": "stream",
     "text": [
      "Original Dictionary: {'a': 1, 'b': [2, 3, 4], 'c': 5, 'd': [1, 2, 3]}\n",
      "Unique Values: [1, 2, 3, 4, 5]\n"
     ]
    }
   ],
   "source": [
    "def extract_unique_values(dictionary):\n",
    "    unique_values = set()\n",
    "\n",
    "    for values in dictionary.values():\n",
    "        if isinstance(values, list):\n",
    "            unique_values.update(values)\n",
    "        else:\n",
    "            unique_values.add(values)\n",
    "\n",
    "    return list(unique_values)\n",
    "sample_dict = {'a': 1, 'b': [2, 3, 4], 'c': 5, 'd': [1, 2, 3]}\n",
    "result = extract_unique_values(sample_dict)\n",
    "\n",
    "print(\"Original Dictionary:\", sample_dict)\n",
    "print(\"Unique Values:\", result)"
   ]
  },
  {
   "cell_type": "raw",
   "id": "f9917b81",
   "metadata": {},
   "source": [
    "2.\tWrite a Python program to find the sum of all items in a dictionary?"
   ]
  },
  {
   "cell_type": "code",
   "execution_count": 3,
   "id": "a837af42",
   "metadata": {},
   "outputs": [
    {
     "name": "stdout",
     "output_type": "stream",
     "text": [
      "Original Dictionary: {'a': 1, 'b': 2, 'c': 3, 'd': 4}\n",
      "Sum of Dictionary Items: 10\n"
     ]
    }
   ],
   "source": [
    "def sum_of_dictionary_items(dictionary):\n",
    "    total_sum = sum(dictionary.values())\n",
    "    return total_sum\n",
    "sample_dict = {'a': 1, 'b': 2, 'c': 3, 'd': 4}\n",
    "result = sum_of_dictionary_items(sample_dict)\n",
    "\n",
    "print(\"Original Dictionary:\", sample_dict)\n",
    "print(\"Sum of Dictionary Items:\", result)"
   ]
  },
  {
   "cell_type": "raw",
   "id": "f9a70c89",
   "metadata": {},
   "source": [
    "3.\tWrite a Python program to Merging two Dictionaries?"
   ]
  },
  {
   "cell_type": "code",
   "execution_count": 4,
   "id": "5efda4c3",
   "metadata": {},
   "outputs": [
    {
     "name": "stdout",
     "output_type": "stream",
     "text": [
      "Original Dictionary 1: {'a': 1, 'b': 2}\n",
      "Original Dictionary 2: {'b': 3, 'c': 4}\n",
      "Merged Dictionary (Using update()): {'a': 1, 'b': 3, 'c': 4}\n",
      "Merged Dictionary (Using syntax): {'a': 1, 'b': 3, 'c': 4}\n"
     ]
    }
   ],
   "source": [
    "def merge_dictionaries(dict1, dict2):\n",
    "    # Method 1: Using update()\n",
    "    merged_dict1 = dict1.copy()\n",
    "    merged_dict1.update(dict2)\n",
    "\n",
    "    # Method 2: Using {**d1, **d2}\n",
    "    merged_dict2 = {**dict1, **dict2}\n",
    "\n",
    "    return merged_dict1, merged_dict2\n",
    "dict_a = {'a': 1, 'b': 2}\n",
    "dict_b = {'b': 3, 'c': 4}\n",
    "\n",
    "result_update, result_syntax = merge_dictionaries(dict_a, dict_b)\n",
    "\n",
    "print(\"Original Dictionary 1:\", dict_a)\n",
    "print(\"Original Dictionary 2:\", dict_b)\n",
    "print(\"Merged Dictionary (Using update()):\", result_update)\n",
    "print(\"Merged Dictionary (Using syntax):\", result_syntax)"
   ]
  },
  {
   "cell_type": "raw",
   "id": "6ab10351",
   "metadata": {},
   "source": [
    "4.\tWrite a Python program to convert key-values list to flat dictionary?"
   ]
  },
  {
   "cell_type": "code",
   "execution_count": 5,
   "id": "7f00f679",
   "metadata": {},
   "outputs": [
    {
     "name": "stdout",
     "output_type": "stream",
     "text": [
      "Original Key-Value List: [('a', 1), ('b', 2), ('c', 3)]\n",
      "Flat Dictionary: {'a': 1, 'b': 2, 'c': 3}\n"
     ]
    }
   ],
   "source": [
    "def list_to_flat_dictionary(kv_list):\n",
    "    flat_dict = {}\n",
    "    \n",
    "    for key, value in kv_list:\n",
    "        flat_dict[key] = value\n",
    "    \n",
    "    return flat_dict\n",
    "key_value_list = [('a', 1), ('b', 2), ('c', 3)]\n",
    "\n",
    "result = list_to_flat_dictionary(key_value_list)\n",
    "\n",
    "print(\"Original Key-Value List:\", key_value_list)\n",
    "print(\"Flat Dictionary:\", result)"
   ]
  },
  {
   "cell_type": "raw",
   "id": "6f22574c",
   "metadata": {},
   "source": [
    "5.\tWrite a Python program to insertion at the beginning in OrderedDict?"
   ]
  },
  {
   "cell_type": "code",
   "execution_count": 6,
   "id": "380b0594",
   "metadata": {},
   "outputs": [
    {
     "name": "stdout",
     "output_type": "stream",
     "text": [
      "Original OrderedDict: OrderedDict([('b', 2), ('c', 3)])\n",
      "Inserting 'a': 1 at the beginning:\n",
      "Updated OrderedDict: OrderedDict([('a', 1), ('b', 2), ('c', 3)])\n"
     ]
    }
   ],
   "source": [
    "from collections import OrderedDict\n",
    "\n",
    "def insert_at_beginning(ordered_dict, key, value):\n",
    "    new_ordered_dict = OrderedDict([(key, value)])\n",
    "    new_ordered_dict.update(ordered_dict)\n",
    "\n",
    "    return new_ordered_dict\n",
    "original_ordered_dict = OrderedDict([('b', 2), ('c', 3)])\n",
    "\n",
    "new_key = 'a'\n",
    "new_value = 1\n",
    "\n",
    "result = insert_at_beginning(original_ordered_dict, new_key, new_value)\n",
    "\n",
    "print(\"Original OrderedDict:\", original_ordered_dict)\n",
    "print(f\"Inserting '{new_key}': {new_value} at the beginning:\")\n",
    "print(\"Updated OrderedDict:\", result)"
   ]
  },
  {
   "cell_type": "raw",
   "id": "4c14968f",
   "metadata": {},
   "source": [
    "6.\tWrite a Python program to check order of character in string using OrderedDict()?"
   ]
  },
  {
   "cell_type": "code",
   "execution_count": 7,
   "id": "310c9a7a",
   "metadata": {},
   "outputs": [
    {
     "name": "stdout",
     "output_type": "stream",
     "text": [
      "Input String: hello\n",
      "Pattern to Check: eo\n",
      "Pattern is a subsequence in order: False\n"
     ]
    }
   ],
   "source": [
    "from collections import OrderedDict\n",
    "\n",
    "def check_order_of_characters(input_string, pattern):\n",
    "    unique_chars_dict = OrderedDict.fromkeys(set(input_string))\n",
    "    pattern_iterator = iter(pattern)\n",
    "    return all(char in unique_chars_dict and char == next(pattern_iterator, None) for char in input_string)\n",
    "input_str = \"hello\"\n",
    "pattern_to_check = \"eo\"\n",
    "\n",
    "result = check_order_of_characters(input_str, pattern_to_check)\n",
    "\n",
    "print(\"Input String:\", input_str)\n",
    "print(\"Pattern to Check:\", pattern_to_check)\n",
    "print(\"Pattern is a subsequence in order:\", result)"
   ]
  },
  {
   "cell_type": "raw",
   "id": "55e07317",
   "metadata": {},
   "source": [
    "7.\tWrite a Python program to sort Python Dictionaries by Key or Value?"
   ]
  },
  {
   "cell_type": "code",
   "execution_count": 8,
   "id": "756a126f",
   "metadata": {},
   "outputs": [
    {
     "name": "stdout",
     "output_type": "stream",
     "text": [
      "Original Dictionary: {'b': 4, 'a': 2, 'd': 1, 'c': 3}\n",
      "Sorted Dictionary by Key: {'a': 2, 'b': 4, 'c': 3, 'd': 1}\n",
      "Sorted Dictionary by Value: {'d': 1, 'a': 2, 'c': 3, 'b': 4}\n"
     ]
    }
   ],
   "source": [
    "def sort_dict_by_key(input_dict):\n",
    "    sorted_dict_by_key = dict(sorted(input_dict.items()))\n",
    "    return sorted_dict_by_key\n",
    "def sort_dict_by_value(input_dict):\n",
    "    sorted_dict_by_value = dict(sorted(input_dict.items(), key=lambda item: item[1]))\n",
    "    return sorted_dict_by_value\n",
    "sample_dict = {'b': 4, 'a': 2, 'd': 1, 'c': 3}\n",
    "\n",
    "sorted_by_key = sort_dict_by_key(sample_dict)\n",
    "sorted_by_value = sort_dict_by_value(sample_dict)\n",
    "\n",
    "print(\"Original Dictionary:\", sample_dict)\n",
    "print(\"Sorted Dictionary by Key:\", sorted_by_key)\n",
    "print(\"Sorted Dictionary by Value:\", sorted_by_value)"
   ]
  },
  {
   "cell_type": "code",
   "execution_count": null,
   "id": "43822062",
   "metadata": {},
   "outputs": [],
   "source": []
  },
  {
   "cell_type": "code",
   "execution_count": null,
   "id": "9af72d81",
   "metadata": {},
   "outputs": [],
   "source": []
  }
 ],
 "metadata": {
  "kernelspec": {
   "display_name": "Python 3 (ipykernel)",
   "language": "python",
   "name": "python3"
  },
  "language_info": {
   "codemirror_mode": {
    "name": "ipython",
    "version": 3
   },
   "file_extension": ".py",
   "mimetype": "text/x-python",
   "name": "python",
   "nbconvert_exporter": "python",
   "pygments_lexer": "ipython3",
   "version": "3.9.13"
  }
 },
 "nbformat": 4,
 "nbformat_minor": 5
}
