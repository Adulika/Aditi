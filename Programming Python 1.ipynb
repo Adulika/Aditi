{
 "cells": [
  {
   "cell_type": "raw",
   "id": "81afbb22",
   "metadata": {},
   "source": [
    "1.\tWrite a Python program to print \"Hello Python\"?"
   ]
  },
  {
   "cell_type": "code",
   "execution_count": 1,
   "id": "86fccb1b",
   "metadata": {},
   "outputs": [
    {
     "name": "stdout",
     "output_type": "stream",
     "text": [
      "Hello Python\n"
     ]
    }
   ],
   "source": [
    "print(\"Hello Python\")"
   ]
  },
  {
   "cell_type": "raw",
   "id": "7c8d1b5f",
   "metadata": {},
   "source": [
    "2.\tWrite a Python program to do arithmetical operations addition and division.?"
   ]
  },
  {
   "cell_type": "code",
   "execution_count": 3,
   "id": "e28ecf3a",
   "metadata": {},
   "outputs": [
    {
     "name": "stdout",
     "output_type": "stream",
     "text": [
      "Enter the first number: 20\n",
      "Enter the second number: 4\n",
      "Addition Result: 24.0\n",
      "Division Result: 5.0\n"
     ]
    }
   ],
   "source": [
    "num1 = float(input(\"Enter the first number: \"))\n",
    "num2 = float(input(\"Enter the second number: \"))\n",
    "\n",
    "sum_result = num1 + num2\n",
    "division_result = num1 / num2\n",
    "\n",
    "print(\"Addition Result:\", sum_result)\n",
    "print(\"Division Result:\", division_result)"
   ]
  },
  {
   "cell_type": "raw",
   "id": "634f0f83",
   "metadata": {},
   "source": [
    "3.\tWrite a Python program to find the area of a triangle?"
   ]
  },
  {
   "cell_type": "code",
   "execution_count": 4,
   "id": "8ab4520d",
   "metadata": {},
   "outputs": [
    {
     "name": "stdout",
     "output_type": "stream",
     "text": [
      "Enter the length of the base of the triangle: 3\n",
      "Enter the height of the triangle: 5\n",
      "The area of the triangle is: 7.5\n"
     ]
    }
   ],
   "source": [
    "base = float(input(\"Enter the length of the base of the triangle: \"))\n",
    "height = float(input(\"Enter the height of the triangle: \"))\n",
    "\n",
    "area = 0.5 * base * height\n",
    "print(\"The area of the triangle is:\", area)"
   ]
  },
  {
   "cell_type": "raw",
   "id": "be1d1586",
   "metadata": {},
   "source": [
    "4. Write a Python program to swap two variables?"
   ]
  },
  {
   "cell_type": "code",
   "execution_count": 5,
   "id": "0733f59c",
   "metadata": {},
   "outputs": [
    {
     "name": "stdout",
     "output_type": "stream",
     "text": [
      "Enter the value of variable 'a': 30\n",
      "Enter the value of variable 'b': 48\n",
      "Before swapping:\n",
      "a = 30\n",
      "b = 48\n",
      "\n",
      "After swapping:\n",
      "a = 48\n",
      "b = 30\n"
     ]
    }
   ],
   "source": [
    "a = input(\"Enter the value of variable 'a': \")\n",
    "b = input(\"Enter the value of variable 'b': \")\n",
    "\n",
    "print(\"Before swapping:\")\n",
    "print(\"a =\", a)\n",
    "print(\"b =\", b)\n",
    "\n",
    "temp = a\n",
    "a = b\n",
    "b = temp\n",
    "\n",
    "print(\"\\nAfter swapping:\")\n",
    "print(\"a =\", a)\n",
    "print(\"b =\", b)"
   ]
  },
  {
   "cell_type": "raw",
   "id": "e74bcb65",
   "metadata": {},
   "source": [
    "5.\tWrite a Python program to generate a random number?"
   ]
  },
  {
   "cell_type": "code",
   "execution_count": 8,
   "id": "13d8a2a2",
   "metadata": {},
   "outputs": [
    {
     "name": "stdout",
     "output_type": "stream",
     "text": [
      "Random Number: 639\n"
     ]
    }
   ],
   "source": [
    "import random\n",
    "\n",
    "random_number = random.randint(1, 1000)\n",
    "print(\"Random Number:\", random_number)"
   ]
  },
  {
   "cell_type": "code",
   "execution_count": null,
   "id": "384cff89",
   "metadata": {},
   "outputs": [],
   "source": []
  }
 ],
 "metadata": {
  "kernelspec": {
   "display_name": "Python 3 (ipykernel)",
   "language": "python",
   "name": "python3"
  },
  "language_info": {
   "codemirror_mode": {
    "name": "ipython",
    "version": 3
   },
   "file_extension": ".py",
   "mimetype": "text/x-python",
   "name": "python",
   "nbconvert_exporter": "python",
   "pygments_lexer": "ipython3",
   "version": "3.9.13"
  }
 },
 "nbformat": 4,
 "nbformat_minor": 5
}
