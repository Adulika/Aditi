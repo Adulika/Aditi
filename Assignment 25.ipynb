{
 "cells": [
  {
   "cell_type": "raw",
   "id": "03c112cc",
   "metadata": {},
   "source": [
    "1) . What is the difference between enclosing a list comprehension in square brackets and parentheses?"
   ]
  },
  {
   "cell_type": "raw",
   "id": "61f60c1a",
   "metadata": {},
   "source": [
    "#Square Brackets []:\n",
    "\n",
    "When you enclose a list comprehension in square brackets, it creates and returns a new list containing the results of the comprehension. This is commonly used when you want to generate a new list based on the elements of an existing iterable."
   ]
  },
  {
   "cell_type": "code",
   "execution_count": 2,
   "id": "4dd3ac87",
   "metadata": {},
   "outputs": [
    {
     "name": "stdout",
     "output_type": "stream",
     "text": [
      "[1, 4, 9, 16, 25, 36, 49]\n"
     ]
    }
   ],
   "source": [
    "numbers = [1, 2, 3, 4, 5, 6, 7]\n",
    "squared_numbers = [x ** 2 for x in numbers]\n",
    "print(squared_numbers)"
   ]
  },
  {
   "cell_type": "raw",
   "id": "7ad5064f",
   "metadata": {},
   "source": [
    "#Parentheses ():\n",
    "\n",
    "When you enclose a comprehension in parentheses, it creates a generator expression. A generator expression is similar to a list comprehension, but it generates values one at a time as needed, rather than creating a whole list in memory. Generator expressions are more memory-efficient when dealing with large datasets because they generate values lazily."
   ]
  },
  {
   "cell_type": "code",
   "execution_count": 4,
   "id": "c451af36",
   "metadata": {},
   "outputs": [
    {
     "name": "stdout",
     "output_type": "stream",
     "text": [
      "1\n",
      "4\n",
      "9\n",
      "16\n",
      "25\n",
      "36\n",
      "49\n",
      "64\n",
      "81\n"
     ]
    }
   ],
   "source": [
    "numbers = [1, 2, 3, 4, 5, 6, 7, 8, 9]\n",
    "squared_numbers_generator = (x ** 2 for x in numbers)\n",
    "for num in squared_numbers_generator:\n",
    "    print(num)"
   ]
  },
  {
   "cell_type": "raw",
   "id": "b799523c",
   "metadata": {},
   "source": [
    "Alternatively we can convert a generator expression to a list by passing it to the list() constructor:"
   ]
  },
  {
   "cell_type": "code",
   "execution_count": 5,
   "id": "777351bc",
   "metadata": {},
   "outputs": [
    {
     "name": "stdout",
     "output_type": "stream",
     "text": [
      "[1, 4, 9, 16, 25, 36, 49, 64, 81]\n"
     ]
    }
   ],
   "source": [
    "squared_numbers_list = list(x ** 2 for x in numbers)\n",
    "print(squared_numbers_list)"
   ]
  },
  {
   "cell_type": "raw",
   "id": "434302e3",
   "metadata": {},
   "source": [
    "2) What is the relationship between generators and iterators?"
   ]
  },
  {
   "cell_type": "code",
   "execution_count": 6,
   "id": "bd1baab0",
   "metadata": {},
   "outputs": [
    {
     "name": "stdout",
     "output_type": "stream",
     "text": [
      "1\n",
      "2\n",
      "3\n",
      "1\n",
      "2\n",
      "3\n"
     ]
    }
   ],
   "source": [
    "def my_generator():\n",
    "    yield 1\n",
    "    yield 2\n",
    "    yield 3\n",
    "\n",
    "gen = my_generator()\n",
    "\n",
    "for num in gen:\n",
    "    print(num)  # Output: 1, 2, 3\n",
    "\n",
    "# You can also manually iterate using next()\n",
    "gen = my_generator()\n",
    "print(next(gen))  \n",
    "print(next(gen))  \n",
    "print(next(gen))"
   ]
  },
  {
   "cell_type": "raw",
   "id": "283febfa",
   "metadata": {},
   "source": [
    "in the above example,\n",
    "my_generator is a generator function that yields values one at a time. The gen object is an iterator, and you can iterate over its values or use next() to get the next value in the sequence. The generator function's state is saved between calls to next()."
   ]
  },
  {
   "cell_type": "raw",
   "id": "3e105dc9",
   "metadata": {},
   "source": [
    "3) What are the signs that a function is a generator function?"
   ]
  },
  {
   "cell_type": "raw",
   "id": "2f022b7a",
   "metadata": {},
   "source": [
    "A function is recognized as a generator function when it contains the yield keyword. The presence of the yield keyword is the primary indicator that a function is intended to be a generator function. "
   ]
  },
  {
   "cell_type": "code",
   "execution_count": 7,
   "id": "b930b0a5",
   "metadata": {},
   "outputs": [],
   "source": [
    "#Example of a generator function:\n",
    "def my_generator():\n",
    "    yield 1\n",
    "    yield 2\n",
    "    yield 3"
   ]
  },
  {
   "cell_type": "code",
   "execution_count": 8,
   "id": "777a93ab",
   "metadata": {},
   "outputs": [],
   "source": [
    "#Example with a return statement that raises StopIteration:\n",
    "def my_generator():\n",
    "    yield 1\n",
    "    yield 2\n",
    "    return \"Finished\"\n",
    "    yield 3"
   ]
  },
  {
   "cell_type": "code",
   "execution_count": 9,
   "id": "0c938e5b",
   "metadata": {},
   "outputs": [
    {
     "name": "stdout",
     "output_type": "stream",
     "text": [
      "1\n",
      "2\n"
     ]
    }
   ],
   "source": [
    "#Example of creating a generator object:\n",
    "gen = my_generator()\n",
    "for num in gen:\n",
    "    print(num)"
   ]
  },
  {
   "cell_type": "raw",
   "id": "90381da8",
   "metadata": {},
   "source": [
    "4) What is the purpose of a yield statement?"
   ]
  },
  {
   "cell_type": "code",
   "execution_count": 10,
   "id": "13e5f488",
   "metadata": {},
   "outputs": [
    {
     "name": "stdout",
     "output_type": "stream",
     "text": [
      "5\n",
      "4\n",
      "3\n",
      "2\n",
      "1\n"
     ]
    }
   ],
   "source": [
    "def countdown(n):\n",
    "    while n > 0:\n",
    "        yield n\n",
    "        n -= 1\n",
    "gen = countdown(5)\n",
    "for num in gen:\n",
    "    print(num)"
   ]
  },
  {
   "cell_type": "raw",
   "id": "208603d1",
   "metadata": {},
   "source": [
    "5) What is the relationship between map calls and list comprehensions? Make a comparison and contrast between the two."
   ]
  },
  {
   "cell_type": "raw",
   "id": "6c98ac58",
   "metadata": {},
   "source": [
    "Map Calls:\n",
    "\n",
    "Syntax:map is a built-in function in Python that takes a function and an iterable as arguments and applies the function to each element of the iterable.\n",
    "Return Type:map returns a map object (an iterable) in Python 3. In Python 2, it returns a list.\n",
    "To get the result as a list in Python 3, you often need to convert the map object to a list using list(map(...)).\n",
    "Use Case:map is primarily used when you want to apply a given function to every item in an iterable and obtain a new iterable with the transformed values. It's particularly useful when you have a predefined function and a single iterable to process."
   ]
  },
  {
   "cell_type": "code",
   "execution_count": 11,
   "id": "31accee8",
   "metadata": {},
   "outputs": [],
   "source": [
    "numbers = [1, 2, 3, 4, 5]\n",
    "squared_numbers = map(lambda x: x ** 2, numbers)\n",
    "result_list = list(squared_numbers)"
   ]
  },
  {
   "cell_type": "raw",
   "id": "2d74ca7e",
   "metadata": {},
   "source": [
    "List Comprehensions:\n",
    "\n",
    "Syntax:List comprehensions provide a more concise and expressive way to create lists based on existing iterables, applying an expression to each element of the iterable.\n",
    "Return Type:\n",
    "List comprehensions directly return a list, which is a common data structure for storing collections of values.\n",
    "Use Case:\n",
    "List comprehensions are used for creating new lists by applying an expression to each element of an existing iterable or multiple iterables. They are particularly useful when you want to filter, transform, or combine elements from one or more iterables."
   ]
  },
  {
   "cell_type": "code",
   "execution_count": 12,
   "id": "a9e55ab5",
   "metadata": {},
   "outputs": [],
   "source": [
    "numbers = [1, 2, 3, 4, 5]\n",
    "squared_numbers = [x ** 2 for x in numbers]"
   ]
  },
  {
   "cell_type": "raw",
   "id": "f67dca49",
   "metadata": {},
   "source": [
    "Both map and list comprehensions allow you to apply a function or expression to each element of an iterable, creating a new iterable with the results. List comprehensions are generally considered more Pythonic and readable, especially for simple transformations, as they eliminate the need for lambda functions or external functions."
   ]
  },
  {
   "cell_type": "code",
   "execution_count": null,
   "id": "b4d77d9f",
   "metadata": {},
   "outputs": [],
   "source": []
  },
  {
   "cell_type": "code",
   "execution_count": null,
   "id": "07c380b2",
   "metadata": {},
   "outputs": [],
   "source": []
  },
  {
   "cell_type": "code",
   "execution_count": null,
   "id": "f51c66e4",
   "metadata": {},
   "outputs": [],
   "source": []
  }
 ],
 "metadata": {
  "kernelspec": {
   "display_name": "Python 3 (ipykernel)",
   "language": "python",
   "name": "python3"
  },
  "language_info": {
   "codemirror_mode": {
    "name": "ipython",
    "version": 3
   },
   "file_extension": ".py",
   "mimetype": "text/x-python",
   "name": "python",
   "nbconvert_exporter": "python",
   "pygments_lexer": "ipython3",
   "version": "3.9.13"
  }
 },
 "nbformat": 4,
 "nbformat_minor": 5
}
