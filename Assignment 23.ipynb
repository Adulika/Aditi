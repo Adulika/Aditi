{
 "cells": [
  {
   "cell_type": "raw",
   "id": "5bef8353",
   "metadata": {},
   "source": [
    "Q1. What is the result of the code, and why?\n",
    "def func(a, b=6, c=8):\n",
    "    print(a, b, c)\n",
    "func(1, 2)"
   ]
  },
  {
   "cell_type": "code",
   "execution_count": 1,
   "id": "88687a2c",
   "metadata": {},
   "outputs": [
    {
     "name": "stdout",
     "output_type": "stream",
     "text": [
      "1 2 8\n"
     ]
    }
   ],
   "source": [
    "def func(a, b=6, c=8):\n",
    "    print(a, b, c)\n",
    "func(1, 2)"
   ]
  },
  {
   "cell_type": "raw",
   "id": "dd22d7f2",
   "metadata": {},
   "source": [
    "explaination:\n",
    "a is assigned the value 1, as passed in the function call.\n",
    "b is assigned the value 2, as passed in the function call.\n",
    "c is not passed in the function call, so it takes its default value 8.\n",
    "This is because the function prints the values of a, b, and c separated by spaces."
   ]
  },
  {
   "cell_type": "raw",
   "id": "5a51a955",
   "metadata": {},
   "source": [
    "Q2. What is the result of this code, and why?\n",
    "def func(a, b, c=5):\n",
    "    print(a, b, c)\n",
    "func(1, c=3, b=2)"
   ]
  },
  {
   "cell_type": "code",
   "execution_count": 2,
   "id": "9c882c8a",
   "metadata": {},
   "outputs": [
    {
     "name": "stdout",
     "output_type": "stream",
     "text": [
      "1 2 3\n"
     ]
    }
   ],
   "source": [
    "def func(a, b, c=5):\n",
    "    print(a, b, c)\n",
    "func(1, c=3, b=2)"
   ]
  },
  {
   "cell_type": "raw",
   "id": "24771d6d",
   "metadata": {},
   "source": [
    "explaination:\n",
    "a is assigned the value 1, as passed in the positional argument.\n",
    "b is assigned the value 2, as passed using the keyword argument b=2.\n",
    "c is assigned the value 3, as passed using the keyword argument c=3.\n",
    "This is because the function prints the values of a, b, and c separated by spaces, and the values are assigned based on the provided arguments and default values."
   ]
  },
  {
   "cell_type": "code",
   "execution_count": null,
   "id": "5cc790d6",
   "metadata": {},
   "outputs": [],
   "source": [
    "Q3. How about this code: what is its result, and why?\n",
    "def func(a, *pargs):\n",
    "    print(a, pargs)\n",
    "func(1, 2, 3)"
   ]
  },
  {
   "cell_type": "code",
   "execution_count": 3,
   "id": "05cf019e",
   "metadata": {},
   "outputs": [
    {
     "name": "stdout",
     "output_type": "stream",
     "text": [
      "1 (2, 3)\n"
     ]
    }
   ],
   "source": [
    "def func(a, *pargs):\n",
    "    print(a, pargs)\n",
    "func(1, 2, 3)"
   ]
  },
  {
   "cell_type": "raw",
   "id": "8a1c0888",
   "metadata": {},
   "source": [
    "a is assigned the value 1, as passed in the first positional argument.\n",
    "The remaining positional arguments (2 and 3) are collected into the pargs tuple.\n",
    "This is because the function prints the value of a and the tuple pargs. The tuple contains the remaining positional arguments (2, 3) that were passed after the value of a."
   ]
  },
  {
   "cell_type": "raw",
   "id": "f3f067b2",
   "metadata": {},
   "source": [
    "4. What does this code print, and why?\n",
    "def func(a, **kargs):\n",
    "    print(a, kargs)\n",
    "func(a=1, c=3, b=2)"
   ]
  },
  {
   "cell_type": "code",
   "execution_count": 5,
   "id": "00409fc8",
   "metadata": {},
   "outputs": [
    {
     "name": "stdout",
     "output_type": "stream",
     "text": [
      "1 {'c': 3, 'b': 2}\n"
     ]
    }
   ],
   "source": [
    "def func(a, **kargs):\n",
    "    print(a, kargs)\n",
    "func(a=1, c=3, b=2)"
   ]
  },
  {
   "cell_type": "raw",
   "id": "d11d4fae",
   "metadata": {},
   "source": [
    "a is assigned the value 1, as passed using the keyword argument a=1.\n",
    "The other keyword arguments (c=3 and b=2) are collected into the kargs dictionary.\n",
    "This is because the function prints the value of a and the dictionary kargs. The dictionary contains the keyword arguments and their corresponding values passed after the value of a."
   ]
  },
  {
   "cell_type": "raw",
   "id": "28f79519",
   "metadata": {},
   "source": [
    "5. What gets printed by this, and explain?\n",
    "def func(a, b, c=8, d=5): \n",
    "    print(a, b, c, d)\n",
    "func(1, *(5, 6))"
   ]
  },
  {
   "cell_type": "code",
   "execution_count": 6,
   "id": "f89bbe34",
   "metadata": {},
   "outputs": [
    {
     "name": "stdout",
     "output_type": "stream",
     "text": [
      "1 5 6 5\n"
     ]
    }
   ],
   "source": [
    "def func(a, b, c=8, d=5): \n",
    "    print(a, b, c, d)\n",
    "func(1, *(5, 6))"
   ]
  },
  {
   "cell_type": "raw",
   "id": "4e971af0",
   "metadata": {},
   "source": [
    "a is assigned the value 1, as passed in the first positional argument.\n",
    "b is assigned the value 5, as unpacked from the tuple (5, 6).\n",
    "c is assigned the default value 8, as no value was explicitly passed for it.\n",
    "d is assigned the default value 5, as no value was explicitly passed for it.\n",
    "This is because the function prints the values of a, b, c, and d separated by spaces, and the values are assigned based on the provided arguments and default values."
   ]
  },
  {
   "cell_type": "raw",
   "id": "233e0161",
   "metadata": {},
   "source": [
    "6. what is the result of this, and explain?\n",
    "def func(a, b, c): \n",
    "    a = 2; b[0] = 'x'; c['a'] = 'y'\n",
    "    l=1; m=[1]; n={'a':0}\n",
    "func(l, m, n)\n",
    "l, m, n"
   ]
  },
  {
   "cell_type": "code",
   "execution_count": 7,
   "id": "597eb0dd",
   "metadata": {},
   "outputs": [
    {
     "ename": "NameError",
     "evalue": "name 'l' is not defined",
     "output_type": "error",
     "traceback": [
      "\u001b[1;31m---------------------------------------------------------------------------\u001b[0m",
      "\u001b[1;31mNameError\u001b[0m                                 Traceback (most recent call last)",
      "\u001b[1;32m~\\AppData\\Local\\Temp\\ipykernel_9572\\2959959162.py\u001b[0m in \u001b[0;36m<module>\u001b[1;34m\u001b[0m\n\u001b[0;32m      7\u001b[0m     \u001b[0mn\u001b[0m \u001b[1;33m=\u001b[0m \u001b[1;33m{\u001b[0m\u001b[1;34m'a'\u001b[0m\u001b[1;33m:\u001b[0m \u001b[1;36m0\u001b[0m\u001b[1;33m}\u001b[0m\u001b[1;33m\u001b[0m\u001b[1;33m\u001b[0m\u001b[0m\n\u001b[0;32m      8\u001b[0m \u001b[1;33m\u001b[0m\u001b[0m\n\u001b[1;32m----> 9\u001b[1;33m \u001b[0mfunc\u001b[0m\u001b[1;33m(\u001b[0m\u001b[0ml\u001b[0m\u001b[1;33m,\u001b[0m \u001b[0mm\u001b[0m\u001b[1;33m,\u001b[0m \u001b[0mn\u001b[0m\u001b[1;33m)\u001b[0m\u001b[1;33m\u001b[0m\u001b[1;33m\u001b[0m\u001b[0m\n\u001b[0m\u001b[0;32m     10\u001b[0m \u001b[0ml\u001b[0m\u001b[1;33m,\u001b[0m \u001b[0mm\u001b[0m\u001b[1;33m,\u001b[0m \u001b[0mn\u001b[0m\u001b[1;33m\u001b[0m\u001b[1;33m\u001b[0m\u001b[0m\n",
      "\u001b[1;31mNameError\u001b[0m: name 'l' is not defined"
     ]
    }
   ],
   "source": [
    "def func(a, b, c): \n",
    "    a = 2\n",
    "    b[0] = 'x'\n",
    "    c['a'] = 'y'\n",
    "    l = 1\n",
    "    m = [1]\n",
    "    n = {'a': 0}\n",
    "\n",
    "func(l, m, n)\n",
    "l, m, n"
   ]
  },
  {
   "cell_type": "raw",
   "id": "d45b934f",
   "metadata": {},
   "source": [
    "explaination:\n",
    "    a = 2: This assigns the value 2 to the local variable a within the function's scope. This does not affect the value of the l variable in the outer scope.\n",
    "\n",
    "b[0] = 'x': This modifies the first element of the list m that was passed as an argument. The first element of m is now 'x'.\n",
    "\n",
    "c['a'] = 'y': This modifies the value associated with the key 'a' in the dictionary n that was passed as an argument. The value associated with 'a' is now 'y'.\n",
    "\n",
    "l = 1, m = [1], n = {'a': 0}': These assignments create new local variables l, m, and n within the function's scope. These variables are different from the variables with the same names in the outer scope.\n",
    "When you call func(l, m, n), the values of l, m, and n from the outer scope are passed as arguments. However, the function's local scope variables (l, m, and n) are not returned or used outside the function.\n",
    "\n",
    "After the function call, when you try to access the variables l, m, and n, you're actually trying to access the variables from the outer scope. However, they were not defined in the outer scope, resulting in a NameError."
   ]
  },
  {
   "cell_type": "code",
   "execution_count": null,
   "id": "8295a80f",
   "metadata": {},
   "outputs": [],
   "source": []
  },
  {
   "cell_type": "code",
   "execution_count": null,
   "id": "d0bd2f78",
   "metadata": {},
   "outputs": [],
   "source": []
  },
  {
   "cell_type": "code",
   "execution_count": null,
   "id": "9622cd23",
   "metadata": {},
   "outputs": [],
   "source": []
  },
  {
   "cell_type": "code",
   "execution_count": null,
   "id": "a35813fc",
   "metadata": {},
   "outputs": [],
   "source": []
  },
  {
   "cell_type": "code",
   "execution_count": null,
   "id": "5667ce89",
   "metadata": {},
   "outputs": [],
   "source": []
  }
 ],
 "metadata": {
  "kernelspec": {
   "display_name": "Python 3 (ipykernel)",
   "language": "python",
   "name": "python3"
  },
  "language_info": {
   "codemirror_mode": {
    "name": "ipython",
    "version": 3
   },
   "file_extension": ".py",
   "mimetype": "text/x-python",
   "name": "python",
   "nbconvert_exporter": "python",
   "pygments_lexer": "ipython3",
   "version": "3.9.13"
  }
 },
 "nbformat": 4,
 "nbformat_minor": 5
}
