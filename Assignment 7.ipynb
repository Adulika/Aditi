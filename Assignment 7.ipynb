{
 "cells": [
  {
   "cell_type": "raw",
   "id": "83794f5e",
   "metadata": {},
   "source": [
    "1. What is the name of the feature responsible for generating Regex objects?"
   ]
  },
  {
   "cell_type": "code",
   "execution_count": 1,
   "id": "a446e1b3",
   "metadata": {},
   "outputs": [
    {
     "name": "stdout",
     "output_type": "stream",
     "text": [
      "re.compile('\\\\d+')\n"
     ]
    }
   ],
   "source": [
    "import re\n",
    "\n",
    "pattern = r'\\d+'\n",
    "regex_object = re.compile(pattern)\n",
    "print(regex_object)"
   ]
  },
  {
   "cell_type": "raw",
   "id": "ab407e90",
   "metadata": {},
   "source": [
    "2. Why do raw strings often appear in Regex objects?"
   ]
  },
  {
   "cell_type": "code",
   "execution_count": 2,
   "id": "2eff1a13",
   "metadata": {},
   "outputs": [
    {
     "name": "stdout",
     "output_type": "stream",
     "text": [
      "123456\n"
     ]
    }
   ],
   "source": [
    "import re\n",
    "\n",
    "pattern = r'\\d+'\n",
    "text = '123456'\n",
    "\n",
    "match = re.search(pattern, text)\n",
    "if match:\n",
    "    print(match.group())"
   ]
  },
  {
   "cell_type": "raw",
   "id": "bfb3dc46",
   "metadata": {},
   "source": [
    "3. What is the return value of the search() method?"
   ]
  },
  {
   "cell_type": "code",
   "execution_count": 5,
   "id": "59fb6b4b",
   "metadata": {},
   "outputs": [],
   "source": [
    "import re\n",
    "\n",
    "pattern = r'Mom'\n",
    "text = 'Hello, Dad!'\n",
    "\n",
    "match = re.search(pattern, text)\n",
    "if match:\n",
    "    print(match.group())"
   ]
  },
  {
   "cell_type": "raw",
   "id": "a6d41454",
   "metadata": {},
   "source": [
    "4. From a Match item, how do you get the actual strings that match the pattern?"
   ]
  },
  {
   "cell_type": "raw",
   "id": "ae71066b",
   "metadata": {},
   "source": [
    "5. In the regex which created from the r'(\\d\\d\\d)-(\\d\\d\\d-\\d\\d\\d\\d)', what does group zero cover? Group 2? Group 1?"
   ]
  },
  {
   "cell_type": "code",
   "execution_count": 5,
   "id": "66e90eeb",
   "metadata": {},
   "outputs": [
    {
     "name": "stdout",
     "output_type": "stream",
     "text": [
      "123-456-7890\n"
     ]
    }
   ],
   "source": [
    "import re\n",
    "pattern = r'(\\d\\d\\d)-(\\d\\d\\d-\\d\\d\\d\\d)'\n",
    "text = '123-456-7890'\n",
    "match = re.match(pattern, text)\n",
    "print(match.group(0))"
   ]
  },
  {
   "cell_type": "code",
   "execution_count": 2,
   "id": "adc17635",
   "metadata": {},
   "outputs": [
    {
     "name": "stdout",
     "output_type": "stream",
     "text": [
      "123\n"
     ]
    }
   ],
   "source": [
    "print(match.group(1))"
   ]
  },
  {
   "cell_type": "code",
   "execution_count": 3,
   "id": "757aeb79",
   "metadata": {},
   "outputs": [
    {
     "name": "stdout",
     "output_type": "stream",
     "text": [
      "456-7890\n"
     ]
    }
   ],
   "source": [
    "print(match.group(2))"
   ]
  },
  {
   "cell_type": "raw",
   "id": "fd590e24",
   "metadata": {},
   "source": [
    "6. In standard expression syntax, parentheses and intervals have distinct meanings. How can you tell a regex that you want it to fit real parentheses and periods?"
   ]
  },
  {
   "cell_type": "code",
   "execution_count": null,
   "id": "57c4b1d9",
   "metadata": {},
   "outputs": [],
   "source": [
    "#example 1"
   ]
  },
  {
   "cell_type": "code",
   "execution_count": 8,
   "id": "e9b3b5c9",
   "metadata": {},
   "outputs": [
    {
     "name": "stdout",
     "output_type": "stream",
     "text": [
      "Match found: (Aditi.)\n"
     ]
    }
   ],
   "source": [
    "import re\n",
    "\n",
    "pattern = r'\\(Aditi\\.\\)'\n",
    "text = '(Aditi.)'\n",
    "\n",
    "match = re.search(pattern, text)\n",
    "\n",
    "if match:\n",
    "    print('Match found:', match.group())\n",
    "else:\n",
    "    print('No match found.')"
   ]
  },
  {
   "cell_type": "code",
   "execution_count": null,
   "id": "91ff3124",
   "metadata": {},
   "outputs": [],
   "source": [
    "#example 2"
   ]
  },
  {
   "cell_type": "code",
   "execution_count": 9,
   "id": "b44ee1e5",
   "metadata": {},
   "outputs": [
    {
     "name": "stdout",
     "output_type": "stream",
     "text": [
      "No match found.\n"
     ]
    }
   ],
   "source": [
    "import re\n",
    "\n",
    "pattern = r'\\(Simran\\.\\)'\n",
    "text = '(Hello.)'\n",
    "\n",
    "match = re.search(pattern, text)\n",
    "\n",
    "if match:\n",
    "    print('Match found:', match.group())\n",
    "else:\n",
    "    print('No match found.')"
   ]
  },
  {
   "cell_type": "raw",
   "id": "7c419c97",
   "metadata": {},
   "source": [
    "7. The findall() method returns a string list or a list of string tuples. What causes it to return one of the two options?"
   ]
  },
  {
   "cell_type": "code",
   "execution_count": 10,
   "id": "0b320876",
   "metadata": {},
   "outputs": [
    {
     "name": "stdout",
     "output_type": "stream",
     "text": [
      "['123', '456']\n"
     ]
    }
   ],
   "source": [
    "import re\n",
    "text = 'Aditi 123, Teli 456'\n",
    "pattern_with_group = r'\\d+'\n",
    "matches_with_group = re.findall(pattern_with_group, text)\n",
    "print(matches_with_group)"
   ]
  },
  {
   "cell_type": "code",
   "execution_count": 11,
   "id": "72998d02",
   "metadata": {},
   "outputs": [
    {
     "name": "stdout",
     "output_type": "stream",
     "text": [
      "['123', '456']\n"
     ]
    }
   ],
   "source": [
    "pattern_without_group = r'\\d+'\n",
    "matches_without_group = re.findall(pattern_without_group, text)\n",
    "print(matches_without_group)"
   ]
  },
  {
   "cell_type": "raw",
   "id": "a5c6753f",
   "metadata": {},
   "source": [
    "8. In standard expressions, what does the | character mean?"
   ]
  },
  {
   "cell_type": "code",
   "execution_count": 12,
   "id": "51a45947",
   "metadata": {},
   "outputs": [
    {
     "name": "stdout",
     "output_type": "stream",
     "text": [
      "['blue', 'pink']\n"
     ]
    }
   ],
   "source": [
    "import re\n",
    "\n",
    "pattern = r'blue|pink'\n",
    "text = 'The color is always blue and pink.'\n",
    "\n",
    "matches = re.findall(pattern, text)\n",
    "print(matches)"
   ]
  },
  {
   "cell_type": "raw",
   "id": "ff2e07a3",
   "metadata": {},
   "source": [
    "9. In regular expressions, what does the character stand for?"
   ]
  },
  {
   "cell_type": "code",
   "execution_count": null,
   "id": "b995116f",
   "metadata": {},
   "outputs": [],
   "source": [
    "import re\n",
    "pattern = r\"c.t\"\n",
    "strings = [\"cat\", \"cut\", \"cot\", \"c.t\", \"c@t\", \"c1t\"]\n",
    "for string in strings:\n",
    "    if re.match(pattern, string):\n",
    "        print(f\"{string} matches the pattern.\")\n",
    "    else:\n",
    "        print(f\"{string} does not match the pattern.\")\n"
   ]
  },
  {
   "cell_type": "raw",
   "id": "2654498e",
   "metadata": {},
   "source": [
    "10.In regular expressions, what is the difference between the + and * characters?"
   ]
  },
  {
   "cell_type": "code",
   "execution_count": 1,
   "id": "8c48de8f",
   "metadata": {},
   "outputs": [
    {
     "name": "stdout",
     "output_type": "stream",
     "text": [
      "['abc']\n",
      "['abbc']\n",
      "['abbbc']\n"
     ]
    }
   ],
   "source": [
    "import re\n",
    "pattern = r\"ab+c\"  \n",
    "print(re.findall(pattern, \"abc\"))      \n",
    "print(re.findall(pattern, \"abbc\"))     \n",
    "print(re.findall(pattern, \"abbbc\"))    "
   ]
  },
  {
   "cell_type": "code",
   "execution_count": 2,
   "id": "6ca3a32e",
   "metadata": {},
   "outputs": [
    {
     "name": "stdout",
     "output_type": "stream",
     "text": [
      "[]\n",
      "[]\n",
      "['abc']\n"
     ]
    }
   ],
   "source": [
    "print(re.findall(pattern, \"ac\"))       \n",
    "print(re.findall(pattern, \"ab\"))       \n",
    "print(re.findall(pattern, \"abcd\"))     "
   ]
  },
  {
   "cell_type": "code",
   "execution_count": 3,
   "id": "76800761",
   "metadata": {},
   "outputs": [
    {
     "name": "stdout",
     "output_type": "stream",
     "text": [
      "['ac']\n",
      "['abc']\n",
      "['abbc']\n",
      "['abbbc']\n"
     ]
    }
   ],
   "source": [
    "pattern = r\"ab*c\"  \n",
    "print(re.findall(pattern, \"ac\"))      \n",
    "print(re.findall(pattern, \"abc\"))     \n",
    "print(re.findall(pattern, \"abbc\"))    \n",
    "print(re.findall(pattern, \"abbbc\"))   "
   ]
  },
  {
   "cell_type": "code",
   "execution_count": 4,
   "id": "3cd14931",
   "metadata": {},
   "outputs": [
    {
     "name": "stdout",
     "output_type": "stream",
     "text": [
      "[]\n",
      "[]\n",
      "['abc']\n"
     ]
    }
   ],
   "source": [
    "print(re.findall(pattern, \"a\"))        \n",
    "print(re.findall(pattern, \"bc\"))       \n",
    "print(re.findall(pattern, \"abcd\"))     "
   ]
  },
  {
   "cell_type": "raw",
   "id": "8695ba29",
   "metadata": {},
   "source": [
    "11. What is the difference between {4} and {4,5} in regular expression?"
   ]
  },
  {
   "cell_type": "code",
   "execution_count": 5,
   "id": "bad0c77d",
   "metadata": {},
   "outputs": [
    {
     "name": "stdout",
     "output_type": "stream",
     "text": [
      "['aaaa']\n"
     ]
    }
   ],
   "source": [
    "import re\n",
    "pattern = r\"a{4}\"  \n",
    "print(re.findall(pattern, \"aaaa\"))     "
   ]
  },
  {
   "cell_type": "code",
   "execution_count": 6,
   "id": "df5305db",
   "metadata": {},
   "outputs": [
    {
     "name": "stdout",
     "output_type": "stream",
     "text": [
      "[]\n",
      "['aaaa']\n",
      "[]\n"
     ]
    }
   ],
   "source": [
    "print(re.findall(pattern, \"aa\"))       \n",
    "print(re.findall(pattern, \"aaaaa\"))    \n",
    "print(re.findall(pattern, \"a\"))        "
   ]
  },
  {
   "cell_type": "code",
   "execution_count": 7,
   "id": "9207a537",
   "metadata": {},
   "outputs": [
    {
     "name": "stdout",
     "output_type": "stream",
     "text": [
      "['aaaa']\n",
      "['aaaaa']\n"
     ]
    }
   ],
   "source": [
    "pattern = r\"a{4,5}\"  \n",
    "print(re.findall(pattern, \"aaaa\"))     \n",
    "print(re.findall(pattern, \"aaaaa\"))    "
   ]
  },
  {
   "cell_type": "code",
   "execution_count": 8,
   "id": "344ad30f",
   "metadata": {},
   "outputs": [
    {
     "name": "stdout",
     "output_type": "stream",
     "text": [
      "[]\n",
      "['aaaaa']\n",
      "[]\n"
     ]
    }
   ],
   "source": [
    "print(re.findall(pattern, \"aa\"))       \n",
    "print(re.findall(pattern, \"aaaaaa\"))   \n",
    "print(re.findall(pattern, \"a\"))      "
   ]
  },
  {
   "cell_type": "raw",
   "id": "8047a8b2",
   "metadata": {},
   "source": [
    "12. What do you mean by the \\d, \\w, and \\s shorthand character classes signify in regular expressions?"
   ]
  },
  {
   "cell_type": "code",
   "execution_count": null,
   "id": "9bfcf9f8",
   "metadata": {},
   "outputs": [],
   "source": [
    "#Example of \\d"
   ]
  },
  {
   "cell_type": "code",
   "execution_count": 9,
   "id": "e0b0857f",
   "metadata": {},
   "outputs": [
    {
     "name": "stdout",
     "output_type": "stream",
     "text": [
      "['123', '456']\n",
      "['0']\n",
      "['9']\n"
     ]
    }
   ],
   "source": [
    "import re\n",
    "pattern = r\"\\d+\"\n",
    "print(re.findall(pattern, \"123 and 456\"))     \n",
    "print(re.findall(pattern, \"Number: 0\"))       \n",
    "print(re.findall(pattern, \"The answer is 9\")) "
   ]
  },
  {
   "cell_type": "code",
   "execution_count": 10,
   "id": "3fa8e074",
   "metadata": {},
   "outputs": [
    {
     "name": "stdout",
     "output_type": "stream",
     "text": [
      "[]\n",
      "['1']\n"
     ]
    }
   ],
   "source": [
    "print(re.findall(pattern, \"abc\"))             \n",
    "print(re.findall(pattern, \"Negative: -1\"))    "
   ]
  },
  {
   "cell_type": "code",
   "execution_count": null,
   "id": "2b6ab096",
   "metadata": {},
   "outputs": [],
   "source": [
    "# Example of \\w"
   ]
  },
  {
   "cell_type": "code",
   "execution_count": 11,
   "id": "b834ad4d",
   "metadata": {},
   "outputs": [
    {
     "name": "stdout",
     "output_type": "stream",
     "text": [
      "['Match', 'abc', '123']\n",
      "['Variable', 'word']\n",
      "['Test', '_test']\n"
     ]
    }
   ],
   "source": [
    "pattern = r\"\\w+\"\n",
    "print(re.findall(pattern, \"Match: abc 123\"))  \n",
    "print(re.findall(pattern, \"Variable: word\"))  \n",
    "print(re.findall(pattern, \"Test: _test\"))     "
   ]
  },
  {
   "cell_type": "code",
   "execution_count": 12,
   "id": "eaa491a8",
   "metadata": {},
   "outputs": [
    {
     "name": "stdout",
     "output_type": "stream",
     "text": [
      "[]\n",
      "['spaces', 'are', 'not', 'allowed']\n"
     ]
    }
   ],
   "source": [
    "print(re.findall(pattern, \"!@#\"))             \n",
    "print(re.findall(pattern, \"spaces are not allowed\"))  "
   ]
  },
  {
   "cell_type": "code",
   "execution_count": null,
   "id": "c8de5249",
   "metadata": {},
   "outputs": [],
   "source": [
    "# Example of \\s"
   ]
  },
  {
   "cell_type": "code",
   "execution_count": 13,
   "id": "26de74a1",
   "metadata": {},
   "outputs": [
    {
     "name": "stdout",
     "output_type": "stream",
     "text": [
      "['   ']\n",
      "['\\t\\t\\t']\n",
      "['\\n\\n\\n']\n"
     ]
    }
   ],
   "source": [
    "pattern = r\"\\s+\"\n",
    "print(re.findall(pattern, \"Whitespace:   separated\"))  \n",
    "print(re.findall(pattern, \"Tabs:\\t\\t\\tMultiple\"))      \n",
    "print(re.findall(pattern, \"Newlines:\\n\\n\\nMultiple\"))   "
   ]
  },
  {
   "cell_type": "code",
   "execution_count": 14,
   "id": "ac70935f",
   "metadata": {},
   "outputs": [
    {
     "name": "stdout",
     "output_type": "stream",
     "text": [
      "[' ']\n",
      "['\\n']\n"
     ]
    }
   ],
   "source": [
    "print(re.findall(pattern, \"No spaces\"))        \n",
    "print(re.findall(pattern, \"No\\nnewlines\"))    "
   ]
  },
  {
   "cell_type": "raw",
   "id": "ae0646b3",
   "metadata": {},
   "source": [
    "13. What do means by \\D, \\W, and \\S shorthand character classes signify in regular expressions?"
   ]
  },
  {
   "cell_type": "code",
   "execution_count": 1,
   "id": "ba35312a",
   "metadata": {},
   "outputs": [
    {
     "name": "stdout",
     "output_type": "stream",
     "text": [
      "['a', ' ', 'b', ' ', 'c', ' ', 'd']\n"
     ]
    }
   ],
   "source": [
    "import re\n",
    "\n",
    "text = \"a1 b2 c3 d4\"\n",
    "pattern = r\"\\D\"\n",
    "result = re.findall(pattern, text)\n",
    "print(result)"
   ]
  },
  {
   "cell_type": "code",
   "execution_count": 2,
   "id": "0cb494f6",
   "metadata": {},
   "outputs": [
    {
     "name": "stdout",
     "output_type": "stream",
     "text": [
      "[',', ' ', '!']\n"
     ]
    }
   ],
   "source": [
    "import re\n",
    "\n",
    "text = \"Hello, Aditi!\"\n",
    "pattern = r\"\\W\"\n",
    "result = re.findall(pattern, text)\n",
    "print(result)"
   ]
  },
  {
   "cell_type": "code",
   "execution_count": 3,
   "id": "23a30c8d",
   "metadata": {},
   "outputs": [
    {
     "name": "stdout",
     "output_type": "stream",
     "text": [
      "['I', 'am', 'learning', 'this', 'new', 'codes', 'in', 'my', 'coding', 'class.']\n"
     ]
    }
   ],
   "source": [
    "import re\n",
    "\n",
    "text = \"I am learning this new codes in my coding class.\"\n",
    "pattern = r\"\\S+\"\n",
    "result = re.findall(pattern, text)\n",
    "print(result)"
   ]
  },
  {
   "cell_type": "raw",
   "id": "5429a954",
   "metadata": {},
   "source": [
    "14. What is the difference between .*? and .*?"
   ]
  },
  {
   "cell_type": "code",
   "execution_count": 6,
   "id": "793fb952",
   "metadata": {},
   "outputs": [
    {
     "name": "stdout",
     "output_type": "stream",
     "text": [
      "['Hello']\n"
     ]
    }
   ],
   "source": [
    "import re\n",
    "\n",
    "text = \"Hello Aditi! What is your age?\"\n",
    "pattern1 = r\"H.*?o\"\n",
    "result1 = re.findall(pattern1, text)\n",
    "print(result1)"
   ]
  },
  {
   "cell_type": "code",
   "execution_count": 7,
   "id": "6e9caacf",
   "metadata": {},
   "outputs": [
    {
     "name": "stdout",
     "output_type": "stream",
     "text": [
      "['Hello Aditi! What is yo']\n"
     ]
    }
   ],
   "source": [
    "pattern2 = r\"H.*o\"\n",
    "result2 = re.findall(pattern2, text)\n",
    "print(result2)"
   ]
  },
  {
   "cell_type": "raw",
   "id": "81c58190",
   "metadata": {},
   "source": [
    "15. What is the syntax for matching both numbers and lowercase letters with a character class?"
   ]
  },
  {
   "cell_type": "code",
   "execution_count": 10,
   "id": "699f1f58",
   "metadata": {},
   "outputs": [
    {
     "name": "stdout",
     "output_type": "stream",
     "text": [
      "['a', 'd', 'i', '2', '4', '6', 'p', 'r', 'a', 't', 'h', 'a', 'm']\n"
     ]
    }
   ],
   "source": [
    "import re\n",
    "\n",
    "text = \"adi246pratham\"\n",
    "pattern = r\"[0-9a-z]\"\n",
    "result = re.findall(pattern, text)\n",
    "print(result)"
   ]
  },
  {
   "cell_type": "raw",
   "id": "d91ce152",
   "metadata": {},
   "source": [
    "16. What is the procedure for making a normal expression in regax case insensitive?"
   ]
  },
  {
   "cell_type": "code",
   "execution_count": 9,
   "id": "bf23cb0f",
   "metadata": {},
   "outputs": [
    {
     "name": "stdout",
     "output_type": "stream",
     "text": [
      "['Hey', 'hey']\n"
     ]
    }
   ],
   "source": [
    "import re\n",
    "\n",
    "text = \"Hey Adi! hey Adi!\"\n",
    "pattern = r\"hey\"\n",
    "result = re.findall(pattern, text, re.IGNORECASE)\n",
    "print(result)"
   ]
  },
  {
   "cell_type": "raw",
   "id": "438437ff",
   "metadata": {},
   "source": [
    "17. What does the . character normally match? What does it match if re.DOTALL is passed as 2nd argument in re.compile()?"
   ]
  },
  {
   "cell_type": "code",
   "execution_count": 11,
   "id": "81804b7e",
   "metadata": {},
   "outputs": [
    {
     "name": "stdout",
     "output_type": "stream",
     "text": [
      "['Aditi', 'Teli']\n",
      "['Aditi\\nTeli']\n"
     ]
    }
   ],
   "source": [
    "import re\n",
    "\n",
    "text = \"Aditi\\nTeli\"\n",
    "pattern1 = re.compile(r'.+')\n",
    "matches1 = pattern1.findall(text)\n",
    "print(matches1)\n",
    "\n",
    "pattern2 = re.compile(r'.+', re.DOTALL)\n",
    "matches2 = pattern2.findall(text)\n",
    "print(matches2)"
   ]
  },
  {
   "cell_type": "raw",
   "id": "c7d39f42",
   "metadata": {},
   "source": [
    "18. If numReg = re.compile(r'\\d+'), what will numRegex.sub('X', '11 drummers, 10 pipers, five rings, 4 hen') return?"
   ]
  },
  {
   "cell_type": "code",
   "execution_count": 12,
   "id": "4fe0975a",
   "metadata": {},
   "outputs": [
    {
     "name": "stdout",
     "output_type": "stream",
     "text": [
      "X drummers, X pipers, five rings, X hen\n"
     ]
    }
   ],
   "source": [
    "import re\n",
    "\n",
    "numRegex = re.compile(r'\\d+')\n",
    "text = '11 drummers, 10 pipers, five rings, 4 hen'\n",
    "result = numRegex.sub('X', text)\n",
    "print(result)"
   ]
  },
  {
   "cell_type": "raw",
   "id": "8f96246e",
   "metadata": {},
   "source": [
    "19. What does passing re.VERBOSE as the 2nd argument to re.compile() allow to do?"
   ]
  },
  {
   "cell_type": "code",
   "execution_count": 14,
   "id": "521cc7ba",
   "metadata": {},
   "outputs": [
    {
     "name": "stdout",
     "output_type": "stream",
     "text": [
      "Phone number found: 191\n"
     ]
    }
   ],
   "source": [
    "import re\n",
    "\n",
    "pattern = re.compile(r'''\\d{3}  # match three digits # match a hyphen \\d{4}  # match four digits ''', re.VERBOSE)\n",
    "\n",
    "text = 'Phone number: 191-4567'\n",
    "\n",
    "match = pattern.search(text)\n",
    "if match:\n",
    "    print('Phone number found:', match.group())\n",
    "else:\n",
    "    print('No phone number found.')"
   ]
  },
  {
   "cell_type": "raw",
   "id": "c01a3c79",
   "metadata": {},
   "source": [
    "20. How would you write a regex that match a number with comma for every three digits? It must match the given following:\n",
    "'42'\n",
    "'1,234'\n",
    "'6,368,745'\n",
    "but not the following:\n",
    "'12,34,567' (which has only two digits between the commas)\n",
    "'1234' (which lacks commas)"
   ]
  },
  {
   "cell_type": "code",
   "execution_count": 18,
   "id": "5957d22c",
   "metadata": {},
   "outputs": [
    {
     "name": "stdout",
     "output_type": "stream",
     "text": [
      "42 is not a valid number\n",
      "1,234 is not a valid number\n",
      "6,368,745 is not a valid number\n",
      "12,34,567 is not a valid number\n",
      "1234 is a valid number\n"
     ]
    }
   ],
   "source": [
    "numbers = ['42', '1,234', '6,368,745', '12,34,567', '1234']\n",
    "for number in numbers:\n",
    "    match = pattern.match(number)\n",
    "    if match:\n",
    "        print(number, 'is a valid number')\n",
    "    else:\n",
    "        print(number, 'is not a valid number')"
   ]
  },
  {
   "cell_type": "raw",
   "id": "a21a0e00",
   "metadata": {},
   "source": [
    "21. How would you write a regex that matches the full name of someone whose last name is Watanabe? You can assume that the first name that comes before it will always be one word that begins with a capital letter. The regex must match the following:\n",
    "'Haruto Watanabe'\n",
    "'Alice Watanabe'\n",
    "'RoboCop Watanabe'\n",
    "but not the following:\n",
    "'haruto Watanabe' (where the first name is not capitalized)\n",
    "'Mr. Watanabe' (where the preceding word has a nonletter character)\n",
    "'Watanabe' (which has no first name)\n",
    "'Haruto watanabe' (where Watanabe is not capitalized)"
   ]
  },
  {
   "cell_type": "code",
   "execution_count": 20,
   "id": "a98ad153",
   "metadata": {},
   "outputs": [
    {
     "name": "stdout",
     "output_type": "stream",
     "text": [
      "True\n",
      "True\n",
      "True\n"
     ]
    }
   ],
   "source": [
    "import re\n",
    "\n",
    "def match_full_name(name):\n",
    "    pattern = r'^[A-Z][a-zA-Z]*\\sWatanabe$'\n",
    "    if re.match(pattern, name):\n",
    "        return True\n",
    "    else:\n",
    "        return False\n",
    "    \n",
    "print(match_full_name('Haruto Watanabe'))     \n",
    "print(match_full_name('Alice Watanabe'))     \n",
    "print(match_full_name('RoboCop Watanabe'))   "
   ]
  },
  {
   "cell_type": "raw",
   "id": "e93eaf16",
   "metadata": {},
   "source": [
    "# Does not match"
   ]
  },
  {
   "cell_type": "code",
   "execution_count": 21,
   "id": "9d8a9674",
   "metadata": {},
   "outputs": [
    {
     "name": "stdout",
     "output_type": "stream",
     "text": [
      "False\n",
      "False\n",
      "False\n",
      "False\n"
     ]
    }
   ],
   "source": [
    "print(match_full_name('haruto Watanabe'))     \n",
    "print(match_full_name('Mr. Watanabe'))        \n",
    "print(match_full_name('Watanabe'))            \n",
    "print(match_full_name('Haruto watanabe'))"
   ]
  },
  {
   "cell_type": "raw",
   "id": "e9c05e4e",
   "metadata": {},
   "source": [
    "22. How would you write a regex that matches a sentence where the first word is either Alice, Bob, or Carol; the second word is either eats, pets, or throws; the third word is apples, cats, or baseballs; and the sentence ends with a period? This regex should be case-insensitive. It must match the following:\n",
    "'Alice eats apples.'\n",
    "'Bob pets cats.'\n",
    "'Carol throws baseballs.'\n",
    "'Alice throws Apples.'\n",
    "'BOB EATS CATS.'\n",
    "but not the following:\n",
    "'RoboCop eats apples.'\n",
    "'ALICE THROWS FOOTBALLS.'\n",
    "'Carol eats 7 cats.'"
   ]
  },
  {
   "cell_type": "code",
   "execution_count": 22,
   "id": "238eb6c0",
   "metadata": {},
   "outputs": [
    {
     "name": "stdout",
     "output_type": "stream",
     "text": [
      "True\n",
      "True\n",
      "True\n",
      "True\n",
      "True\n"
     ]
    }
   ],
   "source": [
    "import re\n",
    "\n",
    "def match_sentence(sentence):\n",
    "    pattern = r'^(Alice|Bob|Carol)\\s(eats|pets|throws)\\s(apples|cats|baseballs)\\.$'\n",
    "    if re.match(pattern, sentence, re.IGNORECASE):\n",
    "        return True\n",
    "    else:\n",
    "        return False\n",
    "\n",
    "print(match_sentence('Alice eats apples.'))           \n",
    "print(match_sentence('Bob pets cats.'))              \n",
    "print(match_sentence('Carol throws baseballs.'))     \n",
    "print(match_sentence('Alice throws Apples.'))        \n",
    "print(match_sentence('BOB EATS CATS.'))              "
   ]
  },
  {
   "cell_type": "code",
   "execution_count": 23,
   "id": "551ff63d",
   "metadata": {},
   "outputs": [
    {
     "name": "stdout",
     "output_type": "stream",
     "text": [
      "False\n",
      "False\n",
      "False\n"
     ]
    }
   ],
   "source": [
    "print(match_sentence('RoboCop eats apples.'))         \n",
    "print(match_sentence('ALICE THROWS FOOTBALLS.'))      \n",
    "print(match_sentence('Carol eats 7 cats.'))           "
   ]
  },
  {
   "cell_type": "code",
   "execution_count": null,
   "id": "c8612388",
   "metadata": {},
   "outputs": [],
   "source": []
  },
  {
   "cell_type": "code",
   "execution_count": null,
   "id": "e0a30c7a",
   "metadata": {},
   "outputs": [],
   "source": []
  },
  {
   "cell_type": "code",
   "execution_count": null,
   "id": "4d476532",
   "metadata": {},
   "outputs": [],
   "source": []
  },
  {
   "cell_type": "code",
   "execution_count": null,
   "id": "66b31ac0",
   "metadata": {},
   "outputs": [],
   "source": []
  }
 ],
 "metadata": {
  "kernelspec": {
   "display_name": "Python 3 (ipykernel)",
   "language": "python",
   "name": "python3"
  },
  "language_info": {
   "codemirror_mode": {
    "name": "ipython",
    "version": 3
   },
   "file_extension": ".py",
   "mimetype": "text/x-python",
   "name": "python",
   "nbconvert_exporter": "python",
   "pygments_lexer": "ipython3",
   "version": "3.9.13"
  }
 },
 "nbformat": 4,
 "nbformat_minor": 5
}
