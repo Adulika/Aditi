{
 "cells": [
  {
   "cell_type": "raw",
   "id": "bc5398e8",
   "metadata": {},
   "source": [
    "Q1. What exactly is []?"
   ]
  },
  {
   "cell_type": "raw",
   "id": "6560987b",
   "metadata": {},
   "source": [
    "[] is an empty list and the use of [] can depend on context. it is used to index or access elements in a list. empty list is denoted by [] that contains no elements and has a lenghth of 0."
   ]
  },
  {
   "cell_type": "code",
   "execution_count": 1,
   "id": "381f4af1",
   "metadata": {},
   "outputs": [],
   "source": [
    "my_name = []"
   ]
  },
  {
   "cell_type": "code",
   "execution_count": 2,
   "id": "805c6e6d",
   "metadata": {},
   "outputs": [
    {
     "name": "stdout",
     "output_type": "stream",
     "text": [
      "[]\n"
     ]
    }
   ],
   "source": [
    "print(my_name)"
   ]
  },
  {
   "cell_type": "code",
   "execution_count": 3,
   "id": "2a4a4eea",
   "metadata": {},
   "outputs": [],
   "source": [
    "my_numbers = [1,2,3,4,5,6]"
   ]
  },
  {
   "cell_type": "code",
   "execution_count": 4,
   "id": "e275d5be",
   "metadata": {},
   "outputs": [],
   "source": [
    "first_elemnet = my_numbers[0]"
   ]
  },
  {
   "cell_type": "code",
   "execution_count": 9,
   "id": "8b883ca4",
   "metadata": {},
   "outputs": [
    {
     "name": "stdout",
     "output_type": "stream",
     "text": [
      "1\n"
     ]
    }
   ],
   "source": [
    "print(my_numbers[0])"
   ]
  },
  {
   "cell_type": "raw",
   "id": "b06b1848",
   "metadata": {},
   "source": [
    "Q2. In a list of values stored in a variable called spam, how would you assign the value 'hello' as the third value? (Assume [2, 4, 6, 8, 10] are in spam.)"
   ]
  },
  {
   "cell_type": "code",
   "execution_count": 11,
   "id": "a03f6ae7",
   "metadata": {},
   "outputs": [
    {
     "name": "stdout",
     "output_type": "stream",
     "text": [
      "[2, 4, 'hello', 8, 10]\n"
     ]
    }
   ],
   "source": [
    "spam = [2,4,6,8,10]\n",
    "spam[2] = 'hello'\n",
    "print(spam)"
   ]
  },
  {
   "cell_type": "raw",
   "id": "964d187a",
   "metadata": {},
   "source": [
    "Q3. What is the value of spam[int(int('3' * 2) / 11)]?"
   ]
  },
  {
   "cell_type": "code",
   "execution_count": 2,
   "id": "6cd4fb0c",
   "metadata": {},
   "outputs": [
    {
     "name": "stdout",
     "output_type": "stream",
     "text": [
      "d\n"
     ]
    }
   ],
   "source": [
    "spam = ['a', 'b', 'c', 'd']\n",
    "value = spam[int(int('3' * 2) / 11)]\n",
    "print(value)"
   ]
  },
  {
   "cell_type": "raw",
   "id": "37eb5ba5",
   "metadata": {},
   "source": [
    "Q4. What is the value of spam[-1]"
   ]
  },
  {
   "cell_type": "code",
   "execution_count": 3,
   "id": "528e62e8",
   "metadata": {},
   "outputs": [
    {
     "name": "stdout",
     "output_type": "stream",
     "text": [
      "d\n"
     ]
    }
   ],
   "source": [
    "spam = ['a', 'b', 'c', 'd']\n",
    "element1 = spam[-1]\n",
    "print(element1)"
   ]
  },
  {
   "cell_type": "raw",
   "id": "52b0b3fc",
   "metadata": {},
   "source": [
    "Q5. What is the value of spam[:2]?"
   ]
  },
  {
   "cell_type": "code",
   "execution_count": 5,
   "id": "d893e0a8",
   "metadata": {},
   "outputs": [
    {
     "name": "stdout",
     "output_type": "stream",
     "text": [
      "['a', 'b']\n"
     ]
    }
   ],
   "source": [
    "spam = ['a', 'b', 'c', 'd']\n",
    "element2 = spam[:2]\n",
    "print(element2)"
   ]
  },
  {
   "cell_type": "raw",
   "id": "ab41c9f3",
   "metadata": {},
   "source": [
    "Q6. What is the value of bacon.index('cat')?"
   ]
  },
  {
   "cell_type": "code",
   "execution_count": 6,
   "id": "0fdbf7d6",
   "metadata": {},
   "outputs": [
    {
     "name": "stdout",
     "output_type": "stream",
     "text": [
      "1\n"
     ]
    }
   ],
   "source": [
    "bacon = [3.14, 'cat', 11, 'cat', True]\n",
    "element3 = bacon.index('cat')\n",
    "print(element3)"
   ]
  },
  {
   "cell_type": "raw",
   "id": "1634539b",
   "metadata": {},
   "source": [
    "Q7. How does bacon.append(99) change the look of the list value in bacon?"
   ]
  },
  {
   "cell_type": "code",
   "execution_count": 8,
   "id": "d40cb7b6",
   "metadata": {},
   "outputs": [
    {
     "name": "stdout",
     "output_type": "stream",
     "text": [
      "[3.14, 'cat', 11, 'cat', True, 66]\n"
     ]
    }
   ],
   "source": [
    "bacon = [3.14, 'cat', 11, 'cat', True]\n",
    "bacon.append(66)\n",
    "print(bacon)"
   ]
  },
  {
   "cell_type": "raw",
   "id": "623139fd",
   "metadata": {},
   "source": [
    "Q8. How does bacon.remove('cat') change the look of the list in bacon?"
   ]
  },
  {
   "cell_type": "code",
   "execution_count": 9,
   "id": "543f62ad",
   "metadata": {},
   "outputs": [
    {
     "name": "stdout",
     "output_type": "stream",
     "text": [
      "[3.14, 11, 'cat', True]\n"
     ]
    }
   ],
   "source": [
    "bacon = [3.14, 'cat', 11, 'cat', True]\n",
    "bacon.remove('cat')\n",
    "print(bacon)"
   ]
  },
  {
   "cell_type": "raw",
   "id": "d6ae7037",
   "metadata": {},
   "source": [
    "Q9. What are the list concatenation and list replication operators?"
   ]
  },
  {
   "cell_type": "raw",
   "id": "6ee8484c",
   "metadata": {},
   "source": [
    "example for list concatenation: The list concatenation operator is used to join two or more lists into a single list. When this operator is applied to two lists it returns a new list containing all the elements of the first list followed by all the elements of the second list."
   ]
  },
  {
   "cell_type": "code",
   "execution_count": 10,
   "id": "a7af19f2",
   "metadata": {},
   "outputs": [
    {
     "name": "stdout",
     "output_type": "stream",
     "text": [
      "[2, 4, 6, 8, 10, 12]\n"
     ]
    }
   ],
   "source": [
    "list1 = [2, 4, 6]\n",
    "list2 = [8, 10, 12]\n",
    "element4 = list1 + list2\n",
    "print(element4)"
   ]
  },
  {
   "cell_type": "raw",
   "id": "bb8ddb15",
   "metadata": {},
   "source": [
    "example for list replication: The list replication operator is used to create a new list by repeating an existing list a specified number of times. When this operator is applied to a list and an integer it returns a new list containing the original list repeated the specified number of times."
   ]
  },
  {
   "cell_type": "code",
   "execution_count": 12,
   "id": "7736e82d",
   "metadata": {},
   "outputs": [
    {
     "name": "stdout",
     "output_type": "stream",
     "text": [
      "[6, 7, 8, 6, 7, 8, 6, 7, 8, 6, 7, 8]\n"
     ]
    }
   ],
   "source": [
    "list1 = [6, 7, 8]\n",
    "element5 = list1 * 4\n",
    "print(element5)"
   ]
  },
  {
   "cell_type": "raw",
   "id": "453da9a1",
   "metadata": {},
   "source": [
    "Q10. What is difference between the list methods append() and insert()?"
   ]
  },
  {
   "cell_type": "raw",
   "id": "33727327",
   "metadata": {},
   "source": [
    "The append() method adds a new element to the end of the list whereas the insert() method inserts a new element at a specific position in the list."
   ]
  },
  {
   "cell_type": "code",
   "execution_count": 13,
   "id": "d6328bc3",
   "metadata": {},
   "outputs": [
    {
     "name": "stdout",
     "output_type": "stream",
     "text": [
      "[4, 5, 6, 7]\n"
     ]
    }
   ],
   "source": [
    "#Example1 - append()\n",
    "list1 = [4, 5, 6]\n",
    "list1.append(7)\n",
    "print(list1)"
   ]
  },
  {
   "cell_type": "code",
   "execution_count": 15,
   "id": "2ee9c727",
   "metadata": {},
   "outputs": [
    {
     "name": "stdout",
     "output_type": "stream",
     "text": [
      "[1, 2, 4, 3]\n"
     ]
    }
   ],
   "source": [
    "#example2 - insert()\n",
    "list2 = [1, 2, 3]\n",
    "list2.insert(2, 4)\n",
    "print(list2)"
   ]
  },
  {
   "cell_type": "raw",
   "id": "3bb479d4",
   "metadata": {},
   "source": [
    "Q11. What are the two methods for removing items from a list?"
   ]
  },
  {
   "cell_type": "raw",
   "id": "42a11a1f",
   "metadata": {},
   "source": [
    "the two methods for removing items from a list are remove and pop.\n",
    "remove() is used to remove the first occurrence of a specified element from the list. It takes a single argument which is the element to be removed from the list. If the element is not found in the list it raises a ValueError.\n",
    "pop() is used to remove and return an element from a specified position in the list. If no index is specified, it removes and returns the last element of the list. This method takes an optional index argument, which specifies the position of the element to be removed."
   ]
  },
  {
   "cell_type": "code",
   "execution_count": 1,
   "id": "c08ffcee",
   "metadata": {},
   "outputs": [
    {
     "name": "stdout",
     "output_type": "stream",
     "text": [
      "[2, 4, 6, 10]\n"
     ]
    }
   ],
   "source": [
    "my_list = [2, 4, 6, 8, 10]\n",
    "my_list.remove(8)\n",
    "print(my_list)"
   ]
  },
  {
   "cell_type": "code",
   "execution_count": 2,
   "id": "cc78bd7b",
   "metadata": {},
   "outputs": [
    {
     "name": "stdout",
     "output_type": "stream",
     "text": [
      "[1, 3, 5, 9]\n",
      "7\n"
     ]
    }
   ],
   "source": [
    "my_list = [1, 3, 5, 7, 9]\n",
    "element1 = my_list.pop(3)\n",
    "print(my_list)  \n",
    "print(element1)"
   ]
  },
  {
   "cell_type": "raw",
   "id": "2e499592",
   "metadata": {},
   "source": [
    "Q12. Describe how list values and string values are identical."
   ]
  },
  {
   "cell_type": "raw",
   "id": "68d43e2e",
   "metadata": {},
   "source": [
    "same syntax and methods can be used for both list values and string values and list are mutable and strings are immutable, so some methods or operations may behave differently for the two types."
   ]
  },
  {
   "cell_type": "code",
   "execution_count": 3,
   "id": "870e2a3a",
   "metadata": {},
   "outputs": [
    {
     "name": "stdout",
     "output_type": "stream",
     "text": [
      "1\n",
      "h\n"
     ]
    }
   ],
   "source": [
    "my_list = [1, 2, 3, 4, 5]\n",
    "my_string = \"hello\"\n",
    "print(my_list[0])  \n",
    "print(my_string[0])"
   ]
  },
  {
   "cell_type": "code",
   "execution_count": 4,
   "id": "892ff5d7",
   "metadata": {},
   "outputs": [
    {
     "name": "stdout",
     "output_type": "stream",
     "text": [
      "[2, 3, 4]\n",
      "ell\n"
     ]
    }
   ],
   "source": [
    "my_list = [1, 2, 3, 4, 5]\n",
    "my_string = \"hello\"\n",
    "print(my_list[1:4])  \n",
    "print(my_string[1:4])"
   ]
  },
  {
   "cell_type": "code",
   "execution_count": 5,
   "id": "5b2a20f9",
   "metadata": {},
   "outputs": [
    {
     "name": "stdout",
     "output_type": "stream",
     "text": [
      "5\n",
      "5\n"
     ]
    }
   ],
   "source": [
    "my_list = [1, 2, 3, 4, 5]\n",
    "my_string = \"hello\"\n",
    "print(len(my_list))  \n",
    "print(len(my_string))"
   ]
  },
  {
   "cell_type": "code",
   "execution_count": 6,
   "id": "86991c1b",
   "metadata": {},
   "outputs": [
    {
     "name": "stdout",
     "output_type": "stream",
     "text": [
      "True\n",
      "False\n"
     ]
    }
   ],
   "source": [
    "my_list = [1, 2, 3, 4, 5]\n",
    "my_string = \"hello\"\n",
    "print(3 in my_list)  \n",
    "print('w' in my_string)"
   ]
  },
  {
   "cell_type": "raw",
   "id": "dfcea3ef",
   "metadata": {},
   "source": [
    "Q13. What's the difference between tuples and lists?"
   ]
  },
  {
   "cell_type": "raw",
   "id": "023cd4f2",
   "metadata": {},
   "source": [
    "A tuple is a collection of ordered elements, enclosed in parentheses (), and separated by commas. Once a tuple is created, you cannot add, remove or modify any of its elements. You can only access or slice the elements."
   ]
  },
  {
   "cell_type": "code",
   "execution_count": null,
   "id": "7eef3237",
   "metadata": {},
   "outputs": [],
   "source": [
    "#example of tuples"
   ]
  },
  {
   "cell_type": "code",
   "execution_count": 8,
   "id": "5428e506",
   "metadata": {
    "scrolled": true
   },
   "outputs": [
    {
     "name": "stdout",
     "output_type": "stream",
     "text": [
      "6\n",
      "(7, 8, 9)\n"
     ]
    }
   ],
   "source": [
    "my_tuple = (6, 7, 8, 9, 10)\n",
    "print(my_tuple[0])  \n",
    "print(my_tuple[1:4])"
   ]
  },
  {
   "cell_type": "raw",
   "id": "42834014",
   "metadata": {},
   "source": [
    "list is a collection of ordered elements which is enclosed in square brackets [] and separated by commas. Lists compared to tuples can add, remove or modify any of its elements."
   ]
  },
  {
   "cell_type": "code",
   "execution_count": null,
   "id": "98f6f87a",
   "metadata": {},
   "outputs": [],
   "source": [
    "#example of list"
   ]
  },
  {
   "cell_type": "code",
   "execution_count": 9,
   "id": "d3eea1e3",
   "metadata": {},
   "outputs": [
    {
     "name": "stdout",
     "output_type": "stream",
     "text": [
      "[1, 2, 10, 4, 5]\n",
      "[1, 2, 10, 4, 5, 6]\n",
      "[1, 2, 10, 5, 6]\n"
     ]
    }
   ],
   "source": [
    "my_list = [1, 2, 3, 4, 5]\n",
    "my_list[2] = 10  \n",
    "print(my_list)  \n",
    "\n",
    "my_list.append(6)\n",
    "print(my_list)  \n",
    "\n",
    "my_list.remove(4)  \n",
    "print(my_list)"
   ]
  },
  {
   "cell_type": "raw",
   "id": "c98bb680",
   "metadata": {},
   "source": [
    "Q14. How do you type a tuple value that only contains the integer 42?"
   ]
  },
  {
   "cell_type": "code",
   "execution_count": 13,
   "id": "b98c6193",
   "metadata": {},
   "outputs": [
    {
     "name": "stdout",
     "output_type": "stream",
     "text": [
      "(42,)\n"
     ]
    }
   ],
   "source": [
    "my_tuple = (42,)\n",
    "print(my_tuple)"
   ]
  },
  {
   "cell_type": "raw",
   "id": "ed99bf25",
   "metadata": {},
   "source": [
    "Q15. How do you get a list value's tuple form? How do you get a tuple value's list form?"
   ]
  },
  {
   "cell_type": "code",
   "execution_count": 10,
   "id": "bf9a1260",
   "metadata": {},
   "outputs": [
    {
     "name": "stdout",
     "output_type": "stream",
     "text": [
      "(1, 2, 3, 4, 5)\n"
     ]
    }
   ],
   "source": [
    "#list value's tuple form\n",
    "list1 = [1, 2, 3, 4, 5]\n",
    "tuple1 = tuple(list1)\n",
    "print(tuple1)"
   ]
  },
  {
   "cell_type": "code",
   "execution_count": 11,
   "id": "10d1afa6",
   "metadata": {},
   "outputs": [
    {
     "name": "stdout",
     "output_type": "stream",
     "text": [
      "[1, 2, 3, 4, 5]\n"
     ]
    }
   ],
   "source": [
    "#tuple value's list form\n",
    "my_tuple = (1, 2, 3, 4, 5)\n",
    "my_list = list(my_tuple)\n",
    "print(my_list)"
   ]
  },
  {
   "cell_type": "raw",
   "id": "4b69f809",
   "metadata": {},
   "source": [
    "Q16. Variables that \"contain\" list values are not necessarily lists themselves. Instead, what do they contain?"
   ]
  },
  {
   "cell_type": "code",
   "execution_count": 16,
   "id": "d87254b8",
   "metadata": {},
   "outputs": [
    {
     "name": "stdout",
     "output_type": "stream",
     "text": [
      "[1, 2, 3, 4]\n",
      "[1, 2, 3, 4, 6]\n"
     ]
    }
   ],
   "source": [
    "list1 = [1, 2, 3]\n",
    "list2 = list1\n",
    "\n",
    "list1.append(4)\n",
    "print(list2)\n",
    "\n",
    "list1.append(6)\n",
    "print(list2)"
   ]
  },
  {
   "cell_type": "raw",
   "id": "03859559",
   "metadata": {},
   "source": [
    "Q17. How do you distinguish between copy.copy() and copy.deepcopy()?"
   ]
  },
  {
   "cell_type": "code",
   "execution_count": 17,
   "id": "1ac702e9",
   "metadata": {},
   "outputs": [
    {
     "name": "stdout",
     "output_type": "stream",
     "text": [
      "[[5, 2], [3, 4]]\n",
      "[[5, 2], [3, 4]]\n",
      "[[1, 2], [3, 4]]\n"
     ]
    }
   ],
   "source": [
    "import copy\n",
    "original_list = [[1, 2], [3, 4]]\n",
    "shallow_copy = copy.copy(original_list)\n",
    "deep_copy = copy.deepcopy(original_list)\n",
    "\n",
    "original_list[0][0] = 5\n",
    "print(original_list)   \n",
    "print(shallow_copy)    \n",
    "print(deep_copy)"
   ]
  },
  {
   "cell_type": "code",
   "execution_count": null,
   "id": "041c2ef1",
   "metadata": {},
   "outputs": [],
   "source": []
  },
  {
   "cell_type": "code",
   "execution_count": null,
   "id": "98385974",
   "metadata": {},
   "outputs": [],
   "source": []
  }
 ],
 "metadata": {
  "kernelspec": {
   "display_name": "Python 3 (ipykernel)",
   "language": "python",
   "name": "python3"
  },
  "language_info": {
   "codemirror_mode": {
    "name": "ipython",
    "version": 3
   },
   "file_extension": ".py",
   "mimetype": "text/x-python",
   "name": "python",
   "nbconvert_exporter": "python",
   "pygments_lexer": "ipython3",
   "version": "3.9.13"
  }
 },
 "nbformat": 4,
 "nbformat_minor": 5
}
