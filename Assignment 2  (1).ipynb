{
 "cells": [
  {
   "cell_type": "raw",
   "id": "1f1c51ad",
   "metadata": {},
   "source": [
    "# Assignment 2 "
   ]
  },
  {
   "cell_type": "code",
   "execution_count": null,
   "id": "513bb1cf",
   "metadata": {},
   "outputs": [],
   "source": [
    "Q1. What are the two values of the Boolean data type? How do you write them?"
   ]
  },
  {
   "cell_type": "raw",
   "id": "8d2ddc90",
   "metadata": {},
   "source": [
    "The two values of the Boolean data type are ‘True’ and ‘False’ These values symbols as logical truth values where ‘True’ means yes or true value whereas ‘False’ means false or no. Boolean values are commonly used in control flow statements like if, while, and for loops to test conditions and also execute different blocks of code depending on whether the condition is true or false."
   ]
  },
  {
   "cell_type": "code",
   "execution_count": 1,
   "id": "7752eb65",
   "metadata": {},
   "outputs": [],
   "source": [
    "temperature = 28 "
   ]
  },
  {
   "cell_type": "code",
   "execution_count": 2,
   "id": "975adfdc",
   "metadata": {},
   "outputs": [],
   "source": [
    "is_hot = temperature > 30"
   ]
  },
  {
   "cell_type": "code",
   "execution_count": 3,
   "id": "934cbfb7",
   "metadata": {},
   "outputs": [
    {
     "name": "stdout",
     "output_type": "stream",
     "text": [
      "False\n"
     ]
    }
   ],
   "source": [
    "print(is_hot)"
   ]
  },
  {
   "cell_type": "code",
   "execution_count": 6,
   "id": "bb5fcc73",
   "metadata": {},
   "outputs": [],
   "source": [
    "is_warm = temperature >= 20 and temperature <= 30"
   ]
  },
  {
   "cell_type": "code",
   "execution_count": 7,
   "id": "98a06a96",
   "metadata": {},
   "outputs": [
    {
     "name": "stdout",
     "output_type": "stream",
     "text": [
      "True\n"
     ]
    }
   ],
   "source": [
    "print(is_warm)"
   ]
  },
  {
   "cell_type": "raw",
   "id": "5913258f",
   "metadata": {},
   "source": [
    "Q2. What are the three different types of Boolean operators?"
   ]
  },
  {
   "cell_type": "raw",
   "id": "1a0f184f",
   "metadata": {},
   "source": [
    "There are three types of Boolean operators i.e. and, or and not.\n",
    "-- not: This is a unary operator that takes a single Boolean value and returns its opposite. For example, not True Returns False, and not False Returns True.\n",
    "-- and: This is a binary operator that takes two Boolean values and returns True if both values are True, and False otherwise. For example, True and True Returns True, True and False returns False, and so on.\n",
    "-- or: This is also a binary operator that takes two Boolean values and returns True if at least one of the values is True, and False otherwise. For example, True or False Returns True, False or False returns False, and so on.\n",
    "-- These operators are used in Boolean expressions to perform logical operations and test conditions. For example, you can use the not operator to negate a condition, the and operator to test whether two conditions are both true, and the or operator to test whether at least one of two conditions is true.\n"
   ]
  },
  {
   "cell_type": "raw",
   "id": "a4c110ad",
   "metadata": {},
   "source": [
    "Example of AND operator"
   ]
  },
  {
   "cell_type": "code",
   "execution_count": 8,
   "id": "59b4f690",
   "metadata": {},
   "outputs": [],
   "source": [
    "x = 5"
   ]
  },
  {
   "cell_type": "code",
   "execution_count": 9,
   "id": "e91be52d",
   "metadata": {},
   "outputs": [],
   "source": [
    "y = 10"
   ]
  },
  {
   "cell_type": "code",
   "execution_count": 11,
   "id": "01c3ed0b",
   "metadata": {},
   "outputs": [
    {
     "name": "stdout",
     "output_type": "stream",
     "text": [
      "Both x and y are positive numbers\n"
     ]
    }
   ],
   "source": [
    "if x > 0 and y > 0:\n",
    "    print(\"Both x and y are positive numbers\")"
   ]
  },
  {
   "cell_type": "raw",
   "id": "0ef9def5",
   "metadata": {},
   "source": [
    "Example of OR operator"
   ]
  },
  {
   "cell_type": "code",
   "execution_count": 12,
   "id": "b21c41c4",
   "metadata": {},
   "outputs": [],
   "source": [
    "x = 5"
   ]
  },
  {
   "cell_type": "code",
   "execution_count": 13,
   "id": "7d4135da",
   "metadata": {},
   "outputs": [],
   "source": [
    "y = 10"
   ]
  },
  {
   "cell_type": "code",
   "execution_count": 16,
   "id": "cc6eded3",
   "metadata": {},
   "outputs": [],
   "source": [
    "if x == 0 or y == 0:\n",
    "    print(\"At least one of the numbers is zero\")"
   ]
  },
  {
   "cell_type": "raw",
   "id": "f6389060",
   "metadata": {},
   "source": [
    "Example of NOT operator"
   ]
  },
  {
   "cell_type": "code",
   "execution_count": 17,
   "id": "ecd3ec10",
   "metadata": {},
   "outputs": [],
   "source": [
    "x = 5"
   ]
  },
  {
   "cell_type": "code",
   "execution_count": 18,
   "id": "fafd29c2",
   "metadata": {},
   "outputs": [
    {
     "name": "stdout",
     "output_type": "stream",
     "text": [
      "x is not zero\n"
     ]
    }
   ],
   "source": [
    "if not x == 0:\n",
    "    print(\"x is not zero\")"
   ]
  },
  {
   "cell_type": "raw",
   "id": "0a53986e",
   "metadata": {},
   "source": [
    "Q3. Make a list of each Boolean operator's truth tables (i.e. every possible combination of Boolean values for the operator and what it evaluates)."
   ]
  },
  {
   "cell_type": "raw",
   "id": "aeefb60d",
   "metadata": {},
   "source": [
    "AND Operator:\n",
    "\n",
    "Input1\t Input2\t    Output\n",
    " False\tFalse        False                      \n",
    " False  True         False\n",
    " True   False        False\n",
    " True\tTrue\t     True"
   ]
  },
  {
   "cell_type": "raw",
   "id": "b65c47e6",
   "metadata": {},
   "source": [
    "OR Operator:\n",
    "\n",
    " A      B      Output\n",
    "False False\t  False\n",
    "False True\t  True\n",
    "True  False   True\n",
    "True  True    True"
   ]
  },
  {
   "cell_type": "raw",
   "id": "23d37240",
   "metadata": {},
   "source": [
    "NOT Operator:\n",
    "\n",
    "Input\tOutput\n",
    "False\tTrue\n",
    "True\tFalse\n"
   ]
  },
  {
   "cell_type": "raw",
   "id": "a3b4e6e4",
   "metadata": {},
   "source": [
    "Q4. What are the values of the following expressions?\n",
    "(5 > 4) and (3 == 5)\n",
    "not (5 > 4)\n",
    "(5 > 4) or (3 == 5)\n",
    "not ((5 > 4) or (3 == 5))\n",
    "(True and True) and (True == False)\n",
    "(not False) or (not True)"
   ]
  },
  {
   "cell_type": "raw",
   "id": "a5818df5",
   "metadata": {},
   "source": [
    "Here are the values of the given expressions:"
   ]
  },
  {
   "cell_type": "code",
   "execution_count": 1,
   "id": "2394d55f",
   "metadata": {},
   "outputs": [],
   "source": [
    "a = (5 > 4) and (3 == 5)"
   ]
  },
  {
   "cell_type": "code",
   "execution_count": 2,
   "id": "17ad5f2a",
   "metadata": {},
   "outputs": [
    {
     "name": "stdout",
     "output_type": "stream",
     "text": [
      "False\n"
     ]
    }
   ],
   "source": [
    "print(a)"
   ]
  },
  {
   "cell_type": "code",
   "execution_count": 3,
   "id": "7a86c95e",
   "metadata": {},
   "outputs": [],
   "source": [
    "x = not (5 > 4)"
   ]
  },
  {
   "cell_type": "code",
   "execution_count": 4,
   "id": "4575552b",
   "metadata": {},
   "outputs": [
    {
     "name": "stdout",
     "output_type": "stream",
     "text": [
      "False\n"
     ]
    }
   ],
   "source": [
    "print(x)"
   ]
  },
  {
   "cell_type": "code",
   "execution_count": 5,
   "id": "db6c56a5",
   "metadata": {},
   "outputs": [],
   "source": [
    "y = (5 > 4) or (3 == 5)"
   ]
  },
  {
   "cell_type": "code",
   "execution_count": 6,
   "id": "28eea7f3",
   "metadata": {},
   "outputs": [
    {
     "name": "stdout",
     "output_type": "stream",
     "text": [
      "True\n"
     ]
    }
   ],
   "source": [
    "print(y)"
   ]
  },
  {
   "cell_type": "code",
   "execution_count": 7,
   "id": "5deb2e21",
   "metadata": {},
   "outputs": [],
   "source": [
    "b = not ((5 > 4) or (3 == 5))"
   ]
  },
  {
   "cell_type": "code",
   "execution_count": 8,
   "id": "9661a3e7",
   "metadata": {},
   "outputs": [
    {
     "name": "stdout",
     "output_type": "stream",
     "text": [
      "False\n"
     ]
    }
   ],
   "source": [
    "print(b)"
   ]
  },
  {
   "cell_type": "code",
   "execution_count": 9,
   "id": "a2dc6ef5",
   "metadata": {},
   "outputs": [],
   "source": [
    "c = (True and True) and (True == False)"
   ]
  },
  {
   "cell_type": "code",
   "execution_count": 10,
   "id": "746a1c5c",
   "metadata": {},
   "outputs": [
    {
     "name": "stdout",
     "output_type": "stream",
     "text": [
      "False\n"
     ]
    }
   ],
   "source": [
    "print(c)"
   ]
  },
  {
   "cell_type": "code",
   "execution_count": 11,
   "id": "770f02ae",
   "metadata": {},
   "outputs": [],
   "source": [
    "d = (not False) or (not True)"
   ]
  },
  {
   "cell_type": "code",
   "execution_count": 12,
   "id": "bb82c6eb",
   "metadata": {},
   "outputs": [
    {
     "name": "stdout",
     "output_type": "stream",
     "text": [
      "True\n"
     ]
    }
   ],
   "source": [
    "print(d)"
   ]
  },
  {
   "cell_type": "raw",
   "id": "e0a40f97",
   "metadata": {},
   "source": [
    "Q5. What are the six comparison operators? "
   ]
  },
  {
   "cell_type": "raw",
   "id": "f1ad00c1",
   "metadata": {},
   "source": [
    "The six comparison operators in Python are:\n",
    "\n",
    "\"==\" (equal to)\n",
    "\"!=\" (not equal to)\n",
    "\">\" (greater than)\n",
    "\"<\" (less than)\n",
    "\">=\" (greater than or equal to)\n",
    "\"<=\" (less than or equal to)"
   ]
  },
  {
   "cell_type": "raw",
   "id": "58a3e61c",
   "metadata": {},
   "source": [
    "Q6. How do you tell the difference between the equal to and assignment operators?Describe a condition and when you would use one."
   ]
  },
  {
   "cell_type": "raw",
   "id": "3c830fbb",
   "metadata": {},
   "source": [
    "The equal to operator (==) is used to compare two values for equality. It returns true if the values are equal and false if the values are not equal. For example, 5 == 5 would return true while 5 == 6 would return false.\n",
    "\n",
    "The assignment operator (=) is used to assign a value to a variable. It assigns the value on the right-hand side of the operator to the variable on the left-hand side. For example, x = 5 would assign the value 5 to the variable x."
   ]
  },
  {
   "cell_type": "code",
   "execution_count": 14,
   "id": "2b64873a",
   "metadata": {},
   "outputs": [],
   "source": [
    "a = (10 == 10)"
   ]
  },
  {
   "cell_type": "code",
   "execution_count": 15,
   "id": "f97dc507",
   "metadata": {},
   "outputs": [
    {
     "name": "stdout",
     "output_type": "stream",
     "text": [
      "True\n"
     ]
    }
   ],
   "source": [
    "print(a)"
   ]
  },
  {
   "cell_type": "raw",
   "id": "33d46d83",
   "metadata": {},
   "source": [
    "Q7. Identify the three blocks in this code:\n",
    "spam = 0\n",
    "if spam == 10:\n",
    "print('eggs')\n",
    "if spam > 5:\n",
    "print('bacon')\n",
    "else:\n",
    "print('ham')\n",
    "print('spam')\n",
    "print('spam')"
   ]
  },
  {
   "cell_type": "code",
   "execution_count": 16,
   "id": "c1908d15",
   "metadata": {},
   "outputs": [],
   "source": [
    "spam = 0"
   ]
  },
  {
   "cell_type": "code",
   "execution_count": 17,
   "id": "b4440dc2",
   "metadata": {},
   "outputs": [
    {
     "name": "stdout",
     "output_type": "stream",
     "text": [
      "0\n"
     ]
    }
   ],
   "source": [
    "print(spam)"
   ]
  },
  {
   "cell_type": "raw",
   "id": "97cea9ff",
   "metadata": {},
   "source": [
    "This block assigns the value 0 to the variable spam."
   ]
  },
  {
   "cell_type": "code",
   "execution_count": 18,
   "id": "7778ee06",
   "metadata": {},
   "outputs": [
    {
     "name": "stdout",
     "output_type": "stream",
     "text": [
      "eggs\n",
      "bacon\n"
     ]
    }
   ],
   "source": [
    "spam = 10\n",
    "if spam == 10:\n",
    "    print('eggs')\n",
    "if spam > 5:\n",
    "    print('bacon')\n",
    "else:\n",
    "    print('ham')"
   ]
  },
  {
   "cell_type": "code",
   "execution_count": 19,
   "id": "54175b22",
   "metadata": {},
   "outputs": [
    {
     "name": "stdout",
     "output_type": "stream",
     "text": [
      "spam\n",
      "spam\n"
     ]
    }
   ],
   "source": [
    "print('spam')\n",
    "print('spam')"
   ]
  },
  {
   "cell_type": "raw",
   "id": "f3140b4f",
   "metadata": {},
   "source": [
    "Q8. Write code that prints Hello if 1 is stored in spam, prints Howdy if 2 is stored in spam, and prints Greetings! if anything else is stored in spam."
   ]
  },
  {
   "cell_type": "code",
   "execution_count": 23,
   "id": "938a4cb7",
   "metadata": {},
   "outputs": [
    {
     "name": "stdout",
     "output_type": "stream",
     "text": [
      "Hello\n"
     ]
    }
   ],
   "source": [
    "spam = 1\n",
    "if spam == 1:\n",
    "    print('Hello')"
   ]
  },
  {
   "cell_type": "code",
   "execution_count": 25,
   "id": "aebf1821",
   "metadata": {},
   "outputs": [
    {
     "name": "stdout",
     "output_type": "stream",
     "text": [
      "Howdy\n"
     ]
    }
   ],
   "source": [
    "spam = 2\n",
    "if spam == 2:\n",
    "    print('Howdy')"
   ]
  },
  {
   "cell_type": "code",
   "execution_count": 29,
   "id": "b6ba7c50",
   "metadata": {},
   "outputs": [
    {
     "name": "stdout",
     "output_type": "stream",
     "text": [
      "Greetings!\n"
     ]
    }
   ],
   "source": [
    "spam = 1\n",
    "if spam == 1:\n",
    "    print('Greetings!')"
   ]
  },
  {
   "cell_type": "raw",
   "id": "8865b402",
   "metadata": {},
   "source": [
    "Q9.If your programme is stuck in an endless loop, what keys you’ll press?"
   ]
  },
  {
   "cell_type": "raw",
   "id": "dd3559f2",
   "metadata": {},
   "source": [
    "By simultaneously pressing the \"Ctrl\" and \"C\" keys on your keyboard, you can try to stop your programme from running if it is stuck in an endless loop. One of the diadvantage of this process is  "
   ]
  },
  {
   "cell_type": "raw",
   "id": "50216017",
   "metadata": {},
   "source": [
    "Q10. How can you tell the difference between break and continue?"
   ]
  },
  {
   "cell_type": "raw",
   "id": "a1a88e22",
   "metadata": {},
   "source": [
    "In programming, \"break\" and \"continue\" are used to control the flow of a loop, such as a \"for\" or \"while\" loop. \"Break\" is used to immediately terminate a loop and continue executing the code after the loop. It is typically used when a certain condition is met and the loop no longer needs to continue. When the word \"break\" occurs, the loop is ended, and the statement that follows the loop is executed next."
   ]
  },
  {
   "cell_type": "code",
   "execution_count": 1,
   "id": "765eff5b",
   "metadata": {},
   "outputs": [
    {
     "name": "stdout",
     "output_type": "stream",
     "text": [
      "1\n",
      "2\n",
      "3\n",
      "4\n"
     ]
    }
   ],
   "source": [
    "for i in range(1, 10):\n",
    "    if i == 5:\n",
    "        break\n",
    "    print(i)"
   ]
  },
  {
   "cell_type": "raw",
   "id": "d838e16d",
   "metadata": {},
   "source": [
    "On the other hand, \"continue\" is used to skip the rest of the current iteration of a loop and move on to the next iteration. It is typically used when you want to skip certain iterations of the loop based on a certain condition, but still want to continue the loop."
   ]
  },
  {
   "cell_type": "code",
   "execution_count": 2,
   "id": "fb7392a2",
   "metadata": {},
   "outputs": [
    {
     "name": "stdout",
     "output_type": "stream",
     "text": [
      "1\n",
      "2\n",
      "3\n",
      "4\n",
      "6\n",
      "7\n",
      "8\n",
      "9\n"
     ]
    }
   ],
   "source": [
    "for i in range(1, 10):\n",
    "    if i == 5:\n",
    "        continue\n",
    "    print(i)"
   ]
  },
  {
   "cell_type": "raw",
   "id": "d9eeac26",
   "metadata": {},
   "source": [
    "Q11. In a for loop, what is the difference between range(10), range(0, 10), and range(0, 10, 1)?"
   ]
  },
  {
   "cell_type": "raw",
   "id": "87780dbb",
   "metadata": {},
   "source": [
    "Main difference between range(10), range(0, 10), and range(0, 10, 1) is the syntax used to specify the range otherwise all generate the same sequence of numbers, which is a sequence of integers from 0 to 9 (not including 10). "
   ]
  },
  {
   "cell_type": "code",
   "execution_count": 1,
   "id": "3231cbf3",
   "metadata": {},
   "outputs": [
    {
     "name": "stdout",
     "output_type": "stream",
     "text": [
      "0\n",
      "1\n",
      "2\n",
      "3\n",
      "4\n",
      "5\n",
      "6\n",
      "7\n",
      "8\n",
      "9\n"
     ]
    }
   ],
   "source": [
    "for i in range(10):\n",
    "    print(i)"
   ]
  },
  {
   "cell_type": "code",
   "execution_count": 2,
   "id": "00b7f030",
   "metadata": {},
   "outputs": [
    {
     "name": "stdout",
     "output_type": "stream",
     "text": [
      "0\n",
      "1\n",
      "2\n",
      "3\n",
      "4\n",
      "5\n",
      "6\n",
      "7\n",
      "8\n",
      "9\n"
     ]
    }
   ],
   "source": [
    "for i in range(0, 10):\n",
    "    print(i)"
   ]
  },
  {
   "cell_type": "code",
   "execution_count": 3,
   "id": "7b210920",
   "metadata": {},
   "outputs": [
    {
     "name": "stdout",
     "output_type": "stream",
     "text": [
      "0\n",
      "1\n",
      "2\n",
      "3\n",
      "4\n",
      "5\n",
      "6\n",
      "7\n",
      "8\n",
      "9\n"
     ]
    }
   ],
   "source": [
    "for i in range(0, 10, 1):\n",
    "    print(i)"
   ]
  },
  {
   "cell_type": "raw",
   "id": "affa0712",
   "metadata": {},
   "source": [
    "Q12. Write a short program that prints the numbers 1 to 10 using a for loop. Then write an equivalent program that prints the numbers 1 to 10 using a while loop."
   ]
  },
  {
   "cell_type": "raw",
   "id": "b980085c",
   "metadata": {},
   "source": [
    "For loop example:"
   ]
  },
  {
   "cell_type": "code",
   "execution_count": 4,
   "id": "deb752dc",
   "metadata": {},
   "outputs": [
    {
     "name": "stdout",
     "output_type": "stream",
     "text": [
      "1\n",
      "2\n",
      "3\n",
      "4\n",
      "5\n",
      "6\n",
      "7\n",
      "8\n",
      "9\n",
      "10\n"
     ]
    }
   ],
   "source": [
    "for i in range(1, 11):\n",
    "    print(i)"
   ]
  },
  {
   "cell_type": "raw",
   "id": "2406df65",
   "metadata": {},
   "source": [
    "While loop example:"
   ]
  },
  {
   "cell_type": "code",
   "execution_count": 5,
   "id": "679328c4",
   "metadata": {},
   "outputs": [
    {
     "name": "stdout",
     "output_type": "stream",
     "text": [
      "1\n",
      "2\n",
      "3\n",
      "4\n",
      "5\n",
      "6\n",
      "7\n",
      "8\n",
      "9\n",
      "10\n"
     ]
    }
   ],
   "source": [
    "i = 1\n",
    "while i <= 10:\n",
    "    print(i)\n",
    "    i += 1"
   ]
  },
  {
   "cell_type": "raw",
   "id": "c971742a",
   "metadata": {},
   "source": [
    "Q13. If you had a function named bacon() inside a module named spam, how would you call it after importing spam?"
   ]
  },
  {
   "cell_type": "code",
   "execution_count": 6,
   "id": "1242b131",
   "metadata": {},
   "outputs": [
    {
     "ename": "ModuleNotFoundError",
     "evalue": "No module named 'spam'",
     "output_type": "error",
     "traceback": [
      "\u001b[1;31m---------------------------------------------------------------------------\u001b[0m",
      "\u001b[1;31mModuleNotFoundError\u001b[0m                       Traceback (most recent call last)",
      "\u001b[1;32m~\\AppData\\Local\\Temp\\ipykernel_12676\\1417680277.py\u001b[0m in \u001b[0;36m<module>\u001b[1;34m\u001b[0m\n\u001b[1;32m----> 1\u001b[1;33m \u001b[1;32mimport\u001b[0m \u001b[0mspam\u001b[0m\u001b[1;33m\u001b[0m\u001b[1;33m\u001b[0m\u001b[0m\n\u001b[0m\u001b[0;32m      2\u001b[0m \u001b[0mspam\u001b[0m\u001b[1;33m.\u001b[0m\u001b[0mbacon\u001b[0m\u001b[1;33m(\u001b[0m\u001b[1;33m)\u001b[0m\u001b[1;33m\u001b[0m\u001b[1;33m\u001b[0m\u001b[0m\n",
      "\u001b[1;31mModuleNotFoundError\u001b[0m: No module named 'spam'"
     ]
    }
   ],
   "source": [
    "import spam\n",
    "spam.bacon()"
   ]
  },
  {
   "cell_type": "code",
   "execution_count": 4,
   "id": "66d5c1e1",
   "metadata": {},
   "outputs": [],
   "source": [
    "def bacon():\n",
    "    print(\"Hi from Bacon\")"
   ]
  },
  {
   "cell_type": "code",
   "execution_count": 5,
   "id": "9e78dfad",
   "metadata": {},
   "outputs": [
    {
     "ename": "ModuleNotFoundError",
     "evalue": "No module named 'spam'",
     "output_type": "error",
     "traceback": [
      "\u001b[1;31m---------------------------------------------------------------------------\u001b[0m",
      "\u001b[1;31mModuleNotFoundError\u001b[0m                       Traceback (most recent call last)",
      "\u001b[1;32m~\\AppData\\Local\\Temp\\ipykernel_14772\\1417680277.py\u001b[0m in \u001b[0;36m<module>\u001b[1;34m\u001b[0m\n\u001b[1;32m----> 1\u001b[1;33m \u001b[1;32mimport\u001b[0m \u001b[0mspam\u001b[0m\u001b[1;33m\u001b[0m\u001b[1;33m\u001b[0m\u001b[0m\n\u001b[0m\u001b[0;32m      2\u001b[0m \u001b[0mspam\u001b[0m\u001b[1;33m.\u001b[0m\u001b[0mbacon\u001b[0m\u001b[1;33m(\u001b[0m\u001b[1;33m)\u001b[0m\u001b[1;33m\u001b[0m\u001b[1;33m\u001b[0m\u001b[0m\n",
      "\u001b[1;31mModuleNotFoundError\u001b[0m: No module named 'spam'"
     ]
    }
   ],
   "source": [
    "import spam\n",
    "spam.bacon()"
   ]
  },
  {
   "cell_type": "code",
   "execution_count": null,
   "id": "2c7b5a78",
   "metadata": {},
   "outputs": [],
   "source": []
  }
 ],
 "metadata": {
  "kernelspec": {
   "display_name": "Python 3 (ipykernel)",
   "language": "python",
   "name": "python3"
  },
  "language_info": {
   "codemirror_mode": {
    "name": "ipython",
    "version": 3
   },
   "file_extension": ".py",
   "mimetype": "text/x-python",
   "name": "python",
   "nbconvert_exporter": "python",
   "pygments_lexer": "ipython3",
   "version": "3.9.13"
  }
 },
 "nbformat": 4,
 "nbformat_minor": 5
}
