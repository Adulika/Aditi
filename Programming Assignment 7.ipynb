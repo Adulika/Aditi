{
 "cells": [
  {
   "cell_type": "raw",
   "id": "f72d8d78",
   "metadata": {},
   "source": [
    "1.\tWrite a Python Program to find sum of array?"
   ]
  },
  {
   "cell_type": "code",
   "execution_count": 1,
   "id": "066ff168",
   "metadata": {},
   "outputs": [
    {
     "name": "stdout",
     "output_type": "stream",
     "text": [
      "Sum of the array: 15\n"
     ]
    }
   ],
   "source": [
    "def array_sum(arr):\n",
    "    sum_array = 0\n",
    "    for i in arr:\n",
    "        sum_array += i\n",
    "        \n",
    "    return sum_array\n",
    "\n",
    "my_array = [1, 2, 3, 4, 5]\n",
    "\n",
    "result = array_sum(my_array)\n",
    "print(\"Sum of the array:\", result)"
   ]
  },
  {
   "cell_type": "raw",
   "id": "c10e958f",
   "metadata": {},
   "source": [
    "2.\tWrite a Python Program to find largest element in an array?"
   ]
  },
  {
   "cell_type": "code",
   "execution_count": 2,
   "id": "e0296964",
   "metadata": {},
   "outputs": [
    {
     "name": "stdout",
     "output_type": "stream",
     "text": [
      "The largest element in the array is: 99\n"
     ]
    }
   ],
   "source": [
    "def find_largest(arr):\n",
    "    if len(arr) == 0:\n",
    "        return \"Array is empty\"\n",
    "    max_element = arr[0]\n",
    "\n",
    "    for num in arr:\n",
    "        if num > max_element:\n",
    "            max_element = num\n",
    "\n",
    "    return max_element\n",
    "\n",
    "my_array = [12, 45, 78, 34, 99, 23, 56]\n",
    "\n",
    "largest = find_largest(my_array)\n",
    "print(\"The largest element in the array is:\", largest)"
   ]
  },
  {
   "cell_type": "raw",
   "id": "4bb59c8b",
   "metadata": {},
   "source": [
    "3.\tWrite a Python Program for array rotation?"
   ]
  },
  {
   "cell_type": "code",
   "execution_count": 4,
   "id": "9a4fd363",
   "metadata": {},
   "outputs": [
    {
     "name": "stdout",
     "output_type": "stream",
     "text": [
      "The largest element in the array is: 98\n"
     ]
    }
   ],
   "source": [
    "def find_largest(arr):\n",
    "    if len(arr) == 0:\n",
    "        return \"Array is empty\"\n",
    "\n",
    "    max_element = arr[0]\n",
    "    for num in arr:\n",
    "        if num > max_element:\n",
    "            max_element = num\n",
    "\n",
    "    return max_element\n",
    "\n",
    "my_array = [14, 65, 98, 54, 89, 63, 76]\n",
    "largest = find_largest(my_array)\n",
    "print(\"The largest element in the array is:\", largest)"
   ]
  },
  {
   "cell_type": "raw",
   "id": "5cea6c80",
   "metadata": {},
   "source": [
    "4.\tWrite a Python Program to Split the array and add the first part to the end?"
   ]
  },
  {
   "cell_type": "code",
   "execution_count": 6,
   "id": "627ea909",
   "metadata": {},
   "outputs": [
    {
     "name": "stdout",
     "output_type": "stream",
     "text": [
      "Original array: [7, 2, 9, 4, 5, 6]\n",
      "Array after splitting at index 2 and adding the first part to the end: [9, 4, 5, 6, 7, 2]\n"
     ]
    }
   ],
   "source": [
    "def split_and_add(arr, split_index):\n",
    "    if split_index > len(arr):\n",
    "        return \"Split index exceeds array length\"\n",
    "\n",
    "    first_part = arr[:split_index]\n",
    "    second_part = arr[split_index:]\n",
    "\n",
    "    rotated_array = second_part + first_part\n",
    "\n",
    "    return rotated_array\n",
    "\n",
    "my_array = [7, 2, 9, 4, 5, 6]\n",
    "split_index = 2\n",
    "result = split_and_add(my_array, split_index)\n",
    "print(f\"Original array: {my_array}\")\n",
    "print(f\"Array after splitting at index {split_index} and adding the first part to the end: {result}\")"
   ]
  },
  {
   "cell_type": "raw",
   "id": "0f5e3683",
   "metadata": {},
   "source": [
    "5.\tWrite a Python Program to check if given array is Monotonic?"
   ]
  },
  {
   "cell_type": "code",
   "execution_count": 1,
   "id": "7e64af07",
   "metadata": {},
   "outputs": [
    {
     "name": "stdout",
     "output_type": "stream",
     "text": [
      "True\n",
      "True\n",
      "False\n"
     ]
    }
   ],
   "source": [
    "def is_monotonic(arr):\n",
    "    increasing = decreasing = True\n",
    "    \n",
    "    for i in range(1, len(arr)):\n",
    "        if arr[i] < arr[i - 1]:\n",
    "            increasing = False\n",
    "        if arr[i] > arr[i - 1]:\n",
    "            decreasing = False\n",
    "    \n",
    "    return increasing or decreasing\n",
    "\n",
    "# Test cases\n",
    "array1 = [1, 2, 3, 4, 5]\n",
    "array2 = [5, 4, 3, 2, 1]\n",
    "array3 = [1, 3, 2, 5, 4]\n",
    "\n",
    "print(is_monotonic(array1)) \n",
    "print(is_monotonic(array2)) \n",
    "print(is_monotonic(array3))"
   ]
  },
  {
   "cell_type": "code",
   "execution_count": null,
   "id": "17929ca7",
   "metadata": {},
   "outputs": [],
   "source": []
  },
  {
   "cell_type": "code",
   "execution_count": null,
   "id": "69f013ba",
   "metadata": {},
   "outputs": [],
   "source": []
  },
  {
   "cell_type": "code",
   "execution_count": null,
   "id": "399b87ca",
   "metadata": {},
   "outputs": [],
   "source": []
  }
 ],
 "metadata": {
  "kernelspec": {
   "display_name": "Python 3 (ipykernel)",
   "language": "python",
   "name": "python3"
  },
  "language_info": {
   "codemirror_mode": {
    "name": "ipython",
    "version": 3
   },
   "file_extension": ".py",
   "mimetype": "text/x-python",
   "name": "python",
   "nbconvert_exporter": "python",
   "pygments_lexer": "ipython3",
   "version": "3.9.13"
  }
 },
 "nbformat": 4,
 "nbformat_minor": 5
}
