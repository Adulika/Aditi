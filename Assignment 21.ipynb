{
 "cells": [
  {
   "cell_type": "markdown",
   "id": "793594b3",
   "metadata": {},
   "source": [
    "1. Add the current date to the text file today.txt as a string."
   ]
  },
  {
   "cell_type": "code",
   "execution_count": 1,
   "id": "2675d338",
   "metadata": {},
   "outputs": [
    {
     "name": "stdout",
     "output_type": "stream",
     "text": [
      "Current date added to 'today.txt'\n"
     ]
    }
   ],
   "source": [
    "from datetime import datetime\n",
    "current_date = datetime.now().strftime('%Y-%m-%d %H:%M:%S')\n",
    "with open('today.txt', 'a') as file:\n",
    "    file.write(current_date + '\\n')\n",
    "\n",
    "print(\"Current date added to 'today.txt'\")"
   ]
  },
  {
   "cell_type": "markdown",
   "id": "65205cd6",
   "metadata": {},
   "source": [
    "2. Read the text file today.txt into the string today_string"
   ]
  },
  {
   "cell_type": "code",
   "execution_count": 2,
   "id": "4f2638bf",
   "metadata": {},
   "outputs": [
    {
     "name": "stdout",
     "output_type": "stream",
     "text": [
      "Contents of 'today.txt':\n",
      "2023-08-13 12:24:48\n",
      "\n"
     ]
    }
   ],
   "source": [
    "with open('today.txt', 'r') as file:\n",
    "    today_string = file.read()\n",
    "\n",
    "print(\"Contents of 'today.txt':\")\n",
    "print(today_string)"
   ]
  },
  {
   "cell_type": "markdown",
   "id": "c1a9cec1",
   "metadata": {},
   "source": [
    "3. Parse the date from today_string."
   ]
  },
  {
   "cell_type": "code",
   "execution_count": 1,
   "id": "98a2b8b8",
   "metadata": {},
   "outputs": [
    {
     "name": "stdout",
     "output_type": "stream",
     "text": [
      "Parsed Date: 2023-08-13 15:30:00\n"
     ]
    }
   ],
   "source": [
    "from datetime import datetime\n",
    "\n",
    "today_string = \"2023-08-13 15:30:00\"\n",
    "parsed_date = datetime.strptime(today_string, '%Y-%m-%d %H:%M:%S')\n",
    "\n",
    "print(\"Parsed Date:\", parsed_date)"
   ]
  },
  {
   "cell_type": "markdown",
   "id": "665fcf26",
   "metadata": {},
   "source": [
    "4. List the files in your current directory"
   ]
  },
  {
   "cell_type": "code",
   "execution_count": 2,
   "id": "ec8daf92",
   "metadata": {},
   "outputs": [
    {
     "name": "stdout",
     "output_type": "stream",
     "text": [
      "Files in the current directory:\n",
      ".ipynb_checkpoints\n",
      ".ipython\n",
      ".jupyter\n",
      ".matplotlib\n",
      "3D Objects\n",
      "anaconda3\n",
      "AppData\n",
      "Application Data\n",
      "Assignment 1.ipynb\n",
      "Assignment 10.ipynb\n",
      "Assignment 11.ipynb\n",
      "Assignment 12.ipynb\n",
      "Assignment 13.ipynb\n",
      "Assignment 14.ipynb\n",
      "Assignment 15.ipynb\n",
      "Assignment 16.ipynb\n",
      "Assignment 17.ipynb\n",
      "Assignment 18.ipynb\n",
      "Assignment 19.ipynb\n",
      "Assignment 2 .ipynb\n",
      "Assignment 20.ipynb\n",
      "Assignment 21.ipynb\n",
      "Assignment 3.ipynb\n",
      "Assignment 4.ipynb\n",
      "Assignment 5.ipynb\n",
      "Assignment 6.ipynb\n",
      "Assignment 7.ipynb\n",
      "Assignment 8.ipynb\n",
      "Assignment 9.ipynb\n",
      "books.csv\n",
      "books.db\n",
      "Contacts\n",
      "Cookies\n",
      "Desktop\n",
      "Documents\n",
      "Downloads\n",
      "drawn_image.jpg\n",
      "example.txt\n",
      "existing_file.txt\n",
      "Favorites\n",
      "Links\n",
      "Local Settings\n",
      "Music\n",
      "My Documents\n",
      "mydata.dat\n",
      "mydata.dir\n",
      "mydatabase.db\n",
      "NetHood\n",
      "NTUSER.DAT\n",
      "ntuser.dat.LOG1\n",
      "ntuser.dat.LOG2\n",
      "NTUSER.DAT{fbc3fbcc-b35b-11ed-b217-a4fc77416cde}.TM.blf\n",
      "NTUSER.DAT{fbc3fbcc-b35b-11ed-b217-a4fc77416cde}.TMContainer00000000000000000001.regtrans-ms\n",
      "NTUSER.DAT{fbc3fbcc-b35b-11ed-b217-a4fc77416cde}.TMContainer00000000000000000002.regtrans-ms\n",
      "ntuser.ini\n",
      "OneDrive\n",
      "output.pdf\n",
      "Pictures\n",
      "PrintHood\n",
      "PycharmProjects\n",
      "Recent\n",
      "Saved Games\n",
      "ScStore\n",
      "Searches\n",
      "SendTo\n",
      "Start Menu\n",
      "Templates\n",
      "test.txt\n",
      "today.txt\n",
      "Untitled.ipynb\n",
      "Untitled1.ipynb\n",
      "Untitled2.ipynb\n",
      "Untitled3.ipynb\n",
      "Untitled4.ipynb\n",
      "Untitled5.ipynb\n",
      "Untitled7.ipynb\n",
      "Videos\n",
      "zoo.py\n",
      "__pycache__\n"
     ]
    }
   ],
   "source": [
    "import os\n",
    "current_directory = os.getcwd()\n",
    "files = os.listdir(current_directory)\n",
    "\n",
    "print(\"Files in the current directory:\")\n",
    "for file in files:\n",
    "    print(file)"
   ]
  },
  {
   "cell_type": "markdown",
   "id": "0e0185ec",
   "metadata": {},
   "source": [
    "5. Create a list of all of the files in your parent directory (minimum five files should be available)."
   ]
  },
  {
   "cell_type": "code",
   "execution_count": 3,
   "id": "b277ed35",
   "metadata": {},
   "outputs": [
    {
     "name": "stdout",
     "output_type": "stream",
     "text": [
      "Files in the parent directory:\n",
      "Admin\n",
      "All Users\n",
      "Default\n",
      "Default User\n",
      "desktop.ini\n",
      "Public\n"
     ]
    }
   ],
   "source": [
    "import os\n",
    "current_directory = os.getcwd()\n",
    "parent_directory = os.path.dirname(current_directory)\n",
    "files_in_parent = os.listdir(parent_directory)\n",
    "\n",
    "print(\"Files in the parent directory:\")\n",
    "for file in files_in_parent:\n",
    "    print(file)"
   ]
  },
  {
   "cell_type": "markdown",
   "id": "9ec258ce",
   "metadata": {},
   "source": [
    "6. Use multiprocessing to create three separate processes. Make each one wait a random number of seconds between one and five, print the current time, and then exit."
   ]
  },
  {
   "cell_type": "code",
   "execution_count": 1,
   "id": "0ccfd612",
   "metadata": {},
   "outputs": [
    {
     "name": "stdout",
     "output_type": "stream",
     "text": [
      "All processes have finished.\n"
     ]
    }
   ],
   "source": [
    "import multiprocessing\n",
    "import time\n",
    "import random\n",
    "import datetime\n",
    "\n",
    "def process_function():\n",
    "    wait_time = random.randint(1, 5)\n",
    "    current_time = datetime.datetime.now()\n",
    "    print(f\"Process started at {current_time}. Waiting for {wait_time} seconds.\")\n",
    "    time.sleep(wait_time)\n",
    "    current_time = datetime.datetime.now()\n",
    "    print(f\"Process finished at {current_time}.\")\n",
    "if __name__ == \"__main__\":\n",
    "    processes = []\n",
    "    for _ in range(3):\n",
    "        process = multiprocessing.Process(target=process_function)\n",
    "        processes.append(process)\n",
    "        process.start()\n",
    "\n",
    "    for process in processes:\n",
    "        process.join()\n",
    "    print(\"All processes have finished.\")"
   ]
  },
  {
   "cell_type": "markdown",
   "id": "930b1c8d",
   "metadata": {},
   "source": [
    "7. Create a date object of your day of birth."
   ]
  },
  {
   "cell_type": "code",
   "execution_count": 3,
   "id": "b5d6db90",
   "metadata": {},
   "outputs": [
    {
     "name": "stdout",
     "output_type": "stream",
     "text": [
      "Birth date: 2001-01-11\n"
     ]
    }
   ],
   "source": [
    "import datetime\n",
    "year = 2001\n",
    "month = 1\n",
    "day = 11\n",
    "birth_date = datetime.date(year, month, day)\n",
    "\n",
    "print(\"Birth date:\", birth_date)"
   ]
  },
  {
   "cell_type": "markdown",
   "id": "03ee94ba",
   "metadata": {},
   "source": [
    "8. What day of the week was your day of birth?"
   ]
  },
  {
   "cell_type": "code",
   "execution_count": 1,
   "id": "cebae359",
   "metadata": {},
   "outputs": [
    {
     "name": "stdout",
     "output_type": "stream",
     "text": [
      "The day of the week for 2001-1-11 is Thursday.\n"
     ]
    }
   ],
   "source": [
    "import datetime\n",
    "\n",
    "# Replace these values with the desired date\n",
    "year = 2001\n",
    "month = 1\n",
    "day = 11\n",
    "day_of_week = datetime.date(year, month, day).weekday()\n",
    "days_of_week = [\"Monday\", \"Tuesday\", \"Wednesday\", \"Thursday\", \"Friday\", \"Saturday\", \"Sunday\"]\n",
    "print(f\"The day of the week for {year}-{month}-{day} is {days_of_week[day_of_week]}.\")"
   ]
  },
  {
   "cell_type": "markdown",
   "id": "8afac8aa",
   "metadata": {},
   "source": [
    "9. When will you be (or when were you) 10,000 days old?"
   ]
  },
  {
   "cell_type": "code",
   "execution_count": 2,
   "id": "11e4ac55",
   "metadata": {},
   "outputs": [
    {
     "name": "stdout",
     "output_type": "stream",
     "text": [
      "When I am (or was) 10,000 days old, the date will be (or was): 2051-01-07\n"
     ]
    }
   ],
   "source": [
    "import datetime\n",
    "days_to_add = 10000\n",
    "current_date = datetime.date.today()\n",
    "new_date = current_date + datetime.timedelta(days=days_to_add)\n",
    "print(f\"When I am (or was) 10,000 days old, the date will be (or was): {new_date}\")"
   ]
  },
  {
   "cell_type": "code",
   "execution_count": null,
   "id": "2a127693",
   "metadata": {},
   "outputs": [],
   "source": []
  },
  {
   "cell_type": "code",
   "execution_count": null,
   "id": "c63049e6",
   "metadata": {},
   "outputs": [],
   "source": []
  },
  {
   "cell_type": "code",
   "execution_count": null,
   "id": "7c7219fa",
   "metadata": {},
   "outputs": [],
   "source": []
  }
 ],
 "metadata": {
  "kernelspec": {
   "display_name": "Python 3 (ipykernel)",
   "language": "python",
   "name": "python3"
  },
  "language_info": {
   "codemirror_mode": {
    "name": "ipython",
    "version": 3
   },
   "file_extension": ".py",
   "mimetype": "text/x-python",
   "name": "python",
   "nbconvert_exporter": "python",
   "pygments_lexer": "ipython3",
   "version": "3.9.13"
  }
 },
 "nbformat": 4,
 "nbformat_minor": 5
}
