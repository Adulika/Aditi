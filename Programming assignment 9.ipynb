{
 "cells": [
  {
   "cell_type": "raw",
   "id": "b0c96ab2",
   "metadata": {},
   "source": [
    "1.\tWrite a Python program to check if the given number is a Disarium Number?"
   ]
  },
  {
   "cell_type": "code",
   "execution_count": 1,
   "id": "6a250771",
   "metadata": {},
   "outputs": [],
   "source": [
    "def is_disarium_number(num):\n",
    "    num_str = str(num)\n",
    "    length = len(num_str)\n",
    "    sum_digits = 0\n",
    "    \n",
    "    for i in range(length):\n",
    "        sum_digits += int(num_str[i]) ** (i + 1)\n",
    "    \n",
    "    return sum_digits == num"
   ]
  },
  {
   "cell_type": "code",
   "execution_count": 5,
   "id": "92e32d7d",
   "metadata": {},
   "outputs": [
    {
     "name": "stdout",
     "output_type": "stream",
     "text": [
      "Enter a number to check if it's a Disarium number: 68\n",
      "68 is not a Disarium number\n"
     ]
    }
   ],
   "source": [
    "number = int(input(\"Enter a number to check if it's a Disarium number: \"))\n",
    "if is_disarium_number(number):\n",
    "    print(f\"{number} is a Disarium number\")\n",
    "else:\n",
    "    print(f\"{number} is not a Disarium number\")"
   ]
  },
  {
   "cell_type": "raw",
   "id": "3b94d24e",
   "metadata": {},
   "source": [
    "2.\tWrite a Python program to print all disarium numbers between 1 to 100?"
   ]
  },
  {
   "cell_type": "code",
   "execution_count": 6,
   "id": "fa3a55b7",
   "metadata": {},
   "outputs": [
    {
     "name": "stdout",
     "output_type": "stream",
     "text": [
      "Disarium numbers between 1 and 100:\n",
      "1\n",
      "2\n",
      "3\n",
      "4\n",
      "5\n",
      "6\n",
      "7\n",
      "8\n",
      "9\n",
      "89\n"
     ]
    }
   ],
   "source": [
    "def is_disarium_number(num):\n",
    "    num_str = str(num)\n",
    "    length = len(num_str)\n",
    "    sum_digits = 0\n",
    "    \n",
    "    for i in range(length):\n",
    "        sum_digits += int(num_str[i]) ** (i + 1)\n",
    "    \n",
    "    return sum_digits == num\n",
    "\n",
    "print(\"Disarium numbers between 1 and 100:\")\n",
    "for i in range(1, 101):\n",
    "    if is_disarium_number(i):\n",
    "        print(i)"
   ]
  },
  {
   "cell_type": "raw",
   "id": "976d4498",
   "metadata": {},
   "source": [
    "3.\tWrite a Python program to check if the given number is Happy Number?"
   ]
  },
  {
   "cell_type": "code",
   "execution_count": 5,
   "id": "5c16d47d",
   "metadata": {},
   "outputs": [
    {
     "name": "stdout",
     "output_type": "stream",
     "text": [
      "Enter a number to check if it's a Happy Number: 70\n",
      "70 is a Happy Number\n"
     ]
    }
   ],
   "source": [
    "def is_happy_number(num):\n",
    "    seen = set()\n",
    "    while num != 1 and num not in seen:\n",
    "        seen.add(num)\n",
    "        num = sum(int(digit) ** 2 for digit in str(num))\n",
    "    return num == 1\n",
    "number = int(input(\"Enter a number to check if it's a Happy Number: \"))\n",
    "if is_happy_number(number):\n",
    "    print(f\"{number} is a Happy Number\")\n",
    "else:\n",
    "    print(f\"{number} is not a Happy Number\")"
   ]
  },
  {
   "cell_type": "raw",
   "id": "cdf31c92",
   "metadata": {},
   "source": [
    "4.\tWrite a Python program to print all happy numbers between 1 and 100?"
   ]
  },
  {
   "cell_type": "code",
   "execution_count": 6,
   "id": "93e7ffd6",
   "metadata": {},
   "outputs": [
    {
     "name": "stdout",
     "output_type": "stream",
     "text": [
      "Happy numbers between 1 and 100:\n",
      "1\n",
      "7\n",
      "10\n",
      "13\n",
      "19\n",
      "23\n",
      "28\n",
      "31\n",
      "32\n",
      "44\n",
      "49\n",
      "68\n",
      "70\n",
      "79\n",
      "82\n",
      "86\n",
      "91\n",
      "94\n",
      "97\n",
      "100\n"
     ]
    }
   ],
   "source": [
    "def is_happy_number(num):\n",
    "    seen = set()\n",
    "    while num != 1 and num not in seen:\n",
    "        seen.add(num)\n",
    "        num = sum(int(digit) ** 2 for digit in str(num))\n",
    "    return num == 1\n",
    "\n",
    "print(\"Happy numbers between 1 and 100:\")\n",
    "for i in range(1, 101):\n",
    "    if is_happy_number(i):\n",
    "        print(i)"
   ]
  },
  {
   "cell_type": "raw",
   "id": "a9b5f3a4",
   "metadata": {},
   "source": [
    "5.\tWrite a Python program to determine whether the given number is a Harshad Number?"
   ]
  },
  {
   "cell_type": "code",
   "execution_count": 8,
   "id": "c5e90b11",
   "metadata": {},
   "outputs": [
    {
     "name": "stdout",
     "output_type": "stream",
     "text": [
      "Enter a number to check if it's a Harshad Number: 36\n",
      "36 is a Harshad Number\n"
     ]
    }
   ],
   "source": [
    "def is_harshad_number(num):\n",
    "    sum_digits = sum(int(digit) for digit in str(num))\n",
    "    return num % sum_digits == 0\n",
    "number = int(input(\"Enter a number to check if it's a Harshad Number: \"))\n",
    "if is_harshad_number(number):\n",
    "    print(f\"{number} is a Harshad Number\")\n",
    "else:\n",
    "    print(f\"{number} is not a Harshad Number\")"
   ]
  },
  {
   "cell_type": "raw",
   "id": "5b93116e",
   "metadata": {},
   "source": [
    "6.\tWrite a Python program to print all pronic numbers between 1 and 100?"
   ]
  },
  {
   "cell_type": "code",
   "execution_count": 9,
   "id": "f7c0adc7",
   "metadata": {},
   "outputs": [
    {
     "name": "stdout",
     "output_type": "stream",
     "text": [
      "Pronic numbers between 1 and 100:\n",
      "2\n",
      "6\n",
      "12\n",
      "20\n",
      "30\n",
      "42\n",
      "56\n",
      "72\n",
      "90\n"
     ]
    }
   ],
   "source": [
    "def is_pronic_number(num):\n",
    "    for i in range(num):\n",
    "        if i * (i + 1) == num:\n",
    "            return True\n",
    "    return False\n",
    "print(\"Pronic numbers between 1 and 100:\")\n",
    "for i in range(1, 101):\n",
    "    if is_pronic_number(i):\n",
    "        print(i)"
   ]
  },
  {
   "cell_type": "code",
   "execution_count": null,
   "id": "e9c0a5b0",
   "metadata": {},
   "outputs": [],
   "source": []
  },
  {
   "cell_type": "code",
   "execution_count": null,
   "id": "b531be68",
   "metadata": {},
   "outputs": [],
   "source": []
  },
  {
   "cell_type": "code",
   "execution_count": null,
   "id": "ee67a253",
   "metadata": {},
   "outputs": [],
   "source": []
  },
  {
   "cell_type": "code",
   "execution_count": null,
   "id": "a207ab8a",
   "metadata": {},
   "outputs": [],
   "source": []
  },
  {
   "cell_type": "code",
   "execution_count": null,
   "id": "2bafb33d",
   "metadata": {},
   "outputs": [],
   "source": []
  },
  {
   "cell_type": "code",
   "execution_count": null,
   "id": "db3b7e7e",
   "metadata": {},
   "outputs": [],
   "source": []
  }
 ],
 "metadata": {
  "kernelspec": {
   "display_name": "Python 3 (ipykernel)",
   "language": "python",
   "name": "python3"
  },
  "language_info": {
   "codemirror_mode": {
    "name": "ipython",
    "version": 3
   },
   "file_extension": ".py",
   "mimetype": "text/x-python",
   "name": "python",
   "nbconvert_exporter": "python",
   "pygments_lexer": "ipython3",
   "version": "3.9.13"
  }
 },
 "nbformat": 4,
 "nbformat_minor": 5
}
