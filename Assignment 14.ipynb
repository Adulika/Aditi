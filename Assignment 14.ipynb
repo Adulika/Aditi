{
 "cells": [
  {
   "cell_type": "raw",
   "id": "10ab32e3",
   "metadata": {},
   "source": [
    "1. What does RGBA stand for?"
   ]
  },
  {
   "cell_type": "code",
   "execution_count": 3,
   "id": "f850d450",
   "metadata": {},
   "outputs": [
    {
     "name": "stdout",
     "output_type": "stream",
     "text": [
      "pygame 2.5.0 (SDL 2.28.0, Python 3.9.13)\n",
      "Hello from the pygame community. https://www.pygame.org/contribute.html\n",
      "(0, 0, 255, 128)\n"
     ]
    }
   ],
   "source": [
    "import pygame\n",
    "\n",
    "color = (0, 0, 255, 128)\n",
    "print(color)"
   ]
  },
  {
   "cell_type": "code",
   "execution_count": 2,
   "id": "a64f85c7",
   "metadata": {},
   "outputs": [
    {
     "name": "stdout",
     "output_type": "stream",
     "text": [
      "Collecting pygame\n",
      "  Downloading pygame-2.5.0-cp39-cp39-win_amd64.whl (10.5 MB)\n",
      "     ---------------------------------------- 10.5/10.5 MB 6.6 MB/s eta 0:00:00\n",
      "Installing collected packages: pygame\n",
      "Successfully installed pygame-2.5.0\n",
      "Note: you may need to restart the kernel to use updated packages.\n"
     ]
    }
   ],
   "source": [
    "pip install pygame"
   ]
  },
  {
   "cell_type": "raw",
   "id": "f051ba70",
   "metadata": {},
   "source": [
    "2. From the Pillow module, how do you get the RGBA value of any images?"
   ]
  },
  {
   "cell_type": "code",
   "execution_count": 1,
   "id": "2c11f158",
   "metadata": {},
   "outputs": [
    {
     "name": "stdout",
     "output_type": "stream",
     "text": [
      "Requirement already satisfied: pillow in c:\\users\\admin\\anaconda3\\lib\\site-packages (9.2.0)\n",
      "Note: you may need to restart the kernel to use updated packages.\n"
     ]
    }
   ],
   "source": [
    "pip install pillow"
   ]
  },
  {
   "cell_type": "code",
   "execution_count": 6,
   "id": "877f79d7",
   "metadata": {},
   "outputs": [],
   "source": [
    "from PIL import Image\n",
    "image = Image.open(r\"C:\\Users\\Admin\\Desktop\\Bday Photos\\Image 1 png.png\")"
   ]
  },
  {
   "cell_type": "code",
   "execution_count": 7,
   "id": "d4a2a5d2",
   "metadata": {},
   "outputs": [
    {
     "name": "stdout",
     "output_type": "stream",
     "text": [
      "(197, 172, 191, 255)\n"
     ]
    }
   ],
   "source": [
    "image = image.convert(\"RGBA\")\n",
    "\n",
    "x = 100\n",
    "y = 200\n",
    "rgba_value = image.getpixel((x, y))\n",
    "\n",
    "print(rgba_value)"
   ]
  },
  {
   "cell_type": "raw",
   "id": "d2df05b0",
   "metadata": {},
   "source": [
    "3. What is a box tuple, and how does it work?"
   ]
  },
  {
   "cell_type": "code",
   "execution_count": 1,
   "id": "10805ee2",
   "metadata": {},
   "outputs": [],
   "source": [
    "from PIL import Image\n",
    "image = Image.open(r\"C:\\Users\\Admin\\Desktop\\Images\\7.jpg\")\n",
    "box = (100, 100, 300, 300)\n",
    "cropped_image = image.crop(box)\n",
    "\n",
    "cropped_image.show()\n",
    "cropped_image.save(r\"C:\\Users\\Admin\\Desktop\\Images\\7.jpg\")"
   ]
  },
  {
   "cell_type": "raw",
   "id": "3212ce78",
   "metadata": {},
   "source": [
    "4. Use your image and load in notebook then, How can you find out the width and height of an Image object?"
   ]
  },
  {
   "cell_type": "code",
   "execution_count": 4,
   "id": "c7d2f0c3",
   "metadata": {},
   "outputs": [
    {
     "name": "stdout",
     "output_type": "stream",
     "text": [
      "Width: 532\n",
      "Height: 1152\n"
     ]
    }
   ],
   "source": [
    "from PIL import Image\n",
    "\n",
    "image_path = (r\"C:\\Users\\Admin\\Desktop\\Images\\7.jpg\")\n",
    "image = Image.open(image_path)\n",
    "\n",
    "width, height = image.size\n",
    "print(\"Width:\", width)\n",
    "print(\"Height:\", height)"
   ]
  },
  {
   "cell_type": "raw",
   "id": "bb57c78f",
   "metadata": {},
   "source": [
    "5. What method would you call to get Image object for a 100×100 image, excluding the lower-left quarter of it?"
   ]
  },
  {
   "cell_type": "code",
   "execution_count": 4,
   "id": "524b68e9",
   "metadata": {},
   "outputs": [],
   "source": [
    "from PIL import Image\n",
    "\n",
    "image = Image.open(r\"C:\\Users\\Admin\\Desktop\\Bday Photos\\11.jpg\")\n",
    "\n",
    "cropped_image = image.crop((0, 50, 50, 100))\n",
    "\n",
    "cropped_image.show()"
   ]
  },
  {
   "cell_type": "raw",
   "id": "a8376f50",
   "metadata": {},
   "source": [
    "6. After making changes to an Image object, how could you save it as an image file?"
   ]
  },
  {
   "cell_type": "code",
   "execution_count": 7,
   "id": "d24bf849",
   "metadata": {},
   "outputs": [],
   "source": [
    "from PIL import Image\n",
    "image = Image.open(r\"C:\\Users\\Admin\\Desktop\\Bday Photos\\11.jpg\")\n",
    "\n",
    "image.save(r\"C:\\Users\\Admin\\Desktop\\Bday Photos\\modified image .jpg\")"
   ]
  },
  {
   "cell_type": "raw",
   "id": "8a9eac60",
   "metadata": {},
   "source": [
    "7. What module contains Pillow’s shape-drawing code?"
   ]
  },
  {
   "cell_type": "code",
   "execution_count": 13,
   "id": "9ed7cb0e",
   "metadata": {},
   "outputs": [],
   "source": [
    "from PIL import Image, ImageDraw\n",
    "\n",
    "image = Image.new(\"RGB\", (500, 500), \"white\")\n",
    "draw = ImageDraw.Draw(image)\n",
    "draw.rectangle((100, 100, 400, 400), outline=\"red\")\n",
    "image.save(\"drawn_image.jpg\")\n",
    "image.show()"
   ]
  },
  {
   "cell_type": "raw",
   "id": "18ad25f2",
   "metadata": {},
   "source": [
    "8. Image objects do not have drawing methods. What kind of object does? How do you get this kind of object?"
   ]
  },
  {
   "cell_type": "code",
   "execution_count": 1,
   "id": "7b93d627",
   "metadata": {},
   "outputs": [],
   "source": [
    "from PIL import Image, ImageDraw\n",
    "\n",
    "image = Image.open(r\"C:\\Users\\Admin\\Desktop\\Bday Photos\\37.jpg\")\n",
    "draw = ImageDraw.Draw(image)\n",
    "\n",
    "draw.rectangle((100, 100, 400, 400), outline=\"red\")\n",
    "\n",
    "image.save(\"drawn_image.jpg\")\n",
    "image.show()"
   ]
  },
  {
   "cell_type": "code",
   "execution_count": null,
   "id": "a17241cb",
   "metadata": {},
   "outputs": [],
   "source": []
  },
  {
   "cell_type": "code",
   "execution_count": null,
   "id": "7f48f210",
   "metadata": {},
   "outputs": [],
   "source": []
  },
  {
   "cell_type": "code",
   "execution_count": null,
   "id": "f01a42b3",
   "metadata": {},
   "outputs": [],
   "source": []
  },
  {
   "cell_type": "code",
   "execution_count": null,
   "id": "cacfff1a",
   "metadata": {},
   "outputs": [],
   "source": []
  },
  {
   "cell_type": "code",
   "execution_count": null,
   "id": "f9e23e3d",
   "metadata": {},
   "outputs": [],
   "source": []
  },
  {
   "cell_type": "code",
   "execution_count": null,
   "id": "2341bb3c",
   "metadata": {},
   "outputs": [],
   "source": []
  }
 ],
 "metadata": {
  "kernelspec": {
   "display_name": "Python 3 (ipykernel)",
   "language": "python",
   "name": "python3"
  },
  "language_info": {
   "codemirror_mode": {
    "name": "ipython",
    "version": 3
   },
   "file_extension": ".py",
   "mimetype": "text/x-python",
   "name": "python",
   "nbconvert_exporter": "python",
   "pygments_lexer": "ipython3",
   "version": "3.9.13"
  }
 },
 "nbformat": 4,
 "nbformat_minor": 5
}
