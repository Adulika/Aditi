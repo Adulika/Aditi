{
 "cells": [
  {
   "cell_type": "raw",
   "id": "c9e6408a",
   "metadata": {},
   "source": [
    "1.\tWrite a Python program to find sum of elements in list?"
   ]
  },
  {
   "cell_type": "code",
   "execution_count": 2,
   "id": "df6109bf",
   "metadata": {},
   "outputs": [
    {
     "name": "stdout",
     "output_type": "stream",
     "text": [
      "The sum of elements in the list is: 81\n"
     ]
    }
   ],
   "source": [
    "def find_sum_of_elements(input_list):\n",
    "    return sum(input_list)\n",
    "\n",
    "my_list = [11, 12, 13, 14, 15, 16]\n",
    "\n",
    "result = find_sum_of_elements(my_list)\n",
    "print(f\"The sum of elements in the list is: {result}\")"
   ]
  },
  {
   "cell_type": "raw",
   "id": "375d97d1",
   "metadata": {},
   "source": [
    "2.\tWrite a Python program to Multiply all numbers in the list?"
   ]
  },
  {
   "cell_type": "code",
   "execution_count": 3,
   "id": "62061476",
   "metadata": {},
   "outputs": [
    {
     "name": "stdout",
     "output_type": "stream",
     "text": [
      "The multiplication of numbers in the list is: 120\n"
     ]
    }
   ],
   "source": [
    "def multiply_numbers_in_list(input_list):\n",
    "    result = 1\n",
    "    for num in input_list:\n",
    "        result *= num\n",
    "    return result\n",
    "my_list = [1, 2, 3, 4, 5]\n",
    "result = multiply_numbers_in_list(my_list)\n",
    "print(f\"The multiplication of numbers in the list is: {result}\")"
   ]
  },
  {
   "cell_type": "raw",
   "id": "473df6cd",
   "metadata": {},
   "source": [
    "3.\tWrite a Python program to find smallest number in a list?"
   ]
  },
  {
   "cell_type": "code",
   "execution_count": 5,
   "id": "a93249ed",
   "metadata": {},
   "outputs": [
    {
     "name": "stdout",
     "output_type": "stream",
     "text": [
      "The smallest number in the list is: 2\n"
     ]
    }
   ],
   "source": [
    "def find_smallest_number(input_list):\n",
    "    return min(input_list)\n",
    "\n",
    "my_list = [3, 7, 12, 2, 45]\n",
    "result = find_smallest_number(my_list)\n",
    "print(f\"The smallest number in the list is: {result}\")"
   ]
  },
  {
   "cell_type": "raw",
   "id": "d984f35c",
   "metadata": {},
   "source": [
    "4.\tWrite a Python program to find largest number in a list?"
   ]
  },
  {
   "cell_type": "code",
   "execution_count": 7,
   "id": "514a309f",
   "metadata": {},
   "outputs": [
    {
     "name": "stdout",
     "output_type": "stream",
     "text": [
      "The largest number in the list is: 54\n"
     ]
    }
   ],
   "source": [
    "def find_largest_number(input_list):\n",
    "    return max(input_list)\n",
    "\n",
    "my_list = [54, 3, 9, 17, 7, 2]\n",
    "result = find_largest_number(my_list)\n",
    "print(f\"The largest number in the list is: {result}\")"
   ]
  },
  {
   "cell_type": "raw",
   "id": "217e2758",
   "metadata": {},
   "source": [
    "5.\tWrite a Python program to find second largest number in a list?"
   ]
  },
  {
   "cell_type": "code",
   "execution_count": 8,
   "id": "9fb6b06e",
   "metadata": {},
   "outputs": [
    {
     "name": "stdout",
     "output_type": "stream",
     "text": [
      "The second largest number in the list is: 7\n"
     ]
    }
   ],
   "source": [
    "def find_second_largest(input_list):\n",
    "    unique_sorted_list = sorted(set(input_list), reverse=True)\n",
    "    \n",
    "    if len(unique_sorted_list) >= 2:\n",
    "        return unique_sorted_list[1]\n",
    "    else:\n",
    "        return \"List has fewer than two unique elements\"\n",
    "\n",
    "my_list = [5, 3, 9, 1, 7]\n",
    "result = find_second_largest(my_list)\n",
    "print(f\"The second largest number in the list is: {result}\")"
   ]
  },
  {
   "cell_type": "raw",
   "id": "be248da1",
   "metadata": {},
   "source": [
    "6.\tWrite a Python program to find N largest elements from a list?"
   ]
  },
  {
   "cell_type": "code",
   "execution_count": 9,
   "id": "100de1d8",
   "metadata": {},
   "outputs": [
    {
     "name": "stdout",
     "output_type": "stream",
     "text": [
      "The 3 largest numbers in the list are: [9, 7, 5]\n"
     ]
    }
   ],
   "source": [
    "import heapq\n",
    "\n",
    "def find_n_largest(input_list, n):\n",
    "    return heapq.nlargest(n, input_list)\n",
    "\n",
    "my_list = [5, 3, 9, 1, 7]\n",
    "N = 3\n",
    "result = find_n_largest(my_list, N)\n",
    "print(f\"The {N} largest numbers in the list are: {result}\")"
   ]
  },
  {
   "cell_type": "raw",
   "id": "6529200e",
   "metadata": {},
   "source": [
    "7.\tWrite a Python program to print even numbers in a list?"
   ]
  },
  {
   "cell_type": "code",
   "execution_count": 10,
   "id": "e1a5bbc7",
   "metadata": {},
   "outputs": [
    {
     "name": "stdout",
     "output_type": "stream",
     "text": [
      "Even numbers in the list are: [2, 4, 6, 8, 10]\n"
     ]
    }
   ],
   "source": [
    "def print_even_numbers(input_list):\n",
    "    even_numbers = [num for num in input_list if num % 2 == 0]\n",
    "    print(\"Even numbers in the list are:\", even_numbers)\n",
    "\n",
    "my_list = [1, 2, 3, 4, 5, 6, 7, 8, 9, 10]\n",
    "print_even_numbers(my_list)"
   ]
  },
  {
   "cell_type": "raw",
   "id": "601fb802",
   "metadata": {},
   "source": [
    "8.\tWrite a Python program to print odd numbers in a List?"
   ]
  },
  {
   "cell_type": "code",
   "execution_count": 11,
   "id": "75f8070b",
   "metadata": {},
   "outputs": [
    {
     "name": "stdout",
     "output_type": "stream",
     "text": [
      "Odd numbers in the list are: [1, 3, 5, 7, 9]\n"
     ]
    }
   ],
   "source": [
    "def print_odd_numbers(input_list):\n",
    "    odd_numbers = [num for num in input_list if num % 2 != 0]\n",
    "    print(\"Odd numbers in the list are:\", odd_numbers)\n",
    "\n",
    "my_list = [1, 2, 3, 4, 5, 6, 7, 8, 9, 10]\n",
    "print_odd_numbers(my_list)"
   ]
  },
  {
   "cell_type": "raw",
   "id": "9a7da8e9",
   "metadata": {},
   "source": [
    "9.\tWrite a Python program to Remove empty List from List?"
   ]
  },
  {
   "cell_type": "code",
   "execution_count": 13,
   "id": "0048e4da",
   "metadata": {},
   "outputs": [
    {
     "name": "stdout",
     "output_type": "stream",
     "text": [
      "List after removing empty lists: [12, 3, 63, 8, 94]\n"
     ]
    }
   ],
   "source": [
    "def remove_empty_lists(input_list):\n",
    "    return [sublist for sublist in input_list if sublist]\n",
    "\n",
    "my_list = [12, [], 3, [], [], 63, [], 8, 94, []]\n",
    "result = remove_empty_lists(my_list)\n",
    "print(\"List after removing empty lists:\", result)"
   ]
  },
  {
   "cell_type": "raw",
   "id": "2c48c489",
   "metadata": {},
   "source": [
    "10.\tWrite a Python program to Cloning or Copying a list?"
   ]
  },
  {
   "cell_type": "code",
   "execution_count": 15,
   "id": "b87915d3",
   "metadata": {},
   "outputs": [],
   "source": [
    "original_list = [1, 2, 3, 4, 5]\n",
    "cloned_list = list(original_list)"
   ]
  },
  {
   "cell_type": "raw",
   "id": "f37636de",
   "metadata": {},
   "source": [
    "11.\tWrite a Python program to Count occurrences of an element in a list?"
   ]
  },
  {
   "cell_type": "code",
   "execution_count": 17,
   "id": "2c60948a",
   "metadata": {},
   "outputs": [
    {
     "name": "stdout",
     "output_type": "stream",
     "text": [
      "The element 2 occurs 5 times in the list\n"
     ]
    }
   ],
   "source": [
    "def count_occurrences(input_list, element):\n",
    "    return input_list.count(element)\n",
    "\n",
    "my_list = [1, 2, 3, 4, 2, 2, 5, 2, 34, 45, 2]\n",
    "element_to_count = 2\n",
    "occurrences = count_occurrences(my_list, element_to_count)\n",
    "print(f\"The element {element_to_count} occurs {occurrences} times in the list\")"
   ]
  },
  {
   "cell_type": "code",
   "execution_count": null,
   "id": "d3826440",
   "metadata": {},
   "outputs": [],
   "source": []
  },
  {
   "cell_type": "code",
   "execution_count": null,
   "id": "5900260e",
   "metadata": {},
   "outputs": [],
   "source": []
  }
 ],
 "metadata": {
  "kernelspec": {
   "display_name": "Python 3 (ipykernel)",
   "language": "python",
   "name": "python3"
  },
  "language_info": {
   "codemirror_mode": {
    "name": "ipython",
    "version": 3
   },
   "file_extension": ".py",
   "mimetype": "text/x-python",
   "name": "python",
   "nbconvert_exporter": "python",
   "pygments_lexer": "ipython3",
   "version": "3.9.13"
  }
 },
 "nbformat": 4,
 "nbformat_minor": 5
}
